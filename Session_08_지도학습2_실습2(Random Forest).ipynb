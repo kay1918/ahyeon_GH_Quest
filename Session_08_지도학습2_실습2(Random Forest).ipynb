{
 "cells": [
  {
   "cell_type": "markdown",
   "metadata": {
    "ExecuteTime": {
     "end_time": "2019-10-06T12:39:20.694846Z",
     "start_time": "2019-10-06T12:39:16.412369Z"
    },
    "_cell_guid": "b1076dfc-b9ad-4769-8c92-a6c4dae69d19",
    "_uuid": "8f2839f25d086af736a60e9eeb907d3b93b6e0e5",
    "colab_type": "text",
    "id": "c4ZJNRMyo3u5"
   },
   "source": [
    "# Session 08. 지도학습2\n",
    "## Random Foreset\n"
   ]
  },
  {
   "cell_type": "code",
   "execution_count": 25,
   "metadata": {
    "ExecuteTime": {
     "end_time": "2019-10-06T12:41:50.809910Z",
     "start_time": "2019-10-06T12:41:50.805921Z"
    },
    "colab": {},
    "colab_type": "code",
    "id": "fgrWB-7mo3u7"
   },
   "outputs": [],
   "source": [
    " import numpy as np \n",
    "import pandas as pd \n",
    "import os"
   ]
  },
  {
   "cell_type": "code",
   "execution_count": 26,
   "metadata": {
    "colab": {},
    "colab_type": "code",
    "id": "3uO24Lj2pzDf"
   },
   "outputs": [],
   "source": [
    "df = pd.read_csv(\"AB_NYC_2019.csv\")"
   ]
  },
  {
   "cell_type": "code",
   "execution_count": 27,
   "metadata": {
    "colab": {
     "base_uri": "https://localhost:8080/",
     "height": 864
    },
    "colab_type": "code",
    "executionInfo": {
     "elapsed": 1453,
     "status": "ok",
     "timestamp": 1584688168518,
     "user": {
      "displayName": "회장님",
      "photoUrl": "",
      "userId": "16814293870053642265"
     },
     "user_tz": -540
    },
    "id": "TBgqwrmvCiOk",
    "outputId": "f48c3ba7-2315-4513-ab8b-26aaf00623f1"
   },
   "outputs": [
    {
     "data": {
      "text/html": [
       "<div>\n",
       "<style scoped>\n",
       "    .dataframe tbody tr th:only-of-type {\n",
       "        vertical-align: middle;\n",
       "    }\n",
       "\n",
       "    .dataframe tbody tr th {\n",
       "        vertical-align: top;\n",
       "    }\n",
       "\n",
       "    .dataframe thead th {\n",
       "        text-align: right;\n",
       "    }\n",
       "</style>\n",
       "<table border=\"1\" class=\"dataframe\">\n",
       "  <thead>\n",
       "    <tr style=\"text-align: right;\">\n",
       "      <th></th>\n",
       "      <th>id</th>\n",
       "      <th>name</th>\n",
       "      <th>host_id</th>\n",
       "      <th>host_name</th>\n",
       "      <th>neighbourhood_group</th>\n",
       "      <th>neighbourhood</th>\n",
       "      <th>latitude</th>\n",
       "      <th>longitude</th>\n",
       "      <th>room_type</th>\n",
       "      <th>price</th>\n",
       "      <th>minimum_nights</th>\n",
       "      <th>number_of_reviews</th>\n",
       "      <th>last_review</th>\n",
       "      <th>reviews_per_month</th>\n",
       "      <th>calculated_host_listings_count</th>\n",
       "      <th>availability_365</th>\n",
       "    </tr>\n",
       "  </thead>\n",
       "  <tbody>\n",
       "    <tr>\n",
       "      <th>0</th>\n",
       "      <td>2539</td>\n",
       "      <td>Clean &amp; quiet apt home by the park</td>\n",
       "      <td>2787</td>\n",
       "      <td>John</td>\n",
       "      <td>Brooklyn</td>\n",
       "      <td>Kensington</td>\n",
       "      <td>40.64749</td>\n",
       "      <td>-73.97237</td>\n",
       "      <td>Private room</td>\n",
       "      <td>149</td>\n",
       "      <td>1</td>\n",
       "      <td>9</td>\n",
       "      <td>2018-10-19</td>\n",
       "      <td>0.21</td>\n",
       "      <td>6</td>\n",
       "      <td>365</td>\n",
       "    </tr>\n",
       "    <tr>\n",
       "      <th>1</th>\n",
       "      <td>2595</td>\n",
       "      <td>Skylit Midtown Castle</td>\n",
       "      <td>2845</td>\n",
       "      <td>Jennifer</td>\n",
       "      <td>Manhattan</td>\n",
       "      <td>Midtown</td>\n",
       "      <td>40.75362</td>\n",
       "      <td>-73.98377</td>\n",
       "      <td>Entire home/apt</td>\n",
       "      <td>225</td>\n",
       "      <td>1</td>\n",
       "      <td>45</td>\n",
       "      <td>2019-05-21</td>\n",
       "      <td>0.38</td>\n",
       "      <td>2</td>\n",
       "      <td>355</td>\n",
       "    </tr>\n",
       "    <tr>\n",
       "      <th>2</th>\n",
       "      <td>3647</td>\n",
       "      <td>THE VILLAGE OF HARLEM....NEW YORK !</td>\n",
       "      <td>4632</td>\n",
       "      <td>Elisabeth</td>\n",
       "      <td>Manhattan</td>\n",
       "      <td>Harlem</td>\n",
       "      <td>40.80902</td>\n",
       "      <td>-73.94190</td>\n",
       "      <td>Private room</td>\n",
       "      <td>150</td>\n",
       "      <td>3</td>\n",
       "      <td>0</td>\n",
       "      <td>NaN</td>\n",
       "      <td>NaN</td>\n",
       "      <td>1</td>\n",
       "      <td>365</td>\n",
       "    </tr>\n",
       "    <tr>\n",
       "      <th>3</th>\n",
       "      <td>3831</td>\n",
       "      <td>Cozy Entire Floor of Brownstone</td>\n",
       "      <td>4869</td>\n",
       "      <td>LisaRoxanne</td>\n",
       "      <td>Brooklyn</td>\n",
       "      <td>Clinton Hill</td>\n",
       "      <td>40.68514</td>\n",
       "      <td>-73.95976</td>\n",
       "      <td>Entire home/apt</td>\n",
       "      <td>89</td>\n",
       "      <td>1</td>\n",
       "      <td>270</td>\n",
       "      <td>2019-07-05</td>\n",
       "      <td>4.64</td>\n",
       "      <td>1</td>\n",
       "      <td>194</td>\n",
       "    </tr>\n",
       "    <tr>\n",
       "      <th>4</th>\n",
       "      <td>5022</td>\n",
       "      <td>Entire Apt: Spacious Studio/Loft by central park</td>\n",
       "      <td>7192</td>\n",
       "      <td>Laura</td>\n",
       "      <td>Manhattan</td>\n",
       "      <td>East Harlem</td>\n",
       "      <td>40.79851</td>\n",
       "      <td>-73.94399</td>\n",
       "      <td>Entire home/apt</td>\n",
       "      <td>80</td>\n",
       "      <td>10</td>\n",
       "      <td>9</td>\n",
       "      <td>2018-11-19</td>\n",
       "      <td>0.10</td>\n",
       "      <td>1</td>\n",
       "      <td>0</td>\n",
       "    </tr>\n",
       "    <tr>\n",
       "      <th>...</th>\n",
       "      <td>...</td>\n",
       "      <td>...</td>\n",
       "      <td>...</td>\n",
       "      <td>...</td>\n",
       "      <td>...</td>\n",
       "      <td>...</td>\n",
       "      <td>...</td>\n",
       "      <td>...</td>\n",
       "      <td>...</td>\n",
       "      <td>...</td>\n",
       "      <td>...</td>\n",
       "      <td>...</td>\n",
       "      <td>...</td>\n",
       "      <td>...</td>\n",
       "      <td>...</td>\n",
       "      <td>...</td>\n",
       "    </tr>\n",
       "    <tr>\n",
       "      <th>48890</th>\n",
       "      <td>36484665</td>\n",
       "      <td>Charming one bedroom - newly renovated rowhouse</td>\n",
       "      <td>8232441</td>\n",
       "      <td>Sabrina</td>\n",
       "      <td>Brooklyn</td>\n",
       "      <td>Bedford-Stuyvesant</td>\n",
       "      <td>40.67853</td>\n",
       "      <td>-73.94995</td>\n",
       "      <td>Private room</td>\n",
       "      <td>70</td>\n",
       "      <td>2</td>\n",
       "      <td>0</td>\n",
       "      <td>NaN</td>\n",
       "      <td>NaN</td>\n",
       "      <td>2</td>\n",
       "      <td>9</td>\n",
       "    </tr>\n",
       "    <tr>\n",
       "      <th>48891</th>\n",
       "      <td>36485057</td>\n",
       "      <td>Affordable room in Bushwick/East Williamsburg</td>\n",
       "      <td>6570630</td>\n",
       "      <td>Marisol</td>\n",
       "      <td>Brooklyn</td>\n",
       "      <td>Bushwick</td>\n",
       "      <td>40.70184</td>\n",
       "      <td>-73.93317</td>\n",
       "      <td>Private room</td>\n",
       "      <td>40</td>\n",
       "      <td>4</td>\n",
       "      <td>0</td>\n",
       "      <td>NaN</td>\n",
       "      <td>NaN</td>\n",
       "      <td>2</td>\n",
       "      <td>36</td>\n",
       "    </tr>\n",
       "    <tr>\n",
       "      <th>48892</th>\n",
       "      <td>36485431</td>\n",
       "      <td>Sunny Studio at Historical Neighborhood</td>\n",
       "      <td>23492952</td>\n",
       "      <td>Ilgar &amp; Aysel</td>\n",
       "      <td>Manhattan</td>\n",
       "      <td>Harlem</td>\n",
       "      <td>40.81475</td>\n",
       "      <td>-73.94867</td>\n",
       "      <td>Entire home/apt</td>\n",
       "      <td>115</td>\n",
       "      <td>10</td>\n",
       "      <td>0</td>\n",
       "      <td>NaN</td>\n",
       "      <td>NaN</td>\n",
       "      <td>1</td>\n",
       "      <td>27</td>\n",
       "    </tr>\n",
       "    <tr>\n",
       "      <th>48893</th>\n",
       "      <td>36485609</td>\n",
       "      <td>43rd St. Time Square-cozy single bed</td>\n",
       "      <td>30985759</td>\n",
       "      <td>Taz</td>\n",
       "      <td>Manhattan</td>\n",
       "      <td>Hell's Kitchen</td>\n",
       "      <td>40.75751</td>\n",
       "      <td>-73.99112</td>\n",
       "      <td>Shared room</td>\n",
       "      <td>55</td>\n",
       "      <td>1</td>\n",
       "      <td>0</td>\n",
       "      <td>NaN</td>\n",
       "      <td>NaN</td>\n",
       "      <td>6</td>\n",
       "      <td>2</td>\n",
       "    </tr>\n",
       "    <tr>\n",
       "      <th>48894</th>\n",
       "      <td>36487245</td>\n",
       "      <td>Trendy duplex in the very heart of Hell's Kitchen</td>\n",
       "      <td>68119814</td>\n",
       "      <td>Christophe</td>\n",
       "      <td>Manhattan</td>\n",
       "      <td>Hell's Kitchen</td>\n",
       "      <td>40.76404</td>\n",
       "      <td>-73.98933</td>\n",
       "      <td>Private room</td>\n",
       "      <td>90</td>\n",
       "      <td>7</td>\n",
       "      <td>0</td>\n",
       "      <td>NaN</td>\n",
       "      <td>NaN</td>\n",
       "      <td>1</td>\n",
       "      <td>23</td>\n",
       "    </tr>\n",
       "  </tbody>\n",
       "</table>\n",
       "<p>48895 rows × 16 columns</p>\n",
       "</div>"
      ],
      "text/plain": [
       "             id                                               name   host_id  \\\n",
       "0          2539                 Clean & quiet apt home by the park      2787   \n",
       "1          2595                              Skylit Midtown Castle      2845   \n",
       "2          3647                THE VILLAGE OF HARLEM....NEW YORK !      4632   \n",
       "3          3831                    Cozy Entire Floor of Brownstone      4869   \n",
       "4          5022   Entire Apt: Spacious Studio/Loft by central park      7192   \n",
       "...         ...                                                ...       ...   \n",
       "48890  36484665    Charming one bedroom - newly renovated rowhouse   8232441   \n",
       "48891  36485057      Affordable room in Bushwick/East Williamsburg   6570630   \n",
       "48892  36485431            Sunny Studio at Historical Neighborhood  23492952   \n",
       "48893  36485609               43rd St. Time Square-cozy single bed  30985759   \n",
       "48894  36487245  Trendy duplex in the very heart of Hell's Kitchen  68119814   \n",
       "\n",
       "           host_name neighbourhood_group       neighbourhood  latitude  \\\n",
       "0               John            Brooklyn          Kensington  40.64749   \n",
       "1           Jennifer           Manhattan             Midtown  40.75362   \n",
       "2          Elisabeth           Manhattan              Harlem  40.80902   \n",
       "3        LisaRoxanne            Brooklyn        Clinton Hill  40.68514   \n",
       "4              Laura           Manhattan         East Harlem  40.79851   \n",
       "...              ...                 ...                 ...       ...   \n",
       "48890        Sabrina            Brooklyn  Bedford-Stuyvesant  40.67853   \n",
       "48891        Marisol            Brooklyn            Bushwick  40.70184   \n",
       "48892  Ilgar & Aysel           Manhattan              Harlem  40.81475   \n",
       "48893            Taz           Manhattan      Hell's Kitchen  40.75751   \n",
       "48894     Christophe           Manhattan      Hell's Kitchen  40.76404   \n",
       "\n",
       "       longitude        room_type  price  minimum_nights  number_of_reviews  \\\n",
       "0      -73.97237     Private room    149               1                  9   \n",
       "1      -73.98377  Entire home/apt    225               1                 45   \n",
       "2      -73.94190     Private room    150               3                  0   \n",
       "3      -73.95976  Entire home/apt     89               1                270   \n",
       "4      -73.94399  Entire home/apt     80              10                  9   \n",
       "...          ...              ...    ...             ...                ...   \n",
       "48890  -73.94995     Private room     70               2                  0   \n",
       "48891  -73.93317     Private room     40               4                  0   \n",
       "48892  -73.94867  Entire home/apt    115              10                  0   \n",
       "48893  -73.99112      Shared room     55               1                  0   \n",
       "48894  -73.98933     Private room     90               7                  0   \n",
       "\n",
       "      last_review  reviews_per_month  calculated_host_listings_count  \\\n",
       "0      2018-10-19               0.21                               6   \n",
       "1      2019-05-21               0.38                               2   \n",
       "2             NaN                NaN                               1   \n",
       "3      2019-07-05               4.64                               1   \n",
       "4      2018-11-19               0.10                               1   \n",
       "...           ...                ...                             ...   \n",
       "48890         NaN                NaN                               2   \n",
       "48891         NaN                NaN                               2   \n",
       "48892         NaN                NaN                               1   \n",
       "48893         NaN                NaN                               6   \n",
       "48894         NaN                NaN                               1   \n",
       "\n",
       "       availability_365  \n",
       "0                   365  \n",
       "1                   355  \n",
       "2                   365  \n",
       "3                   194  \n",
       "4                     0  \n",
       "...                 ...  \n",
       "48890                 9  \n",
       "48891                36  \n",
       "48892                27  \n",
       "48893                 2  \n",
       "48894                23  \n",
       "\n",
       "[48895 rows x 16 columns]"
      ]
     },
     "execution_count": 27,
     "metadata": {},
     "output_type": "execute_result"
    }
   ],
   "source": [
    "df"
   ]
  },
  {
   "cell_type": "markdown",
   "metadata": {
    "colab_type": "text",
    "id": "IZ3pbp7wo3vB"
   },
   "source": [
    "뉴욕의 에어비엔비 데이터셋을 활용하여 방 타입, 숙박 가격, 최소숙박일수, 최근리뷰, 월 리뷰갯수 등으로부터 숙소의 위치를 알아내는 모델\n",
    "\n",
    "편의상 맨하튼, 브루클린의 숙소들로 범위를 좁혔습니다"
   ]
  },
  {
   "cell_type": "code",
   "execution_count": 28,
   "metadata": {
    "ExecuteTime": {
     "end_time": "2019-10-06T12:44:18.215974Z",
     "start_time": "2019-10-06T12:44:18.199019Z"
    },
    "colab": {
     "base_uri": "https://localhost:8080/",
     "height": 34
    },
    "colab_type": "code",
    "executionInfo": {
     "elapsed": 1199,
     "status": "ok",
     "timestamp": 1584688277731,
     "user": {
      "displayName": "회장님",
      "photoUrl": "",
      "userId": "16814293870053642265"
     },
     "user_tz": -540
    },
    "id": "ZaoDtADGo3vC",
    "outputId": "ca2afdfa-488e-4190-b911-5a51ca145c69"
   },
   "outputs": [
    {
     "data": {
      "text/plain": [
       "((48895, 16), (41765, 16))"
      ]
     },
     "execution_count": 28,
     "metadata": {},
     "output_type": "execute_result"
    }
   ],
   "source": [
    "# 브루클린, 맨하튼 숙소만 해볼거니까 이거만 추림\n",
    "our_set = df[df['neighbourhood_group'].isin(['Brooklyn', 'Manhattan'])]\n",
    "df.shape, our_set.shape,"
   ]
  },
  {
   "cell_type": "markdown",
   "metadata": {
    "colab_type": "text",
    "id": "Uwl2zEVGo3vI"
   },
   "source": [
    "### 전체적인 가격대 분포 살펴보기"
   ]
  },
  {
   "cell_type": "code",
   "execution_count": 29,
   "metadata": {
    "colab": {},
    "colab_type": "code",
    "id": "90Y8EKqoyFCV"
   },
   "outputs": [],
   "source": [
    "import matplotlib.pyplot as plt\n",
    "import seaborn as sns"
   ]
  },
  {
   "cell_type": "code",
   "execution_count": 30,
   "metadata": {
    "ExecuteTime": {
     "end_time": "2019-10-06T12:44:24.686953Z",
     "start_time": "2019-10-06T12:44:24.288596Z"
    },
    "colab": {
     "base_uri": "https://localhost:8080/",
     "height": 530
    },
    "colab_type": "code",
    "executionInfo": {
     "elapsed": 2115,
     "status": "ok",
     "timestamp": 1584688299209,
     "user": {
      "displayName": "회장님",
      "photoUrl": "",
      "userId": "16814293870053642265"
     },
     "user_tz": -540
    },
    "id": "exBPZ2H2o3vJ",
    "outputId": "90d78b86-59ad-4222-f789-5ed78942ddd8"
   },
   "outputs": [
    {
     "data": {
      "text/plain": [
       "Text(0, 0.5, 'Ratio')"
      ]
     },
     "execution_count": 30,
     "metadata": {},
     "output_type": "execute_result"
    },
    {
     "data": {
      "image/png": "[encoded data removed]",
      "text/plain": [
       "<Figure size 1080x576 with 1 Axes>"
      ]
     },
     "metadata": {
      "needs_background": "light"
     },
     "output_type": "display_data"
    }
   ],
   "source": [
    "plt.figure(figsize=(15,8))\n",
    "sns.distplot(our_set['price'])\n",
    "plt.title(\"Price per night\")\n",
    "plt.xlabel('Dollar Amount')\n",
    "plt.ylabel('Ratio')"
   ]
  },
  {
   "cell_type": "code",
   "execution_count": 31,
   "metadata": {
    "ExecuteTime": {
     "end_time": "2019-10-06T12:45:54.414573Z",
     "start_time": "2019-10-06T12:45:54.132223Z"
    },
    "colab": {
     "base_uri": "https://localhost:8080/",
     "height": 530
    },
    "colab_type": "code",
    "executionInfo": {
     "elapsed": 1853,
     "status": "ok",
     "timestamp": 1584688301595,
     "user": {
      "displayName": "회장님",
      "photoUrl": "",
      "userId": "16814293870053642265"
     },
     "user_tz": -540
    },
    "id": "5xcLismzo3vN",
    "outputId": "1bf6f4ee-e2c8-412a-eb24-1440fab98351"
   },
   "outputs": [
    {
     "data": {
      "text/plain": [
       "Text(0, 0.5, 'Ratio')"
      ]
     },
     "execution_count": 31,
     "metadata": {},
     "output_type": "execute_result"
    },
    {
     "data": {
      "image/png": "[encoded data removed]",
      "text/plain": [
       "<Figure size 1080x576 with 1 Axes>"
      ]
     },
     "metadata": {
      "needs_background": "light"
     },
     "output_type": "display_data"
    }
   ],
   "source": [
    "plt.figure(figsize=(15,8))\n",
    "sns.distplot(our_set[our_set['price']<=500]['price'])\n",
    "plt.title(\"Price per night\")\n",
    "plt.xlabel('Dollar Amount')\n",
    "plt.ylabel('Ratio')"
   ]
  },
  {
   "cell_type": "markdown",
   "metadata": {
    "colab_type": "text",
    "id": "65jeUi8Oo3vP"
   },
   "source": [
    "### 방 타입에는 어떤 것들이 있나..."
   ]
  },
  {
   "cell_type": "code",
   "execution_count": 32,
   "metadata": {
    "ExecuteTime": {
     "end_time": "2019-10-06T12:51:21.451989Z",
     "start_time": "2019-10-06T12:51:21.443046Z"
    },
    "colab": {
     "base_uri": "https://localhost:8080/",
     "height": 34
    },
    "colab_type": "code",
    "executionInfo": {
     "elapsed": 727,
     "status": "ok",
     "timestamp": 1584688302909,
     "user": {
      "displayName": "회장님",
      "photoUrl": "",
      "userId": "16814293870053642265"
     },
     "user_tz": -540
    },
    "id": "7x1n8bcto3vQ",
    "outputId": "6c44dd14-47ab-407c-f146-8d46a6c44040"
   },
   "outputs": [
    {
     "data": {
      "text/plain": [
       "{'Entire home/apt', 'Private room', 'Shared room'}"
      ]
     },
     "execution_count": 32,
     "metadata": {},
     "output_type": "execute_result"
    }
   ],
   "source": [
    "set(our_set['room_type'])"
   ]
  },
  {
   "cell_type": "markdown",
   "metadata": {
    "colab_type": "text",
    "id": "73fx1Cxzo3vV"
   },
   "source": [
    "### 원핫인코딩: 자연어를 기계가 알아들을 수 있게 수치로 변환\n",
    "성별이 M, F / 학생이 초/중/고/대 이런식으로 나누어져있으면 이걸 그대로 컬럼으로 놓고 기계한테 학습하라 할 수 없음 --> 숫자로 바꿔야함\n",
    "\n",
    "\n",
    "그러나 초/중/고/대를 1,2,3,4로 해버리기엔 무리가 있음. 대가 중보다 2배 더 크다? 라고 기계가 오해할 수 있다.\n",
    "\n",
    "\n",
    "그래서 원핫인코딩!\n",
    "\n",
    "\n",
    "학교라는 컬럼을 초/중/고/대로 넓힘. 초 이면 (1,0,0,0) / 대 이면 (0,0,0,1) 이런식으로. 서로 상관관계가 없다!"
   ]
  },
  {
   "cell_type": "markdown",
   "metadata": {
    "colab_type": "text",
    "id": "o-0HZ5wio3vY"
   },
   "source": [
    "### 룸 타입 역시 자연어로 되어있으므로, \"원핫인코딩\"을 통해 수치로 변환"
   ]
  },
  {
   "cell_type": "code",
   "execution_count": 33,
   "metadata": {
    "colab": {},
    "colab_type": "code",
    "id": "lZ-tBRpFMn-6"
   },
   "outputs": [
    {
     "data": {
      "text/html": [
       "<div>\n",
       "<style scoped>\n",
       "    .dataframe tbody tr th:only-of-type {\n",
       "        vertical-align: middle;\n",
       "    }\n",
       "\n",
       "    .dataframe tbody tr th {\n",
       "        vertical-align: top;\n",
       "    }\n",
       "\n",
       "    .dataframe thead th {\n",
       "        text-align: right;\n",
       "    }\n",
       "</style>\n",
       "<table border=\"1\" class=\"dataframe\">\n",
       "  <thead>\n",
       "    <tr style=\"text-align: right;\">\n",
       "      <th></th>\n",
       "      <th>Entire home/apt</th>\n",
       "      <th>Private room</th>\n",
       "      <th>Shared room</th>\n",
       "    </tr>\n",
       "  </thead>\n",
       "  <tbody>\n",
       "    <tr>\n",
       "      <th>0</th>\n",
       "      <td>0</td>\n",
       "      <td>1</td>\n",
       "      <td>0</td>\n",
       "    </tr>\n",
       "    <tr>\n",
       "      <th>1</th>\n",
       "      <td>1</td>\n",
       "      <td>0</td>\n",
       "      <td>0</td>\n",
       "    </tr>\n",
       "    <tr>\n",
       "      <th>2</th>\n",
       "      <td>0</td>\n",
       "      <td>1</td>\n",
       "      <td>0</td>\n",
       "    </tr>\n",
       "    <tr>\n",
       "      <th>3</th>\n",
       "      <td>1</td>\n",
       "      <td>0</td>\n",
       "      <td>0</td>\n",
       "    </tr>\n",
       "    <tr>\n",
       "      <th>4</th>\n",
       "      <td>1</td>\n",
       "      <td>0</td>\n",
       "      <td>0</td>\n",
       "    </tr>\n",
       "    <tr>\n",
       "      <th>...</th>\n",
       "      <td>...</td>\n",
       "      <td>...</td>\n",
       "      <td>...</td>\n",
       "    </tr>\n",
       "    <tr>\n",
       "      <th>48890</th>\n",
       "      <td>0</td>\n",
       "      <td>1</td>\n",
       "      <td>0</td>\n",
       "    </tr>\n",
       "    <tr>\n",
       "      <th>48891</th>\n",
       "      <td>0</td>\n",
       "      <td>1</td>\n",
       "      <td>0</td>\n",
       "    </tr>\n",
       "    <tr>\n",
       "      <th>48892</th>\n",
       "      <td>1</td>\n",
       "      <td>0</td>\n",
       "      <td>0</td>\n",
       "    </tr>\n",
       "    <tr>\n",
       "      <th>48893</th>\n",
       "      <td>0</td>\n",
       "      <td>0</td>\n",
       "      <td>1</td>\n",
       "    </tr>\n",
       "    <tr>\n",
       "      <th>48894</th>\n",
       "      <td>0</td>\n",
       "      <td>1</td>\n",
       "      <td>0</td>\n",
       "    </tr>\n",
       "  </tbody>\n",
       "</table>\n",
       "<p>41765 rows × 3 columns</p>\n",
       "</div>"
      ],
      "text/plain": [
       "       Entire home/apt  Private room  Shared room\n",
       "0                    0             1            0\n",
       "1                    1             0            0\n",
       "2                    0             1            0\n",
       "3                    1             0            0\n",
       "4                    1             0            0\n",
       "...                ...           ...          ...\n",
       "48890                0             1            0\n",
       "48891                0             1            0\n",
       "48892                1             0            0\n",
       "48893                0             0            1\n",
       "48894                0             1            0\n",
       "\n",
       "[41765 rows x 3 columns]"
      ]
     },
     "execution_count": 33,
     "metadata": {},
     "output_type": "execute_result"
    }
   ],
   "source": [
    "onehot = pd.get_dummies(our_set['room_type'])\n",
    "onehot"
   ]
  },
  {
   "cell_type": "code",
   "execution_count": 34,
   "metadata": {
    "ExecuteTime": {
     "end_time": "2019-10-06T12:51:24.584007Z",
     "start_time": "2019-10-06T12:51:24.555084Z"
    },
    "colab": {
     "base_uri": "https://localhost:8080/",
     "height": 204
    },
    "colab_type": "code",
    "executionInfo": {
     "elapsed": 1116,
     "status": "ok",
     "timestamp": 1584688342094,
     "user": {
      "displayName": "회장님",
      "photoUrl": "",
      "userId": "16814293870053642265"
     },
     "user_tz": -540
    },
    "id": "f9_G3x5io3va",
    "outputId": "07f58cae-ff05-4060-e51a-157a83e09667"
   },
   "outputs": [
    {
     "data": {
      "text/html": [
       "<div>\n",
       "<style scoped>\n",
       "    .dataframe tbody tr th:only-of-type {\n",
       "        vertical-align: middle;\n",
       "    }\n",
       "\n",
       "    .dataframe tbody tr th {\n",
       "        vertical-align: top;\n",
       "    }\n",
       "\n",
       "    .dataframe thead th {\n",
       "        text-align: right;\n",
       "    }\n",
       "</style>\n",
       "<table border=\"1\" class=\"dataframe\">\n",
       "  <thead>\n",
       "    <tr style=\"text-align: right;\">\n",
       "      <th></th>\n",
       "      <th>index</th>\n",
       "      <th>neighbourhood_group</th>\n",
       "      <th>price</th>\n",
       "      <th>minimum_nights</th>\n",
       "      <th>number_of_reviews</th>\n",
       "      <th>reviews_per_month</th>\n",
       "      <th>Entire home/apt</th>\n",
       "      <th>Private room</th>\n",
       "      <th>Shared room</th>\n",
       "    </tr>\n",
       "  </thead>\n",
       "  <tbody>\n",
       "    <tr>\n",
       "      <th>0</th>\n",
       "      <td>0</td>\n",
       "      <td>Brooklyn</td>\n",
       "      <td>149</td>\n",
       "      <td>1</td>\n",
       "      <td>9</td>\n",
       "      <td>0.21</td>\n",
       "      <td>0</td>\n",
       "      <td>1</td>\n",
       "      <td>0</td>\n",
       "    </tr>\n",
       "    <tr>\n",
       "      <th>1</th>\n",
       "      <td>1</td>\n",
       "      <td>Manhattan</td>\n",
       "      <td>225</td>\n",
       "      <td>1</td>\n",
       "      <td>45</td>\n",
       "      <td>0.38</td>\n",
       "      <td>1</td>\n",
       "      <td>0</td>\n",
       "      <td>0</td>\n",
       "    </tr>\n",
       "    <tr>\n",
       "      <th>2</th>\n",
       "      <td>2</td>\n",
       "      <td>Manhattan</td>\n",
       "      <td>150</td>\n",
       "      <td>3</td>\n",
       "      <td>0</td>\n",
       "      <td>NaN</td>\n",
       "      <td>0</td>\n",
       "      <td>1</td>\n",
       "      <td>0</td>\n",
       "    </tr>\n",
       "    <tr>\n",
       "      <th>3</th>\n",
       "      <td>3</td>\n",
       "      <td>Brooklyn</td>\n",
       "      <td>89</td>\n",
       "      <td>1</td>\n",
       "      <td>270</td>\n",
       "      <td>4.64</td>\n",
       "      <td>1</td>\n",
       "      <td>0</td>\n",
       "      <td>0</td>\n",
       "    </tr>\n",
       "    <tr>\n",
       "      <th>4</th>\n",
       "      <td>4</td>\n",
       "      <td>Manhattan</td>\n",
       "      <td>80</td>\n",
       "      <td>10</td>\n",
       "      <td>9</td>\n",
       "      <td>0.10</td>\n",
       "      <td>1</td>\n",
       "      <td>0</td>\n",
       "      <td>0</td>\n",
       "    </tr>\n",
       "  </tbody>\n",
       "</table>\n",
       "</div>"
      ],
      "text/plain": [
       "   index neighbourhood_group  price  minimum_nights  number_of_reviews  \\\n",
       "0      0            Brooklyn    149               1                  9   \n",
       "1      1           Manhattan    225               1                 45   \n",
       "2      2           Manhattan    150               3                  0   \n",
       "3      3            Brooklyn     89               1                270   \n",
       "4      4           Manhattan     80              10                  9   \n",
       "\n",
       "   reviews_per_month  Entire home/apt  Private room  Shared room  \n",
       "0               0.21                0             1            0  \n",
       "1               0.38                1             0            0  \n",
       "2                NaN                0             1            0  \n",
       "3               4.64                1             0            0  \n",
       "4               0.10                1             0            0  "
      ]
     },
     "execution_count": 34,
     "metadata": {},
     "output_type": "execute_result"
    }
   ],
   "source": [
    "# 핵심 컬럼만 뽑음 + 더미변수까지 결합\n",
    "core_cols = our_set[['neighbourhood_group', 'price', 'minimum_nights', 'number_of_reviews', 'reviews_per_month']]\n",
    "combined = core_cols.merge(onehot, left_index=True, right_index=True, how='left').reset_index()\n",
    "combined.head()"
   ]
  },
  {
   "cell_type": "markdown",
   "metadata": {
    "colab_type": "text",
    "id": "5_CAH9wCo3vc"
   },
   "source": [
    "###  결측치 제외"
   ]
  },
  {
   "cell_type": "code",
   "execution_count": 35,
   "metadata": {
    "ExecuteTime": {
     "end_time": "2019-10-06T12:51:25.604111Z",
     "start_time": "2019-10-06T12:51:25.578925Z"
    },
    "colab": {
     "base_uri": "https://localhost:8080/",
     "height": 34
    },
    "colab_type": "code",
    "executionInfo": {
     "elapsed": 759,
     "status": "ok",
     "timestamp": 1584688342555,
     "user": {
      "displayName": "회장님",
      "photoUrl": "",
      "userId": "16814293870053642265"
     },
     "user_tz": -540
    },
    "id": "MZHzUUTko3vd",
    "outputId": "3e7da1e2-d384-46e9-ab53-953041b96a8a"
   },
   "outputs": [
    {
     "data": {
      "text/plain": [
       "(33079, 8)"
      ]
     },
     "execution_count": 35,
     "metadata": {},
     "output_type": "execute_result"
    }
   ],
   "source": [
    "final = combined.drop(columns=['index']).dropna() # 인덱스가 중복되어있으므로 버리고, 편의상 na도 다 버림\n",
    "final.shape"
   ]
  },
  {
   "cell_type": "markdown",
   "metadata": {},
   "source": [
    "### 예측을 위해 Brooklyn = 0 / Manhattan = 1 로 인코딩"
   ]
  },
  {
   "cell_type": "code",
   "execution_count": 36,
   "metadata": {},
   "outputs": [],
   "source": [
    "final = final.replace('Brooklyn', 0).replace('Manhattan', 1)  # brooklyn은 0, manhattan은 1로 바꿈"
   ]
  },
  {
   "cell_type": "markdown",
   "metadata": {},
   "source": [
    "### 최종 데이터프레임"
   ]
  },
  {
   "cell_type": "code",
   "execution_count": 37,
   "metadata": {
    "ExecuteTime": {
     "end_time": "2019-10-06T12:51:27.283853Z",
     "start_time": "2019-10-06T12:51:27.269348Z"
    },
    "colab": {
     "base_uri": "https://localhost:8080/",
     "height": 419
    },
    "colab_type": "code",
    "executionInfo": {
     "elapsed": 603,
     "status": "ok",
     "timestamp": 1584688345030,
     "user": {
      "displayName": "회장님",
      "photoUrl": "",
      "userId": "16814293870053642265"
     },
     "user_tz": -540
    },
    "id": "HSIUc4gOo3vh",
    "outputId": "b81e2358-c357-4068-f8a6-74b2421ab6f0",
    "scrolled": true
   },
   "outputs": [
    {
     "data": {
      "text/html": [
       "<div>\n",
       "<style scoped>\n",
       "    .dataframe tbody tr th:only-of-type {\n",
       "        vertical-align: middle;\n",
       "    }\n",
       "\n",
       "    .dataframe tbody tr th {\n",
       "        vertical-align: top;\n",
       "    }\n",
       "\n",
       "    .dataframe thead th {\n",
       "        text-align: right;\n",
       "    }\n",
       "</style>\n",
       "<table border=\"1\" class=\"dataframe\">\n",
       "  <thead>\n",
       "    <tr style=\"text-align: right;\">\n",
       "      <th></th>\n",
       "      <th>neighbourhood_group</th>\n",
       "      <th>price</th>\n",
       "      <th>minimum_nights</th>\n",
       "      <th>number_of_reviews</th>\n",
       "      <th>reviews_per_month</th>\n",
       "      <th>Entire home/apt</th>\n",
       "      <th>Private room</th>\n",
       "      <th>Shared room</th>\n",
       "    </tr>\n",
       "  </thead>\n",
       "  <tbody>\n",
       "    <tr>\n",
       "      <th>0</th>\n",
       "      <td>0</td>\n",
       "      <td>149</td>\n",
       "      <td>1</td>\n",
       "      <td>9</td>\n",
       "      <td>0.21</td>\n",
       "      <td>0</td>\n",
       "      <td>1</td>\n",
       "      <td>0</td>\n",
       "    </tr>\n",
       "    <tr>\n",
       "      <th>1</th>\n",
       "      <td>1</td>\n",
       "      <td>225</td>\n",
       "      <td>1</td>\n",
       "      <td>45</td>\n",
       "      <td>0.38</td>\n",
       "      <td>1</td>\n",
       "      <td>0</td>\n",
       "      <td>0</td>\n",
       "    </tr>\n",
       "    <tr>\n",
       "      <th>3</th>\n",
       "      <td>0</td>\n",
       "      <td>89</td>\n",
       "      <td>1</td>\n",
       "      <td>270</td>\n",
       "      <td>4.64</td>\n",
       "      <td>1</td>\n",
       "      <td>0</td>\n",
       "      <td>0</td>\n",
       "    </tr>\n",
       "    <tr>\n",
       "      <th>4</th>\n",
       "      <td>1</td>\n",
       "      <td>80</td>\n",
       "      <td>10</td>\n",
       "      <td>9</td>\n",
       "      <td>0.10</td>\n",
       "      <td>1</td>\n",
       "      <td>0</td>\n",
       "      <td>0</td>\n",
       "    </tr>\n",
       "    <tr>\n",
       "      <th>5</th>\n",
       "      <td>1</td>\n",
       "      <td>200</td>\n",
       "      <td>3</td>\n",
       "      <td>74</td>\n",
       "      <td>0.59</td>\n",
       "      <td>1</td>\n",
       "      <td>0</td>\n",
       "      <td>0</td>\n",
       "    </tr>\n",
       "    <tr>\n",
       "      <th>...</th>\n",
       "      <td>...</td>\n",
       "      <td>...</td>\n",
       "      <td>...</td>\n",
       "      <td>...</td>\n",
       "      <td>...</td>\n",
       "      <td>...</td>\n",
       "      <td>...</td>\n",
       "      <td>...</td>\n",
       "    </tr>\n",
       "    <tr>\n",
       "      <th>41615</th>\n",
       "      <td>0</td>\n",
       "      <td>45</td>\n",
       "      <td>1</td>\n",
       "      <td>2</td>\n",
       "      <td>2.00</td>\n",
       "      <td>0</td>\n",
       "      <td>1</td>\n",
       "      <td>0</td>\n",
       "    </tr>\n",
       "    <tr>\n",
       "      <th>41638</th>\n",
       "      <td>1</td>\n",
       "      <td>150</td>\n",
       "      <td>4</td>\n",
       "      <td>1</td>\n",
       "      <td>1.00</td>\n",
       "      <td>1</td>\n",
       "      <td>0</td>\n",
       "      <td>0</td>\n",
       "    </tr>\n",
       "    <tr>\n",
       "      <th>41645</th>\n",
       "      <td>0</td>\n",
       "      <td>550</td>\n",
       "      <td>3</td>\n",
       "      <td>1</td>\n",
       "      <td>1.00</td>\n",
       "      <td>1</td>\n",
       "      <td>0</td>\n",
       "      <td>0</td>\n",
       "    </tr>\n",
       "    <tr>\n",
       "      <th>41679</th>\n",
       "      <td>1</td>\n",
       "      <td>129</td>\n",
       "      <td>1</td>\n",
       "      <td>1</td>\n",
       "      <td>1.00</td>\n",
       "      <td>0</td>\n",
       "      <td>1</td>\n",
       "      <td>0</td>\n",
       "    </tr>\n",
       "    <tr>\n",
       "      <th>41728</th>\n",
       "      <td>0</td>\n",
       "      <td>30</td>\n",
       "      <td>1</td>\n",
       "      <td>1</td>\n",
       "      <td>1.00</td>\n",
       "      <td>0</td>\n",
       "      <td>1</td>\n",
       "      <td>0</td>\n",
       "    </tr>\n",
       "  </tbody>\n",
       "</table>\n",
       "<p>33079 rows × 8 columns</p>\n",
       "</div>"
      ],
      "text/plain": [
       "       neighbourhood_group  price  minimum_nights  number_of_reviews  \\\n",
       "0                        0    149               1                  9   \n",
       "1                        1    225               1                 45   \n",
       "3                        0     89               1                270   \n",
       "4                        1     80              10                  9   \n",
       "5                        1    200               3                 74   \n",
       "...                    ...    ...             ...                ...   \n",
       "41615                    0     45               1                  2   \n",
       "41638                    1    150               4                  1   \n",
       "41645                    0    550               3                  1   \n",
       "41679                    1    129               1                  1   \n",
       "41728                    0     30               1                  1   \n",
       "\n",
       "       reviews_per_month  Entire home/apt  Private room  Shared room  \n",
       "0                   0.21                0             1            0  \n",
       "1                   0.38                1             0            0  \n",
       "3                   4.64                1             0            0  \n",
       "4                   0.10                1             0            0  \n",
       "5                   0.59                1             0            0  \n",
       "...                  ...              ...           ...          ...  \n",
       "41615               2.00                0             1            0  \n",
       "41638               1.00                1             0            0  \n",
       "41645               1.00                1             0            0  \n",
       "41679               1.00                0             1            0  \n",
       "41728               1.00                0             1            0  \n",
       "\n",
       "[33079 rows x 8 columns]"
      ]
     },
     "execution_count": 37,
     "metadata": {},
     "output_type": "execute_result"
    }
   ],
   "source": [
    "final"
   ]
  },
  {
   "cell_type": "code",
   "execution_count": 38,
   "metadata": {
    "colab": {
     "base_uri": "https://localhost:8080/",
     "height": 34
    },
    "colab_type": "code",
    "executionInfo": {
     "elapsed": 1206,
     "status": "ok",
     "timestamp": 1584688347976,
     "user": {
      "displayName": "회장님",
      "photoUrl": "",
      "userId": "16814293870053642265"
     },
     "user_tz": -540
    },
    "id": "7XNJsAL4o3vk",
    "outputId": "ac0cdf14-f5f8-42b1-d368-975e5b74b4e1"
   },
   "outputs": [
    {
     "name": "stdout",
     "output_type": "stream",
     "text": [
      "16447 16632 33079\n"
     ]
    }
   ],
   "source": [
    "bk = len(final[final['neighbourhood_group']==0])\n",
    "mh = len(final[final['neighbourhood_group']==1])\n",
    "tt = len(final)\n",
    "print(bk, mh, tt) # 브루클린 건은 16447, 맨하탄 건은 16632건, 총 33079건"
   ]
  },
  {
   "cell_type": "markdown",
   "metadata": {
    "colab_type": "text",
    "id": "RSu4Wbbto3vm"
   },
   "source": [
    "### 본격적인 모델링"
   ]
  },
  {
   "cell_type": "code",
   "execution_count": 50,
   "metadata": {
    "colab": {},
    "colab_type": "code",
    "id": "YRT80ohzyZeV"
   },
   "outputs": [],
   "source": [
    "import random\n",
    "random_seed = 777"
   ]
  },
  {
   "cell_type": "code",
   "execution_count": 51,
   "metadata": {
    "ExecuteTime": {
     "end_time": "2019-10-06T12:51:29.070731Z",
     "start_time": "2019-10-06T12:51:28.430090Z"
    },
    "colab": {},
    "colab_type": "code",
    "id": "HDGl_SgGo3vm"
   },
   "outputs": [],
   "source": [
    "### 랜덤 시드를 활용하여 트레인, 테스트셋 분리 / 3:1 비율로\n",
    "\n",
    "from sklearn.model_selection import train_test_split\n",
    "\n",
    "X_train, X_test, y_train, y_test = train_test_split(final[['price', 'minimum_nights', 'number_of_reviews', 'reviews_per_month']], final['neighbourhood_group'], \n",
    "                                                    test_size=0.25, random_state=random_seed)"
   ]
  },
  {
   "cell_type": "code",
   "execution_count": 1,
   "metadata": {
    "ExecuteTime": {
     "end_time": "2019-10-06T13:03:04.952956Z",
     "start_time": "2019-10-06T13:02:58.856147Z"
    },
    "colab": {
     "base_uri": "https://localhost:8080/",
     "height": 34
    },
    "colab_type": "code",
    "executionInfo": {
     "elapsed": 9396,
     "status": "ok",
     "timestamp": 1584688405527,
     "user": {
      "displayName": "회장님",
      "photoUrl": "",
      "userId": "16814293870053642265"
     },
     "user_tz": -540
    },
    "id": "BcHlXH5ao3vo",
    "outputId": "62e1864e-cbe9-449d-9d05-6540d7bc22b7"
   },
   "outputs": [
    {
     "ename": "NameError",
     "evalue": "name 'random_seed' is not defined",
     "output_type": "error",
     "traceback": [
      "\u001b[0;31m---------------------------------------------------------------------------\u001b[0m",
      "\u001b[0;31mNameError\u001b[0m                                 Traceback (most recent call last)",
      "\u001b[0;32m<ipython-input-1-9edecdbe8737>\u001b[0m in \u001b[0;36m<module>\u001b[0;34m\u001b[0m\n\u001b[1;32m      3\u001b[0m \u001b[0;32mfrom\u001b[0m \u001b[0msklearn\u001b[0m\u001b[0;34m.\u001b[0m\u001b[0mensemble\u001b[0m \u001b[0;32mimport\u001b[0m \u001b[0mRandomForestClassifier\u001b[0m\u001b[0;34m\u001b[0m\u001b[0;34m\u001b[0m\u001b[0m\n\u001b[1;32m      4\u001b[0m \u001b[0;34m\u001b[0m\u001b[0m\n\u001b[0;32m----> 5\u001b[0;31m \u001b[0mrf\u001b[0m \u001b[0;34m=\u001b[0m \u001b[0mRandomForestClassifier\u001b[0m\u001b[0;34m(\u001b[0m\u001b[0mn_estimators\u001b[0m\u001b[0;34m=\u001b[0m\u001b[0;36m10\u001b[0m\u001b[0;34m,\u001b[0m \u001b[0moob_score\u001b[0m\u001b[0;34m=\u001b[0m\u001b[0;32mTrue\u001b[0m\u001b[0;34m,\u001b[0m \u001b[0mrandom_state\u001b[0m\u001b[0;34m=\u001b[0m\u001b[0mrandom_seed\u001b[0m\u001b[0;34m)\u001b[0m \u001b[0;31m#n_estimators는 나무의 개수\u001b[0m\u001b[0;34m\u001b[0m\u001b[0;34m\u001b[0m\u001b[0m\n\u001b[0m\u001b[1;32m      6\u001b[0m \u001b[0;34m\u001b[0m\u001b[0m\n\u001b[1;32m      7\u001b[0m \u001b[0;31m### 학습 진행\u001b[0m\u001b[0;34m\u001b[0m\u001b[0;34m\u001b[0m\u001b[0;34m\u001b[0m\u001b[0m\n",
      "\u001b[0;31mNameError\u001b[0m: name 'random_seed' is not defined"
     ]
    }
   ],
   "source": [
    "### 랜덤포레스트 모델 수립, 대충 하이퍼 파라미터 제공\n",
    "import time\n",
    "from sklearn.ensemble import RandomForestClassifier\n",
    "\n",
    "rf = RandomForestClassifier(n_estimators=10, oob_score=True, random_state=random_seed) #n_estimators는 나무의 개수\n",
    "\n",
    "### 학습 진행\n",
    "\n",
    "t0 = time.time() # 학습 시작때 시간\n",
    "rf.fit(X_train, y_train)\n",
    "\n",
    "elapsed = time.time()-t0 # 학습 끝났을때 시간 - 학습 끝난 시간\n",
    "print(\"걸린시간은 {:.2f}초입니다.\".format(elapsed))"
   ]
  },
  {
   "cell_type": "code",
   "execution_count": null,
   "metadata": {
    "ExecuteTime": {
     "end_time": "2019-10-06T12:52:36.777179Z",
     "start_time": "2019-10-06T12:52:36.367183Z"
    },
    "colab": {
     "base_uri": "https://localhost:8080/",
     "height": 34
    },
    "colab_type": "code",
    "executionInfo": {
     "elapsed": 1220,
     "status": "ok",
     "timestamp": 1584688423331,
     "user": {
      "displayName": "회장님",
      "photoUrl": "",
      "userId": "16814293870053642265"
     },
     "user_tz": -540
    },
    "id": "EmHtEK0Oo3vq",
    "outputId": "3adfbc2d-2d9e-4d68-9e0a-7e553700c13b"
   },
   "outputs": [],
   "source": [
    "from sklearn.metrics import accuracy_score\n",
    "\n",
    "### 학습된 모델로 분류 예측\n",
    "prediction = rf.predict(X_test)\n",
    "### 채점\n",
    "accuracy = accuracy_score(y_test, prediction)\n",
    "### 성적 발표\n",
    "print(f'Mean accuracy score: {100*accuracy:.3}%')"
   ]
  },
  {
   "cell_type": "markdown",
   "metadata": {
    "colab_type": "text",
    "id": "8AEs7L8EyqzE"
   },
   "source": [
    "### Random Forest의 변수 중요도 파악\n"
   ]
  },
  {
   "cell_type": "code",
   "execution_count": 56,
   "metadata": {
    "colab": {
     "base_uri": "https://localhost:8080/",
     "height": 102
    },
    "colab_type": "code",
    "executionInfo": {
     "elapsed": 933,
     "status": "ok",
     "timestamp": 1584689205009,
     "user": {
      "displayName": "회장님",
      "photoUrl": "",
      "userId": "16814293870053642265"
     },
     "user_tz": -540
    },
    "id": "bXfBO0FUyu2P",
    "outputId": "dc0eb615-1e70-4d06-fa79-d931944c0c3e"
   },
   "outputs": [
    {
     "data": {
      "text/plain": [
       "reviews_per_month    0.343121\n",
       "price                0.320907\n",
       "number_of_reviews    0.229111\n",
       "minimum_nights       0.106861\n",
       "dtype: float64"
      ]
     },
     "execution_count": 56,
     "metadata": {},
     "output_type": "execute_result"
    }
   ],
   "source": [
    "best_cols_values = rf.feature_importances_\n",
    "\n",
    "best_cols = pd.Series(best_cols_values, index=X_train.columns)\n",
    "top20_cols = best_cols.sort_values(ascending=False)[:10]\n",
    "top20_cols                                         "
   ]
  },
  {
   "cell_type": "code",
   "execution_count": 57,
   "metadata": {
    "colab": {
     "base_uri": "https://localhost:8080/",
     "height": 483
    },
    "colab_type": "code",
    "executionInfo": {
     "elapsed": 1178,
     "status": "ok",
     "timestamp": 1584689205430,
     "user": {
      "displayName": "회장님",
      "photoUrl": "",
      "userId": "16814293870053642265"
     },
     "user_tz": -540
    },
    "id": "vDYkzuNKzLR0",
    "outputId": "c219b9a7-f0e8-4daa-a8e2-185bd4c16dbe"
   },
   "outputs": [
    {
     "data": {
      "image/png": "[encoded data removed]",
      "text/plain": [
       "<Figure size 576x576 with 1 Axes>"
      ]
     },
     "metadata": {
      "needs_background": "light"
     },
     "output_type": "display_data"
    }
   ],
   "source": [
    "# 변수중요도를 시각화해보자\n",
    "plt.figure(figsize=(8,8))\n",
    "sns.barplot(x=top20_cols, y=top20_cols.index)\n",
    "plt.show()"
   ]
  },
  {
   "cell_type": "markdown",
   "metadata": {
    "colab_type": "text",
    "id": "9USzsw7Uo3vv"
   },
   "source": [
    "# ★퀘스트★\n",
    "\n",
    "### 오늘 배운 모델들을 활용하여 (DT, SVM, XGBOOST / RF는 제외!!) 이보다 더 정교한 모델을 만들어보아요.\n",
    "### 목표는 정확도 > 63%\n",
    "\n",
    "(+추가)\n",
    "같은 모델이더라도, 하이퍼 파라미터를 바꿔가며 코드를 실행해보면 결과가 달라집니다. 예를 들어 RF에서 나무의 개수!\n",
    "\n",
    "또는 모델에 들어갈 x 변수를 더 늘리거나 줄여도 성능이 달라집니다.\n",
    "\n",
    "time 모듈을 활용하여 각 모델별로 걸리는 시간도 측정해보세요.\n",
    "\n",
    "모르는 게 있으면 질문해주세요!"
   ]
  }
 ],
 "metadata": {
  "colab": {
   "collapsed_sections": [],
   "name": "Session_08_지도학습2_RF.ipynb",
   "provenance": []
  },
  "kernelspec": {
   "display_name": "Python 3",
   "language": "python",
   "name": "python3"
  },
  "language_info": {
   "codemirror_mode": {
    "name": "ipython",
    "version": 3
   },
   "file_extension": ".py",
   "mimetype": "text/x-python",
   "name": "python",
   "nbconvert_exporter": "python",
   "pygments_lexer": "ipython3",
   "version": "3.7.4"
  }
 },
 "nbformat": 4,
 "nbformat_minor": 1
}
