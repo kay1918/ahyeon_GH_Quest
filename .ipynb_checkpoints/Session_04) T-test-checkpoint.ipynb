{
 "cells": [
  {
   "cell_type": "markdown",
   "metadata": {},
   "source": [
    "# T-test"
   ]
  },
  {
   "cell_type": "code",
   "execution_count": 13,
   "metadata": {
    "scrolled": true
   },
   "outputs": [
    {
     "data": {
      "text/html": [
       "<div>\n",
       "<style scoped>\n",
       "    .dataframe tbody tr th:only-of-type {\n",
       "        vertical-align: middle;\n",
       "    }\n",
       "\n",
       "    .dataframe tbody tr th {\n",
       "        vertical-align: top;\n",
       "    }\n",
       "\n",
       "    .dataframe thead th {\n",
       "        text-align: right;\n",
       "    }\n",
       "</style>\n",
       "<table border=\"1\" class=\"dataframe\">\n",
       "  <thead>\n",
       "    <tr style=\"text-align: right;\">\n",
       "      <th></th>\n",
       "      <th>start_date</th>\n",
       "      <th>end_date</th>\n",
       "      <th>start_hour</th>\n",
       "      <th>end_hour</th>\n",
       "      <th>trip_duration</th>\n",
       "      <th>start_station_id</th>\n",
       "      <th>start_station_name</th>\n",
       "      <th>start_station_latitude</th>\n",
       "      <th>start_station_longitude</th>\n",
       "      <th>end_station_id</th>\n",
       "      <th>end_station_name</th>\n",
       "      <th>end_station_latitude</th>\n",
       "      <th>end_station_longitude</th>\n",
       "      <th>bike_id</th>\n",
       "      <th>usertype</th>\n",
       "      <th>birth_year</th>\n",
       "      <th>gender</th>\n",
       "      <th>day_since_register</th>\n",
       "    </tr>\n",
       "  </thead>\n",
       "  <tbody>\n",
       "    <tr>\n",
       "      <th>0</th>\n",
       "      <td>2018-05-01</td>\n",
       "      <td>2018-05-01</td>\n",
       "      <td>4</td>\n",
       "      <td>4</td>\n",
       "      <td>390</td>\n",
       "      <td>3002</td>\n",
       "      <td>South End Ave &amp; Liberty St</td>\n",
       "      <td>40.711512</td>\n",
       "      <td>-74.015756</td>\n",
       "      <td>79</td>\n",
       "      <td>Franklin St &amp; W Broadway</td>\n",
       "      <td>40.719116</td>\n",
       "      <td>-74.006667</td>\n",
       "      <td>21105</td>\n",
       "      <td>Subscriber</td>\n",
       "      <td>1945</td>\n",
       "      <td>male</td>\n",
       "      <td>36</td>\n",
       "    </tr>\n",
       "    <tr>\n",
       "      <th>1</th>\n",
       "      <td>2018-05-01</td>\n",
       "      <td>2018-05-01</td>\n",
       "      <td>1</td>\n",
       "      <td>1</td>\n",
       "      <td>854</td>\n",
       "      <td>3611</td>\n",
       "      <td>Vernon Blvd &amp; 47 Rd</td>\n",
       "      <td>40.744907</td>\n",
       "      <td>-73.953457</td>\n",
       "      <td>3572</td>\n",
       "      <td>34 Ave &amp; 38 St</td>\n",
       "      <td>40.756913</td>\n",
       "      <td>-73.921631</td>\n",
       "      <td>32219</td>\n",
       "      <td>Subscriber</td>\n",
       "      <td>1998</td>\n",
       "      <td>male</td>\n",
       "      <td>29</td>\n",
       "    </tr>\n",
       "    <tr>\n",
       "      <th>2</th>\n",
       "      <td>2018-05-01</td>\n",
       "      <td>2018-05-01</td>\n",
       "      <td>4</td>\n",
       "      <td>4</td>\n",
       "      <td>526</td>\n",
       "      <td>515</td>\n",
       "      <td>W 43 St &amp; 10 Ave</td>\n",
       "      <td>40.760094</td>\n",
       "      <td>-73.994618</td>\n",
       "      <td>388</td>\n",
       "      <td>W 26 St &amp; 10 Ave</td>\n",
       "      <td>40.749718</td>\n",
       "      <td>-74.002950</td>\n",
       "      <td>33433</td>\n",
       "      <td>Subscriber</td>\n",
       "      <td>1954</td>\n",
       "      <td>male</td>\n",
       "      <td>55</td>\n",
       "    </tr>\n",
       "    <tr>\n",
       "      <th>3</th>\n",
       "      <td>2018-05-01</td>\n",
       "      <td>2018-05-01</td>\n",
       "      <td>3</td>\n",
       "      <td>3</td>\n",
       "      <td>885</td>\n",
       "      <td>3641</td>\n",
       "      <td>Broadway &amp; W 25 St</td>\n",
       "      <td>40.742869</td>\n",
       "      <td>-73.989186</td>\n",
       "      <td>336</td>\n",
       "      <td>Sullivan St &amp; Washington Sq</td>\n",
       "      <td>40.730477</td>\n",
       "      <td>-73.999061</td>\n",
       "      <td>32028</td>\n",
       "      <td>Subscriber</td>\n",
       "      <td>1963</td>\n",
       "      <td>male</td>\n",
       "      <td>32</td>\n",
       "    </tr>\n",
       "    <tr>\n",
       "      <th>4</th>\n",
       "      <td>2018-05-01</td>\n",
       "      <td>2018-05-01</td>\n",
       "      <td>1</td>\n",
       "      <td>1</td>\n",
       "      <td>324</td>\n",
       "      <td>3440</td>\n",
       "      <td>Fulton St &amp; Adams St</td>\n",
       "      <td>40.692418</td>\n",
       "      <td>-73.989495</td>\n",
       "      <td>3308</td>\n",
       "      <td>Kane St &amp; Clinton St</td>\n",
       "      <td>40.686176</td>\n",
       "      <td>-73.996453</td>\n",
       "      <td>26425</td>\n",
       "      <td>Subscriber</td>\n",
       "      <td>1965</td>\n",
       "      <td>male</td>\n",
       "      <td>34</td>\n",
       "    </tr>\n",
       "    <tr>\n",
       "      <th>...</th>\n",
       "      <td>...</td>\n",
       "      <td>...</td>\n",
       "      <td>...</td>\n",
       "      <td>...</td>\n",
       "      <td>...</td>\n",
       "      <td>...</td>\n",
       "      <td>...</td>\n",
       "      <td>...</td>\n",
       "      <td>...</td>\n",
       "      <td>...</td>\n",
       "      <td>...</td>\n",
       "      <td>...</td>\n",
       "      <td>...</td>\n",
       "      <td>...</td>\n",
       "      <td>...</td>\n",
       "      <td>...</td>\n",
       "      <td>...</td>\n",
       "      <td>...</td>\n",
       "    </tr>\n",
       "    <tr>\n",
       "      <th>72030</th>\n",
       "      <td>2018-05-01</td>\n",
       "      <td>2018-05-01</td>\n",
       "      <td>23</td>\n",
       "      <td>23</td>\n",
       "      <td>207</td>\n",
       "      <td>3452</td>\n",
       "      <td>Bayard St &amp; Leonard St</td>\n",
       "      <td>40.719156</td>\n",
       "      <td>-73.948854</td>\n",
       "      <td>3107</td>\n",
       "      <td>Bedford Ave &amp; Nassau Ave</td>\n",
       "      <td>40.723117</td>\n",
       "      <td>-73.952123</td>\n",
       "      <td>16883</td>\n",
       "      <td>Subscriber</td>\n",
       "      <td>1994</td>\n",
       "      <td>female</td>\n",
       "      <td>12</td>\n",
       "    </tr>\n",
       "    <tr>\n",
       "      <th>72031</th>\n",
       "      <td>2018-05-01</td>\n",
       "      <td>2018-05-01</td>\n",
       "      <td>23</td>\n",
       "      <td>23</td>\n",
       "      <td>356</td>\n",
       "      <td>151</td>\n",
       "      <td>Cleveland Pl &amp; Spring St</td>\n",
       "      <td>40.722104</td>\n",
       "      <td>-73.997249</td>\n",
       "      <td>319</td>\n",
       "      <td>Fulton St &amp; Broadway</td>\n",
       "      <td>40.711066</td>\n",
       "      <td>-74.009447</td>\n",
       "      <td>17406</td>\n",
       "      <td>Subscriber</td>\n",
       "      <td>1994</td>\n",
       "      <td>male</td>\n",
       "      <td>21</td>\n",
       "    </tr>\n",
       "    <tr>\n",
       "      <th>72032</th>\n",
       "      <td>2018-05-01</td>\n",
       "      <td>2018-05-01</td>\n",
       "      <td>22</td>\n",
       "      <td>23</td>\n",
       "      <td>516</td>\n",
       "      <td>526</td>\n",
       "      <td>E 33 St &amp; 5 Ave</td>\n",
       "      <td>40.747659</td>\n",
       "      <td>-73.984907</td>\n",
       "      <td>435</td>\n",
       "      <td>W 21 St &amp; 6 Ave</td>\n",
       "      <td>40.741740</td>\n",
       "      <td>-73.994156</td>\n",
       "      <td>29964</td>\n",
       "      <td>Subscriber</td>\n",
       "      <td>1975</td>\n",
       "      <td>male</td>\n",
       "      <td>37</td>\n",
       "    </tr>\n",
       "    <tr>\n",
       "      <th>72033</th>\n",
       "      <td>2018-05-01</td>\n",
       "      <td>2018-05-01</td>\n",
       "      <td>22</td>\n",
       "      <td>23</td>\n",
       "      <td>427</td>\n",
       "      <td>379</td>\n",
       "      <td>W 31 St &amp; 7 Ave</td>\n",
       "      <td>40.749156</td>\n",
       "      <td>-73.991600</td>\n",
       "      <td>477</td>\n",
       "      <td>W 41 St &amp; 8 Ave</td>\n",
       "      <td>40.756405</td>\n",
       "      <td>-73.990026</td>\n",
       "      <td>20511</td>\n",
       "      <td>Subscriber</td>\n",
       "      <td>1972</td>\n",
       "      <td>male</td>\n",
       "      <td>14</td>\n",
       "    </tr>\n",
       "    <tr>\n",
       "      <th>72034</th>\n",
       "      <td>2018-05-01</td>\n",
       "      <td>2018-05-01</td>\n",
       "      <td>23</td>\n",
       "      <td>23</td>\n",
       "      <td>417</td>\n",
       "      <td>445</td>\n",
       "      <td>E 10 St &amp; Avenue A</td>\n",
       "      <td>40.727408</td>\n",
       "      <td>-73.981420</td>\n",
       "      <td>285</td>\n",
       "      <td>Broadway &amp; E 14 St</td>\n",
       "      <td>40.734546</td>\n",
       "      <td>-73.990741</td>\n",
       "      <td>17772</td>\n",
       "      <td>Subscriber</td>\n",
       "      <td>1993</td>\n",
       "      <td>male</td>\n",
       "      <td>11</td>\n",
       "    </tr>\n",
       "  </tbody>\n",
       "</table>\n",
       "<p>72035 rows × 18 columns</p>\n",
       "</div>"
      ],
      "text/plain": [
       "       start_date    end_date  start_hour  end_hour  trip_duration  \\\n",
       "0      2018-05-01  2018-05-01           4         4            390   \n",
       "1      2018-05-01  2018-05-01           1         1            854   \n",
       "2      2018-05-01  2018-05-01           4         4            526   \n",
       "3      2018-05-01  2018-05-01           3         3            885   \n",
       "4      2018-05-01  2018-05-01           1         1            324   \n",
       "...           ...         ...         ...       ...            ...   \n",
       "72030  2018-05-01  2018-05-01          23        23            207   \n",
       "72031  2018-05-01  2018-05-01          23        23            356   \n",
       "72032  2018-05-01  2018-05-01          22        23            516   \n",
       "72033  2018-05-01  2018-05-01          22        23            427   \n",
       "72034  2018-05-01  2018-05-01          23        23            417   \n",
       "\n",
       "       start_station_id          start_station_name  start_station_latitude  \\\n",
       "0                  3002  South End Ave & Liberty St               40.711512   \n",
       "1                  3611         Vernon Blvd & 47 Rd               40.744907   \n",
       "2                   515            W 43 St & 10 Ave               40.760094   \n",
       "3                  3641          Broadway & W 25 St               40.742869   \n",
       "4                  3440        Fulton St & Adams St               40.692418   \n",
       "...                 ...                         ...                     ...   \n",
       "72030              3452      Bayard St & Leonard St               40.719156   \n",
       "72031               151    Cleveland Pl & Spring St               40.722104   \n",
       "72032               526             E 33 St & 5 Ave               40.747659   \n",
       "72033               379             W 31 St & 7 Ave               40.749156   \n",
       "72034               445          E 10 St & Avenue A               40.727408   \n",
       "\n",
       "       start_station_longitude  end_station_id             end_station_name  \\\n",
       "0                   -74.015756              79     Franklin St & W Broadway   \n",
       "1                   -73.953457            3572               34 Ave & 38 St   \n",
       "2                   -73.994618             388             W 26 St & 10 Ave   \n",
       "3                   -73.989186             336  Sullivan St & Washington Sq   \n",
       "4                   -73.989495            3308         Kane St & Clinton St   \n",
       "...                        ...             ...                          ...   \n",
       "72030               -73.948854            3107     Bedford Ave & Nassau Ave   \n",
       "72031               -73.997249             319         Fulton St & Broadway   \n",
       "72032               -73.984907             435              W 21 St & 6 Ave   \n",
       "72033               -73.991600             477              W 41 St & 8 Ave   \n",
       "72034               -73.981420             285           Broadway & E 14 St   \n",
       "\n",
       "       end_station_latitude  end_station_longitude  bike_id    usertype  \\\n",
       "0                 40.719116             -74.006667    21105  Subscriber   \n",
       "1                 40.756913             -73.921631    32219  Subscriber   \n",
       "2                 40.749718             -74.002950    33433  Subscriber   \n",
       "3                 40.730477             -73.999061    32028  Subscriber   \n",
       "4                 40.686176             -73.996453    26425  Subscriber   \n",
       "...                     ...                    ...      ...         ...   \n",
       "72030             40.723117             -73.952123    16883  Subscriber   \n",
       "72031             40.711066             -74.009447    17406  Subscriber   \n",
       "72032             40.741740             -73.994156    29964  Subscriber   \n",
       "72033             40.756405             -73.990026    20511  Subscriber   \n",
       "72034             40.734546             -73.990741    17772  Subscriber   \n",
       "\n",
       "       birth_year  gender  day_since_register  \n",
       "0            1945    male                  36  \n",
       "1            1998    male                  29  \n",
       "2            1954    male                  55  \n",
       "3            1963    male                  32  \n",
       "4            1965    male                  34  \n",
       "...           ...     ...                 ...  \n",
       "72030        1994  female                  12  \n",
       "72031        1994    male                  21  \n",
       "72032        1975    male                  37  \n",
       "72033        1972    male                  14  \n",
       "72034        1993    male                  11  \n",
       "\n",
       "[72035 rows x 18 columns]"
      ]
     },
     "execution_count": 13,
     "metadata": {},
     "output_type": "execute_result"
    }
   ],
   "source": [
    "import pandas as pd\n",
    "from scipy import stats # 통계 모듈 불러오기\n",
    "import numpy as np\n",
    "\n",
    "data = pd.read_csv(\"nyc_citibike.csv\")\n",
    "data"
   ]
  },
  {
   "cell_type": "markdown",
   "metadata": {},
   "source": [
    "## 단일 표본 T-test \n",
    "\n",
    "전체 데이터를 모집단으로 여기고, 30개의 표본을 추출해 모평균에 대한 단일 표본 T-test 를 진행해보자"
   ]
  },
  {
   "cell_type": "code",
   "execution_count": 14,
   "metadata": {},
   "outputs": [
    {
     "name": "stdout",
     "output_type": "stream",
     "text": [
      "평균 : 1046.7510515721524 표준 편차 : 8139.699710992532\n"
     ]
    }
   ],
   "source": [
    "# trip_duration의 평균, 표준편차\n",
    "\n",
    "avg = data['trip_duration'].mean()\n",
    "std = data['trip_duration'].std()\n",
    "print('평균 :',avg,'표준 편차 :',std)"
   ]
  },
  {
   "cell_type": "markdown",
   "metadata": {},
   "source": [
    "### H0: $\\mu$ = 1046 , n=30"
   ]
  },
  {
   "cell_type": "code",
   "execution_count": 15,
   "metadata": {},
   "outputs": [],
   "source": [
    "# 랜덤하게 30개의 난수를 추출\n",
    "\n",
    "np.random.seed(1)\n",
    "trip_duration = data.trip_duration\n",
    "trip_duration = np.array(trip_duration)\n",
    "rand_30 = np.random.choice(trip_duration, 30) "
   ]
  },
  {
   "cell_type": "code",
   "execution_count": 16,
   "metadata": {},
   "outputs": [
    {
     "name": "stdout",
     "output_type": "stream",
     "text": [
      "T-statistic : -0.681  p-value : 0.501\n"
     ]
    }
   ],
   "source": [
    "#단일 표본 t-test \n",
    "\n",
    "tTestResult= stats.ttest_1samp(rand_30,1046) #stats.ttest_1samp -> 단일 표본 ttest\n",
    "print(\"T-statistic : %.3f  p-value : %.3f\" % tTestResult)"
   ]
  },
  {
   "cell_type": "markdown",
   "metadata": {},
   "source": [
    "#### p-value 가 0.05보다 월등히 크므로 H0 를 기각할 수 없다. 즉, 모평균은 1046이다. "
   ]
  },
  {
   "cell_type": "markdown",
   "metadata": {},
   "source": [
    "# 독립 표본 T-test\n",
    "전체 데이터를 모집단으로 여기고,독립 표본 T-test 를 진행해보자.  \n",
    "사람들이 자전거를 대여하는 장소와 반납하는 장소가 비슷한지 알아보기 위해   \n",
    "대여하는 장소의 위도의 평균이 반납하는 장소의 위도의 평균과 같은지 30개의 표본으로 검정해보자. "
   ]
  },
  {
   "cell_type": "code",
   "execution_count": 17,
   "metadata": {},
   "outputs": [
    {
     "name": "stdout",
     "output_type": "stream",
     "text": [
      "40.73858673460289 40.738291793803405\n"
     ]
    }
   ],
   "source": [
    "a = data['start_station_latitude'].mean()\n",
    "b = data['end_station_latitude'].mean()\n",
    "print(a,b)"
   ]
  },
  {
   "cell_type": "markdown",
   "metadata": {},
   "source": [
    "### H0: $\\mu_x=\\mu_y$"
   ]
  },
  {
   "cell_type": "code",
   "execution_count": 18,
   "metadata": {},
   "outputs": [
    {
     "name": "stdout",
     "output_type": "stream",
     "text": [
      "두 집단의 분산이 같을 때 t-statistic: -0.585 p-value : 0.561.\n",
      "두 집단의 분산이 다를 때 t-statistic: -0.585 p-value : 0.561.\n"
     ]
    }
   ],
   "source": [
    "#독립 표본 t-검정\n",
    "np.random.seed(2)\n",
    "\n",
    "group1 = np.random.choice(trip_duration, 30) \n",
    "group2 = np.random.choice(trip_duration, 30) \n",
    "\n",
    "#두 집단의 분산이 같을 때의 결과\n",
    "tTestResult= stats.ttest_ind(group1, group2)\n",
    " \n",
    "#두 집단의 분산이 다를 때의 결과\n",
    "tTestResultDiffVar= stats.ttest_ind(group1, group2, equal_var=False)\n",
    " \n",
    "print(\"두 집단의 분산이 같을 때 t-statistic: %.3f p-value : %.3f.\" % tTestResult)\n",
    "print(\"두 집단의 분산이 다를 때 t-statistic: %.3f p-value : %.3f.\"  % tTestResultDiffVar)\n"
   ]
  },
  {
   "cell_type": "markdown",
   "metadata": {},
   "source": [
    ">* 모집단의 분산이 같을 때와 같지 않을 때 구분해서 사용해야합니다!  \n",
    "구분하는 방법을 지금 다루지 않을 거라 두 경우의 코드를 모두 보려드렸어요.\n",
    "#### p-value 가 0.05 보다 월등히 크기 떄문에 귀무가설을 기각할 수 없다. 즉, 대여 지점 과 반납 지점의 평균이 같다."
   ]
  },
  {
   "cell_type": "markdown",
   "metadata": {},
   "source": [
    "# 대응 표본 T-test\n",
    "\n",
    "nyc citibike 회사에서 자전거 대여 요금 할인 이벤트를 진행했다고 한다.  \n",
    "이벤트 이후 사람들의 대여시간이 달라졌는지 알아보자.  \n",
    "(이벤트 외의 다른 모든 조건은 동일하다고 가정한다.)"
   ]
  },
  {
   "cell_type": "code",
   "execution_count": 19,
   "metadata": {},
   "outputs": [
    {
     "data": {
      "text/html": [
       "<div>\n",
       "<style scoped>\n",
       "    .dataframe tbody tr th:only-of-type {\n",
       "        vertical-align: middle;\n",
       "    }\n",
       "\n",
       "    .dataframe tbody tr th {\n",
       "        vertical-align: top;\n",
       "    }\n",
       "\n",
       "    .dataframe thead th {\n",
       "        text-align: right;\n",
       "    }\n",
       "</style>\n",
       "<table border=\"1\" class=\"dataframe\">\n",
       "  <thead>\n",
       "    <tr style=\"text-align: right;\">\n",
       "      <th></th>\n",
       "      <th>id</th>\n",
       "      <th>trip_duration_before</th>\n",
       "      <th>trip_duration_after</th>\n",
       "    </tr>\n",
       "  </thead>\n",
       "  <tbody>\n",
       "    <tr>\n",
       "      <th>0</th>\n",
       "      <td>1</td>\n",
       "      <td>301.728750</td>\n",
       "      <td>405.901958</td>\n",
       "    </tr>\n",
       "    <tr>\n",
       "      <th>1</th>\n",
       "      <td>2</td>\n",
       "      <td>304.366383</td>\n",
       "      <td>458.114289</td>\n",
       "    </tr>\n",
       "    <tr>\n",
       "      <th>2</th>\n",
       "      <td>3</td>\n",
       "      <td>373.389837</td>\n",
       "      <td>533.215894</td>\n",
       "    </tr>\n",
       "    <tr>\n",
       "      <th>3</th>\n",
       "      <td>4</td>\n",
       "      <td>391.290559</td>\n",
       "      <td>576.666999</td>\n",
       "    </tr>\n",
       "    <tr>\n",
       "      <th>4</th>\n",
       "      <td>5</td>\n",
       "      <td>396.624250</td>\n",
       "      <td>585.691675</td>\n",
       "    </tr>\n",
       "  </tbody>\n",
       "</table>\n",
       "</div>"
      ],
      "text/plain": [
       "   id  trip_duration_before  trip_duration_after\n",
       "0   1            301.728750           405.901958\n",
       "1   2            304.366383           458.114289\n",
       "2   3            373.389837           533.215894\n",
       "3   4            391.290559           576.666999\n",
       "4   5            396.624250           585.691675"
      ]
     },
     "execution_count": 19,
     "metadata": {},
     "output_type": "execute_result"
    }
   ],
   "source": [
    "data = pd.read_csv('event_effect.csv')\n",
    "data.head()"
   ]
  },
  {
   "cell_type": "markdown",
   "metadata": {},
   "source": [
    "### H0: $\\mu_d=0$"
   ]
  },
  {
   "cell_type": "code",
   "execution_count": 20,
   "metadata": {},
   "outputs": [
    {
     "data": {
      "text/plain": [
       "Ttest_relResult(statistic=-84.87014559504613, pvalue=1.0876472817241415e-298)"
      ]
     },
     "execution_count": 20,
     "metadata": {},
     "output_type": "execute_result"
    }
   ],
   "source": [
    "stats.ttest_rel(data['trip_duration_before'],data['trip_duration_after'])"
   ]
  },
  {
   "cell_type": "markdown",
   "metadata": {},
   "source": [
    "#### p-value 가 0.05보다 작기 떄문에 귀무가설을 기각한다. 즉, 할인 이벤트 전후로 대여 시간에 차이가 있다."
   ]
  }
 ],
 "metadata": {
  "kernelspec": {
   "display_name": "Python 3",
   "language": "python",
   "name": "python3"
  },
  "language_info": {
   "codemirror_mode": {
    "name": "ipython",
    "version": 3
   },
   "file_extension": ".py",
   "mimetype": "text/x-python",
   "name": "python",
   "nbconvert_exporter": "python",
   "pygments_lexer": "ipython3",
   "version": "3.7.4"
  }
 },
 "nbformat": 4,
 "nbformat_minor": 2
}
