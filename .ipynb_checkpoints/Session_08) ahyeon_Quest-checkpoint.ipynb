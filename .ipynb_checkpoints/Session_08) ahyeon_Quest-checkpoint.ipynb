{
 "cells": [
  {
   "cell_type": "markdown",
   "metadata": {},
   "source": [
    "# DT"
   ]
  },
  {
   "cell_type": "code",
   "execution_count": 1,
   "metadata": {},
   "outputs": [
    {
     "data": {
      "text/plain": [
       "{'data': array([[5.1, 3.5, 1.4, 0.2],\n",
       "        [4.9, 3. , 1.4, 0.2],\n",
       "        [4.7, 3.2, 1.3, 0.2],\n",
       "        [4.6, 3.1, 1.5, 0.2],\n",
       "        [5. , 3.6, 1.4, 0.2],\n",
       "        [5.4, 3.9, 1.7, 0.4],\n",
       "        [4.6, 3.4, 1.4, 0.3],\n",
       "        [5. , 3.4, 1.5, 0.2],\n",
       "        [4.4, 2.9, 1.4, 0.2],\n",
       "        [4.9, 3.1, 1.5, 0.1],\n",
       "        [5.4, 3.7, 1.5, 0.2],\n",
       "        [4.8, 3.4, 1.6, 0.2],\n",
       "        [4.8, 3. , 1.4, 0.1],\n",
       "        [4.3, 3. , 1.1, 0.1],\n",
       "        [5.8, 4. , 1.2, 0.2],\n",
       "        [5.7, 4.4, 1.5, 0.4],\n",
       "        [5.4, 3.9, 1.3, 0.4],\n",
       "        [5.1, 3.5, 1.4, 0.3],\n",
       "        [5.7, 3.8, 1.7, 0.3],\n",
       "        [5.1, 3.8, 1.5, 0.3],\n",
       "        [5.4, 3.4, 1.7, 0.2],\n",
       "        [5.1, 3.7, 1.5, 0.4],\n",
       "        [4.6, 3.6, 1. , 0.2],\n",
       "        [5.1, 3.3, 1.7, 0.5],\n",
       "        [4.8, 3.4, 1.9, 0.2],\n",
       "        [5. , 3. , 1.6, 0.2],\n",
       "        [5. , 3.4, 1.6, 0.4],\n",
       "        [5.2, 3.5, 1.5, 0.2],\n",
       "        [5.2, 3.4, 1.4, 0.2],\n",
       "        [4.7, 3.2, 1.6, 0.2],\n",
       "        [4.8, 3.1, 1.6, 0.2],\n",
       "        [5.4, 3.4, 1.5, 0.4],\n",
       "        [5.2, 4.1, 1.5, 0.1],\n",
       "        [5.5, 4.2, 1.4, 0.2],\n",
       "        [4.9, 3.1, 1.5, 0.2],\n",
       "        [5. , 3.2, 1.2, 0.2],\n",
       "        [5.5, 3.5, 1.3, 0.2],\n",
       "        [4.9, 3.6, 1.4, 0.1],\n",
       "        [4.4, 3. , 1.3, 0.2],\n",
       "        [5.1, 3.4, 1.5, 0.2],\n",
       "        [5. , 3.5, 1.3, 0.3],\n",
       "        [4.5, 2.3, 1.3, 0.3],\n",
       "        [4.4, 3.2, 1.3, 0.2],\n",
       "        [5. , 3.5, 1.6, 0.6],\n",
       "        [5.1, 3.8, 1.9, 0.4],\n",
       "        [4.8, 3. , 1.4, 0.3],\n",
       "        [5.1, 3.8, 1.6, 0.2],\n",
       "        [4.6, 3.2, 1.4, 0.2],\n",
       "        [5.3, 3.7, 1.5, 0.2],\n",
       "        [5. , 3.3, 1.4, 0.2],\n",
       "        [7. , 3.2, 4.7, 1.4],\n",
       "        [6.4, 3.2, 4.5, 1.5],\n",
       "        [6.9, 3.1, 4.9, 1.5],\n",
       "        [5.5, 2.3, 4. , 1.3],\n",
       "        [6.5, 2.8, 4.6, 1.5],\n",
       "        [5.7, 2.8, 4.5, 1.3],\n",
       "        [6.3, 3.3, 4.7, 1.6],\n",
       "        [4.9, 2.4, 3.3, 1. ],\n",
       "        [6.6, 2.9, 4.6, 1.3],\n",
       "        [5.2, 2.7, 3.9, 1.4],\n",
       "        [5. , 2. , 3.5, 1. ],\n",
       "        [5.9, 3. , 4.2, 1.5],\n",
       "        [6. , 2.2, 4. , 1. ],\n",
       "        [6.1, 2.9, 4.7, 1.4],\n",
       "        [5.6, 2.9, 3.6, 1.3],\n",
       "        [6.7, 3.1, 4.4, 1.4],\n",
       "        [5.6, 3. , 4.5, 1.5],\n",
       "        [5.8, 2.7, 4.1, 1. ],\n",
       "        [6.2, 2.2, 4.5, 1.5],\n",
       "        [5.6, 2.5, 3.9, 1.1],\n",
       "        [5.9, 3.2, 4.8, 1.8],\n",
       "        [6.1, 2.8, 4. , 1.3],\n",
       "        [6.3, 2.5, 4.9, 1.5],\n",
       "        [6.1, 2.8, 4.7, 1.2],\n",
       "        [6.4, 2.9, 4.3, 1.3],\n",
       "        [6.6, 3. , 4.4, 1.4],\n",
       "        [6.8, 2.8, 4.8, 1.4],\n",
       "        [6.7, 3. , 5. , 1.7],\n",
       "        [6. , 2.9, 4.5, 1.5],\n",
       "        [5.7, 2.6, 3.5, 1. ],\n",
       "        [5.5, 2.4, 3.8, 1.1],\n",
       "        [5.5, 2.4, 3.7, 1. ],\n",
       "        [5.8, 2.7, 3.9, 1.2],\n",
       "        [6. , 2.7, 5.1, 1.6],\n",
       "        [5.4, 3. , 4.5, 1.5],\n",
       "        [6. , 3.4, 4.5, 1.6],\n",
       "        [6.7, 3.1, 4.7, 1.5],\n",
       "        [6.3, 2.3, 4.4, 1.3],\n",
       "        [5.6, 3. , 4.1, 1.3],\n",
       "        [5.5, 2.5, 4. , 1.3],\n",
       "        [5.5, 2.6, 4.4, 1.2],\n",
       "        [6.1, 3. , 4.6, 1.4],\n",
       "        [5.8, 2.6, 4. , 1.2],\n",
       "        [5. , 2.3, 3.3, 1. ],\n",
       "        [5.6, 2.7, 4.2, 1.3],\n",
       "        [5.7, 3. , 4.2, 1.2],\n",
       "        [5.7, 2.9, 4.2, 1.3],\n",
       "        [6.2, 2.9, 4.3, 1.3],\n",
       "        [5.1, 2.5, 3. , 1.1],\n",
       "        [5.7, 2.8, 4.1, 1.3],\n",
       "        [6.3, 3.3, 6. , 2.5],\n",
       "        [5.8, 2.7, 5.1, 1.9],\n",
       "        [7.1, 3. , 5.9, 2.1],\n",
       "        [6.3, 2.9, 5.6, 1.8],\n",
       "        [6.5, 3. , 5.8, 2.2],\n",
       "        [7.6, 3. , 6.6, 2.1],\n",
       "        [4.9, 2.5, 4.5, 1.7],\n",
       "        [7.3, 2.9, 6.3, 1.8],\n",
       "        [6.7, 2.5, 5.8, 1.8],\n",
       "        [7.2, 3.6, 6.1, 2.5],\n",
       "        [6.5, 3.2, 5.1, 2. ],\n",
       "        [6.4, 2.7, 5.3, 1.9],\n",
       "        [6.8, 3. , 5.5, 2.1],\n",
       "        [5.7, 2.5, 5. , 2. ],\n",
       "        [5.8, 2.8, 5.1, 2.4],\n",
       "        [6.4, 3.2, 5.3, 2.3],\n",
       "        [6.5, 3. , 5.5, 1.8],\n",
       "        [7.7, 3.8, 6.7, 2.2],\n",
       "        [7.7, 2.6, 6.9, 2.3],\n",
       "        [6. , 2.2, 5. , 1.5],\n",
       "        [6.9, 3.2, 5.7, 2.3],\n",
       "        [5.6, 2.8, 4.9, 2. ],\n",
       "        [7.7, 2.8, 6.7, 2. ],\n",
       "        [6.3, 2.7, 4.9, 1.8],\n",
       "        [6.7, 3.3, 5.7, 2.1],\n",
       "        [7.2, 3.2, 6. , 1.8],\n",
       "        [6.2, 2.8, 4.8, 1.8],\n",
       "        [6.1, 3. , 4.9, 1.8],\n",
       "        [6.4, 2.8, 5.6, 2.1],\n",
       "        [7.2, 3. , 5.8, 1.6],\n",
       "        [7.4, 2.8, 6.1, 1.9],\n",
       "        [7.9, 3.8, 6.4, 2. ],\n",
       "        [6.4, 2.8, 5.6, 2.2],\n",
       "        [6.3, 2.8, 5.1, 1.5],\n",
       "        [6.1, 2.6, 5.6, 1.4],\n",
       "        [7.7, 3. , 6.1, 2.3],\n",
       "        [6.3, 3.4, 5.6, 2.4],\n",
       "        [6.4, 3.1, 5.5, 1.8],\n",
       "        [6. , 3. , 4.8, 1.8],\n",
       "        [6.9, 3.1, 5.4, 2.1],\n",
       "        [6.7, 3.1, 5.6, 2.4],\n",
       "        [6.9, 3.1, 5.1, 2.3],\n",
       "        [5.8, 2.7, 5.1, 1.9],\n",
       "        [6.8, 3.2, 5.9, 2.3],\n",
       "        [6.7, 3.3, 5.7, 2.5],\n",
       "        [6.7, 3. , 5.2, 2.3],\n",
       "        [6.3, 2.5, 5. , 1.9],\n",
       "        [6.5, 3. , 5.2, 2. ],\n",
       "        [6.2, 3.4, 5.4, 2.3],\n",
       "        [5.9, 3. , 5.1, 1.8]]),\n",
       " 'target': array([0, 0, 0, 0, 0, 0, 0, 0, 0, 0, 0, 0, 0, 0, 0, 0, 0, 0, 0, 0, 0, 0,\n",
       "        0, 0, 0, 0, 0, 0, 0, 0, 0, 0, 0, 0, 0, 0, 0, 0, 0, 0, 0, 0, 0, 0,\n",
       "        0, 0, 0, 0, 0, 0, 1, 1, 1, 1, 1, 1, 1, 1, 1, 1, 1, 1, 1, 1, 1, 1,\n",
       "        1, 1, 1, 1, 1, 1, 1, 1, 1, 1, 1, 1, 1, 1, 1, 1, 1, 1, 1, 1, 1, 1,\n",
       "        1, 1, 1, 1, 1, 1, 1, 1, 1, 1, 1, 1, 2, 2, 2, 2, 2, 2, 2, 2, 2, 2,\n",
       "        2, 2, 2, 2, 2, 2, 2, 2, 2, 2, 2, 2, 2, 2, 2, 2, 2, 2, 2, 2, 2, 2,\n",
       "        2, 2, 2, 2, 2, 2, 2, 2, 2, 2, 2, 2, 2, 2, 2, 2, 2, 2]),\n",
       " 'target_names': array(['setosa', 'versicolor', 'virginica'], dtype='<U10'),\n",
       " 'DESCR': '.. _iris_dataset:\\n\\nIris plants dataset\\n--------------------\\n\\n**Data Set Characteristics:**\\n\\n    :Number of Instances: 150 (50 in each of three classes)\\n    :Number of Attributes: 4 numeric, predictive attributes and the class\\n    :Attribute Information:\\n        - sepal length in cm\\n        - sepal width in cm\\n        - petal length in cm\\n        - petal width in cm\\n        - class:\\n                - Iris-Setosa\\n                - Iris-Versicolour\\n                - Iris-Virginica\\n                \\n    :Summary Statistics:\\n\\n    ============== ==== ==== ======= ===== ====================\\n                    Min  Max   Mean    SD   Class Correlation\\n    ============== ==== ==== ======= ===== ====================\\n    sepal length:   4.3  7.9   5.84   0.83    0.7826\\n    sepal width:    2.0  4.4   3.05   0.43   -0.4194\\n    petal length:   1.0  6.9   3.76   1.76    0.9490  (high!)\\n    petal width:    0.1  2.5   1.20   0.76    0.9565  (high!)\\n    ============== ==== ==== ======= ===== ====================\\n\\n    :Missing Attribute Values: None\\n    :Class Distribution: 33.3% for each of 3 classes.\\n    :Creator: R.A. Fisher\\n    :Donor: Michael Marshall (MARSHALL%PLU@io.arc.nasa.gov)\\n    :Date: July, 1988\\n\\nThe famous Iris database, first used by Sir R.A. Fisher. The dataset is taken\\nfrom Fisher\\'s paper. Note that it\\'s the same as in R, but not as in the UCI\\nMachine Learning Repository, which has two wrong data points.\\n\\nThis is perhaps the best known database to be found in the\\npattern recognition literature.  Fisher\\'s paper is a classic in the field and\\nis referenced frequently to this day.  (See Duda & Hart, for example.)  The\\ndata set contains 3 classes of 50 instances each, where each class refers to a\\ntype of iris plant.  One class is linearly separable from the other 2; the\\nlatter are NOT linearly separable from each other.\\n\\n.. topic:: References\\n\\n   - Fisher, R.A. \"The use of multiple measurements in taxonomic problems\"\\n     Annual Eugenics, 7, Part II, 179-188 (1936); also in \"Contributions to\\n     Mathematical Statistics\" (John Wiley, NY, 1950).\\n   - Duda, R.O., & Hart, P.E. (1973) Pattern Classification and Scene Analysis.\\n     (Q327.D83) John Wiley & Sons.  ISBN 0-471-22361-1.  See page 218.\\n   - Dasarathy, B.V. (1980) \"Nosing Around the Neighborhood: A New System\\n     Structure and Classification Rule for Recognition in Partially Exposed\\n     Environments\".  IEEE Transactions on Pattern Analysis and Machine\\n     Intelligence, Vol. PAMI-2, No. 1, 67-71.\\n   - Gates, G.W. (1972) \"The Reduced Nearest Neighbor Rule\".  IEEE Transactions\\n     on Information Theory, May 1972, 431-433.\\n   - See also: 1988 MLC Proceedings, 54-64.  Cheeseman et al\"s AUTOCLASS II\\n     conceptual clustering system finds 3 classes in the data.\\n   - Many, many more ...',\n",
       " 'feature_names': ['sepal length (cm)',\n",
       "  'sepal width (cm)',\n",
       "  'petal length (cm)',\n",
       "  'petal width (cm)'],\n",
       " 'filename': '/Users/ahyeon/opt/anaconda3/lib/python3.7/site-packages/sklearn/datasets/data/iris.csv'}"
      ]
     },
     "execution_count": 1,
     "metadata": {},
     "output_type": "execute_result"
    }
   ],
   "source": [
    "from sklearn.tree import DecisionTreeClassifier\n",
    "from sklearn.datasets import load_iris\n",
    "from sklearn import tree\n",
    "from sklearn.model_selection import train_test_split\n",
    "\n",
    "# iris data\n",
    "iris_dataset = load_iris()\n",
    "\n",
    "iris_dataset"
   ]
  },
  {
   "cell_type": "code",
   "execution_count": 2,
   "metadata": {},
   "outputs": [
    {
     "name": "stdout",
     "output_type": "stream",
     "text": [
      "train set score 0.991667\n",
      "test set score 0.900000\n"
     ]
    }
   ],
   "source": [
    "# data split(random_state는 셔플을 위한 랜덤 시드)\n",
    "X = iris_dataset.data\n",
    "y = iris_dataset.target\n",
    "X_train, X_test, y_train, y_test = train_test_split(X,y,test_size = 0.2, random_state = 2020)\n",
    "\n",
    "# sklearn의 DTC는 pruning은 지원하지 않고, post-pruningj만 지원합니다\n",
    "# max_depth, max_leaf_nodes 또는 min_samples_leaf로 post-pruning을 조절하는데 보통 이 중 하나로 조절합니다\n",
    "clf = tree.DecisionTreeClassifier(max_depth = 3, random_state = 2020)\n",
    "\n",
    "# modeling\n",
    "clf.fit(X_train,y_train)\n",
    "\n",
    "print('train set score {:3f}'.format(clf.score(X_train,y_train)))\n",
    "print('test set score {:3f}'.format(clf.score(X_test,y_test)))\n",
    "\n",
    "\n",
    "# depth가 커지면 새로운 데이터를 적용하기 곤란하고 예측오차의 수치가 높아짐\n",
    "# 이 경우 pruning(가지치기)을 통해 \n",
    "# min_samples_split : 분할되기 위해 노드가 가져야하는 최소샘플 수 \n",
    "# min_samples_leaf: 리프 노드가 가지고있어야 하는 최소 샘플 수 \n",
    "# max_leaf_nodes: 리프 노드의 최대수 \n",
    "# max_features: 각 노드에서 분할에 사용할 특성의 최대 수 "
   ]
  },
  {
   "cell_type": "code",
   "execution_count": 14,
   "metadata": {
    "scrolled": false
   },
   "outputs": [
    {
     "data": {
      "image/svg+xml": [
       "<?xml version=\"1.0\" encoding=\"UTF-8\" standalone=\"no\"?>\n",
       "<!DOCTYPE svg PUBLIC \"-//W3C//DTD SVG 1.1//EN\"\n",
       " \"http://www.w3.org/Graphics/SVG/1.1/DTD/svg11.dtd\">\n",
       "<!-- Generated by graphviz version 2.42.3 (20191010.1750)\n",
       " -->\n",
       "<!-- Title: Tree Pages: 1 -->\n",
       "<svg width=\"365pt\" height=\"414pt\"\n",
       " viewBox=\"0.00 0.00 364.91 414.00\" xmlns=\"http://www.w3.org/2000/svg\" xmlns:xlink=\"http://www.w3.org/1999/xlink\">\n",
       "<g id=\"graph0\" class=\"graph\" transform=\"scale(1 1) rotate(0) translate(4 410)\">\n",
       "<title>Tree</title>\n",
       "<polygon fill=\"white\" stroke=\"transparent\" points=\"-4,4 -4,-410 360.91,-410 360.91,4 -4,4\"/>\n",
       "<!-- 0 -->\n",
       "<g id=\"node1\" class=\"node\">\n",
       "<title>0</title>\n",
       "<path fill=\"#ffffff\" stroke=\"black\" d=\"M205.35,-406C205.35,-406 70.55,-406 70.55,-406 64.55,-406 58.55,-400 58.55,-394 58.55,-394 58.55,-340 58.55,-340 58.55,-334 64.55,-328 70.55,-328 70.55,-328 205.35,-328 205.35,-328 211.35,-328 217.35,-334 217.35,-340 217.35,-340 217.35,-394 217.35,-394 217.35,-400 211.35,-406 205.35,-406\"/>\n",
       "<text text-anchor=\"middle\" x=\"137.95\" y=\"-390.8\" font-family=\"Helvetica,sans-Serif\" font-size=\"14.00\">petal width (cm) &lt;= 0.7</text>\n",
       "<text text-anchor=\"middle\" x=\"137.95\" y=\"-376.8\" font-family=\"Helvetica,sans-Serif\" font-size=\"14.00\">gini = 0.67</text>\n",
       "<text text-anchor=\"middle\" x=\"137.95\" y=\"-362.8\" font-family=\"Helvetica,sans-Serif\" font-size=\"14.00\">samples = 120</text>\n",
       "<text text-anchor=\"middle\" x=\"137.95\" y=\"-348.8\" font-family=\"Helvetica,sans-Serif\" font-size=\"14.00\">value = [40, 40, 40]</text>\n",
       "<text text-anchor=\"middle\" x=\"137.95\" y=\"-334.8\" font-family=\"Helvetica,sans-Serif\" font-size=\"14.00\">class = setosa</text>\n",
       "</g>\n",
       "<!-- 1 -->\n",
       "<g id=\"node2\" class=\"node\">\n",
       "<title>1</title>\n",
       "<path fill=\"#e58139\" stroke=\"black\" d=\"M107.86,-285C107.86,-285 12.05,-285 12.05,-285 6.05,-285 0.05,-279 0.05,-273 0.05,-273 0.05,-233 0.05,-233 0.05,-227 6.05,-221 12.05,-221 12.05,-221 107.86,-221 107.86,-221 113.86,-221 119.86,-227 119.86,-233 119.86,-233 119.86,-273 119.86,-273 119.86,-279 113.86,-285 107.86,-285\"/>\n",
       "<text text-anchor=\"middle\" x=\"59.95\" y=\"-269.8\" font-family=\"Helvetica,sans-Serif\" font-size=\"14.00\">gini = 0.0</text>\n",
       "<text text-anchor=\"middle\" x=\"59.95\" y=\"-255.8\" font-family=\"Helvetica,sans-Serif\" font-size=\"14.00\">samples = 40</text>\n",
       "<text text-anchor=\"middle\" x=\"59.95\" y=\"-241.8\" font-family=\"Helvetica,sans-Serif\" font-size=\"14.00\">value = [40, 0, 0]</text>\n",
       "<text text-anchor=\"middle\" x=\"59.95\" y=\"-227.8\" font-family=\"Helvetica,sans-Serif\" font-size=\"14.00\">class = setosa</text>\n",
       "</g>\n",
       "<!-- 0&#45;&gt;1 -->\n",
       "<g id=\"edge1\" class=\"edge\">\n",
       "<title>0&#45;&gt;1</title>\n",
       "<path fill=\"none\" stroke=\"black\" d=\"M111.33,-327.77C103.59,-316.66 95.13,-304.51 87.35,-293.33\"/>\n",
       "<polygon fill=\"black\" stroke=\"black\" points=\"90.14,-291.22 81.55,-285.01 84.39,-295.22 90.14,-291.22\"/>\n",
       "<text text-anchor=\"middle\" x=\"77.15\" y=\"-305.42\" font-family=\"Helvetica,sans-Serif\" font-size=\"14.00\">True</text>\n",
       "</g>\n",
       "<!-- 2 -->\n",
       "<g id=\"node3\" class=\"node\">\n",
       "<title>2</title>\n",
       "<path fill=\"#ffffff\" stroke=\"black\" d=\"M284.35,-292C284.35,-292 149.55,-292 149.55,-292 143.55,-292 137.55,-286 137.55,-280 137.55,-280 137.55,-226 137.55,-226 137.55,-220 143.55,-214 149.55,-214 149.55,-214 284.35,-214 284.35,-214 290.35,-214 296.35,-220 296.35,-226 296.35,-226 296.35,-280 296.35,-280 296.35,-286 290.35,-292 284.35,-292\"/>\n",
       "<text text-anchor=\"middle\" x=\"216.95\" y=\"-276.8\" font-family=\"Helvetica,sans-Serif\" font-size=\"14.00\">petal width (cm) &lt;= 1.7</text>\n",
       "<text text-anchor=\"middle\" x=\"216.95\" y=\"-262.8\" font-family=\"Helvetica,sans-Serif\" font-size=\"14.00\">gini = 0.5</text>\n",
       "<text text-anchor=\"middle\" x=\"216.95\" y=\"-248.8\" font-family=\"Helvetica,sans-Serif\" font-size=\"14.00\">samples = 80</text>\n",
       "<text text-anchor=\"middle\" x=\"216.95\" y=\"-234.8\" font-family=\"Helvetica,sans-Serif\" font-size=\"14.00\">value = [0, 40, 40]</text>\n",
       "<text text-anchor=\"middle\" x=\"216.95\" y=\"-220.8\" font-family=\"Helvetica,sans-Serif\" font-size=\"14.00\">class = versicolor</text>\n",
       "</g>\n",
       "<!-- 0&#45;&gt;2 -->\n",
       "<g id=\"edge2\" class=\"edge\">\n",
       "<title>0&#45;&gt;2</title>\n",
       "<path fill=\"none\" stroke=\"black\" d=\"M164.92,-327.77C171.15,-318.94 177.84,-309.45 184.28,-300.32\"/>\n",
       "<polygon fill=\"black\" stroke=\"black\" points=\"187.2,-302.25 190.11,-292.06 181.48,-298.21 187.2,-302.25\"/>\n",
       "<text text-anchor=\"middle\" x=\"194.36\" y=\"-312.49\" font-family=\"Helvetica,sans-Serif\" font-size=\"14.00\">False</text>\n",
       "</g>\n",
       "<!-- 3 -->\n",
       "<g id=\"node4\" class=\"node\">\n",
       "<title>3</title>\n",
       "<path fill=\"#43e687\" stroke=\"black\" d=\"M206.81,-178C206.81,-178 67.09,-178 67.09,-178 61.09,-178 55.09,-172 55.09,-166 55.09,-166 55.09,-112 55.09,-112 55.09,-106 61.09,-100 67.09,-100 67.09,-100 206.81,-100 206.81,-100 212.81,-100 218.81,-106 218.81,-112 218.81,-112 218.81,-166 218.81,-166 218.81,-172 212.81,-178 206.81,-178\"/>\n",
       "<text text-anchor=\"middle\" x=\"136.95\" y=\"-162.8\" font-family=\"Helvetica,sans-Serif\" font-size=\"14.00\">petal length (cm) &lt;= 5.0</text>\n",
       "<text text-anchor=\"middle\" x=\"136.95\" y=\"-148.8\" font-family=\"Helvetica,sans-Serif\" font-size=\"14.00\">gini = 0.09</text>\n",
       "<text text-anchor=\"middle\" x=\"136.95\" y=\"-134.8\" font-family=\"Helvetica,sans-Serif\" font-size=\"14.00\">samples = 42</text>\n",
       "<text text-anchor=\"middle\" x=\"136.95\" y=\"-120.8\" font-family=\"Helvetica,sans-Serif\" font-size=\"14.00\">value = [0, 40, 2]</text>\n",
       "<text text-anchor=\"middle\" x=\"136.95\" y=\"-106.8\" font-family=\"Helvetica,sans-Serif\" font-size=\"14.00\">class = versicolor</text>\n",
       "</g>\n",
       "<!-- 2&#45;&gt;3 -->\n",
       "<g id=\"edge3\" class=\"edge\">\n",
       "<title>2&#45;&gt;3</title>\n",
       "<path fill=\"none\" stroke=\"black\" d=\"M189.65,-213.77C183.34,-204.94 176.56,-195.45 170.04,-186.32\"/>\n",
       "<polygon fill=\"black\" stroke=\"black\" points=\"172.8,-184.16 164.14,-178.06 167.1,-188.23 172.8,-184.16\"/>\n",
       "</g>\n",
       "<!-- 6 -->\n",
       "<g id=\"node7\" class=\"node\">\n",
       "<title>6</title>\n",
       "<path fill=\"#8139e5\" stroke=\"black\" d=\"M344.86,-171C344.86,-171 249.05,-171 249.05,-171 243.05,-171 237.05,-165 237.05,-159 237.05,-159 237.05,-119 237.05,-119 237.05,-113 243.05,-107 249.05,-107 249.05,-107 344.86,-107 344.86,-107 350.86,-107 356.86,-113 356.86,-119 356.86,-119 356.86,-159 356.86,-159 356.86,-165 350.86,-171 344.86,-171\"/>\n",
       "<text text-anchor=\"middle\" x=\"296.95\" y=\"-155.8\" font-family=\"Helvetica,sans-Serif\" font-size=\"14.00\">gini = 0.0</text>\n",
       "<text text-anchor=\"middle\" x=\"296.95\" y=\"-141.8\" font-family=\"Helvetica,sans-Serif\" font-size=\"14.00\">samples = 38</text>\n",
       "<text text-anchor=\"middle\" x=\"296.95\" y=\"-127.8\" font-family=\"Helvetica,sans-Serif\" font-size=\"14.00\">value = [0, 0, 38]</text>\n",
       "<text text-anchor=\"middle\" x=\"296.95\" y=\"-113.8\" font-family=\"Helvetica,sans-Serif\" font-size=\"14.00\">class = virginica</text>\n",
       "</g>\n",
       "<!-- 2&#45;&gt;6 -->\n",
       "<g id=\"edge6\" class=\"edge\">\n",
       "<title>2&#45;&gt;6</title>\n",
       "<path fill=\"none\" stroke=\"black\" d=\"M244.26,-213.77C252.2,-202.66 260.88,-190.51 268.86,-179.33\"/>\n",
       "<polygon fill=\"black\" stroke=\"black\" points=\"271.84,-181.18 274.8,-171.01 266.14,-177.11 271.84,-181.18\"/>\n",
       "</g>\n",
       "<!-- 4 -->\n",
       "<g id=\"node5\" class=\"node\">\n",
       "<title>4</title>\n",
       "<path fill=\"#39e581\" stroke=\"black\" d=\"M118.71,-64C118.71,-64 19.2,-64 19.2,-64 13.2,-64 7.2,-58 7.2,-52 7.2,-52 7.2,-12 7.2,-12 7.2,-6 13.2,0 19.2,0 19.2,0 118.71,0 118.71,0 124.71,0 130.71,-6 130.71,-12 130.71,-12 130.71,-52 130.71,-52 130.71,-58 124.71,-64 118.71,-64\"/>\n",
       "<text text-anchor=\"middle\" x=\"68.95\" y=\"-48.8\" font-family=\"Helvetica,sans-Serif\" font-size=\"14.00\">gini = 0.0</text>\n",
       "<text text-anchor=\"middle\" x=\"68.95\" y=\"-34.8\" font-family=\"Helvetica,sans-Serif\" font-size=\"14.00\">samples = 39</text>\n",
       "<text text-anchor=\"middle\" x=\"68.95\" y=\"-20.8\" font-family=\"Helvetica,sans-Serif\" font-size=\"14.00\">value = [0, 39, 0]</text>\n",
       "<text text-anchor=\"middle\" x=\"68.95\" y=\"-6.8\" font-family=\"Helvetica,sans-Serif\" font-size=\"14.00\">class = versicolor</text>\n",
       "</g>\n",
       "<!-- 3&#45;&gt;4 -->\n",
       "<g id=\"edge4\" class=\"edge\">\n",
       "<title>3&#45;&gt;4</title>\n",
       "<path fill=\"none\" stroke=\"black\" d=\"M112.21,-99.8C106.52,-91 100.44,-81.63 94.71,-72.76\"/>\n",
       "<polygon fill=\"black\" stroke=\"black\" points=\"97.48,-70.61 89.11,-64.12 91.6,-74.41 97.48,-70.61\"/>\n",
       "</g>\n",
       "<!-- 5 -->\n",
       "<g id=\"node6\" class=\"node\">\n",
       "<title>5</title>\n",
       "<path fill=\"#c09cf2\" stroke=\"black\" d=\"M251.66,-64C251.66,-64 160.25,-64 160.25,-64 154.25,-64 148.25,-58 148.25,-52 148.25,-52 148.25,-12 148.25,-12 148.25,-6 154.25,0 160.25,0 160.25,0 251.66,0 251.66,0 257.66,0 263.66,-6 263.66,-12 263.66,-12 263.66,-52 263.66,-52 263.66,-58 257.66,-64 251.66,-64\"/>\n",
       "<text text-anchor=\"middle\" x=\"205.95\" y=\"-48.8\" font-family=\"Helvetica,sans-Serif\" font-size=\"14.00\">gini = 0.44</text>\n",
       "<text text-anchor=\"middle\" x=\"205.95\" y=\"-34.8\" font-family=\"Helvetica,sans-Serif\" font-size=\"14.00\">samples = 3</text>\n",
       "<text text-anchor=\"middle\" x=\"205.95\" y=\"-20.8\" font-family=\"Helvetica,sans-Serif\" font-size=\"14.00\">value = [0, 1, 2]</text>\n",
       "<text text-anchor=\"middle\" x=\"205.95\" y=\"-6.8\" font-family=\"Helvetica,sans-Serif\" font-size=\"14.00\">class = virginica</text>\n",
       "</g>\n",
       "<!-- 3&#45;&gt;5 -->\n",
       "<g id=\"edge5\" class=\"edge\">\n",
       "<title>3&#45;&gt;5</title>\n",
       "<path fill=\"none\" stroke=\"black\" d=\"M162.06,-99.8C167.9,-90.91 174.13,-81.43 180,-72.49\"/>\n",
       "<polygon fill=\"black\" stroke=\"black\" points=\"182.94,-74.4 185.5,-64.12 177.09,-70.55 182.94,-74.4\"/>\n",
       "</g>\n",
       "</g>\n",
       "</svg>\n"
      ],
      "text/plain": [
       "<graphviz.files.Source at 0x1a1fd4b250>"
      ]
     },
     "execution_count": 14,
     "metadata": {},
     "output_type": "execute_result"
    }
   ],
   "source": [
    "from sklearn.tree import export_graphviz\n",
    "import graphviz\n",
    "import os\n",
    "\n",
    "os.environ['PATH']+=os.pathsep+'C:/Anaconda3/Library/bin/graphviz/'\n",
    "\n",
    "\n",
    "# model save\n",
    "# filled는 색깔, precision은 소수점 자리수 등\n",
    "# https://scikit-learn.org/stable/modules/generated/sklearn.tree.export_graphviz.html\n",
    "export_graphviz(clf, out_file = 'iris.dot',\n",
    "               feature_names = iris_dataset.feature_names,\n",
    "               class_names = iris_dataset.target_names,\n",
    "               rounded=True, proportion = False,\n",
    "               filled=True, precision = 2)\n",
    "\n",
    "# open\n",
    "with open('iris.dot') as f:\n",
    "    dot_graph = f.read()\n",
    "\n",
    "dot_graph\n",
    "\n",
    "graphviz.Source(dot_graph)\n",
    "\n",
    "\n",
    "# 여기서 gini 속성은 불순도를 측정함. 한 노드의 모든 샘플이 같은 클래스에 속하면 gini = 0\n",
    "# graphviz는 직관적인 색으로 그룹까지 분류해줌\n",
    "# 여기서의 분류 규칙은 petal width 였는데 이것이 즉 부모 노드와 자식 노드간 엔트로피를 가장 낮게 하는 독립변수이자 기준값(정보획득)"
   ]
  },
  {
   "cell_type": "code",
   "execution_count": 37,
   "metadata": {},
   "outputs": [],
   "source": [
    "from sklearn.metrics import accuracy_score"
   ]
  },
  {
   "cell_type": "code",
   "execution_count": 33,
   "metadata": {},
   "outputs": [
    {
     "data": {
      "image/png": "[encoded data removed]",
      "text/plain": [
       "<Figure size 432x288 with 1 Axes>"
      ]
     },
     "metadata": {
      "needs_background": "light"
     },
     "output_type": "display_data"
    }
   ],
   "source": [
    "# 어떤 featrue가 주로 사용되었는지 확인해봅시다, 위의 그림 속 맨 위줄 부등호만 봐도 알 수 있긴 하지만.\n",
    "# 아래의 결과를 보고 'width가 높으면 어떤 클래스이겠구나' 혹은 그 반대를 단정지을 수 없음.\n",
    "\n",
    "from matplotlib import pyplot as plt\n",
    "import numpy as np\n",
    "\n",
    "def plot_feature_importances_iris_dataset(model):\n",
    "    n_features = iris_dataset.data.shape[1]\n",
    "    plt.barh(range(n_features), model.feature_importances_, align='center')\n",
    "    plt.yticks(np.arange(n_features), iris_dataset.feature_names)\n",
    "    plt.xlabel(\"feature importance\")\n",
    "    plt.ylabel(\"feature\")\n",
    "    plt.ylim(-1, n_features)\n",
    "\n",
    "plot_feature_importances_iris_dataset(clf)"
   ]
  },
  {
   "cell_type": "markdown",
   "metadata": {},
   "source": [
    "# KNN"
   ]
  },
  {
   "cell_type": "code",
   "execution_count": 41,
   "metadata": {},
   "outputs": [
    {
     "name": "stdout",
     "output_type": "stream",
     "text": [
      "[0, 2, 4, 1, 1, 4]\n",
      "[0 2 4 1 1 4]\n"
     ]
    }
   ],
   "source": [
    "import numpy as np\n",
    "import pandas as pd\n",
    "import matplotlib.pyplot as plt\n",
    "%matplotlib nbagg \n",
    "# matplotlib nbagg는 매직명령어\n",
    " \n",
    "A_x_list = [0,2,4,1,1,4]\n",
    "A_y_list = [4,1,5,5,2,6]\n",
    "A_x = np.array(A_x_list)\n",
    "A_y = np.array(A_y_list)\n",
    " \n",
    "B_x_list = [7,7,5,7,10,9]\n",
    "B_y_list = [4,0,2,2,3,3]\n",
    "B_x = np.array(B_x_list)\n",
    "B_y = np.array(B_y_list)\n",
    " \n",
    "finding_point = [5,4]\n",
    "\n",
    "print(A_x_list)\n",
    "print(A_x)"
   ]
  },
  {
   "cell_type": "code",
   "execution_count": 42,
   "metadata": {
    "scrolled": true
   },
   "outputs": [
    {
     "data": {
      "application/javascript": [
       "/* Put everything inside the global mpl namespace */\n",
       "window.mpl = {};\n",
       "\n",
       "\n",
       "mpl.get_websocket_type = function() {\n",
       "    if (typeof(WebSocket) !== 'undefined') {\n",
       "        return WebSocket;\n",
       "    } else if (typeof(MozWebSocket) !== 'undefined') {\n",
       "        return MozWebSocket;\n",
       "    } else {\n",
       "        alert('Your browser does not have WebSocket support. ' +\n",
       "              'Please try Chrome, Safari or Firefox ≥ 6. ' +\n",
       "              'Firefox 4 and 5 are also supported but you ' +\n",
       "              'have to enable WebSockets in about:config.');\n",
       "    };\n",
       "}\n",
       "\n",
       "mpl.figure = function(figure_id, websocket, ondownload, parent_element) {\n",
       "    this.id = figure_id;\n",
       "\n",
       "    this.ws = websocket;\n",
       "\n",
       "    this.supports_binary = (this.ws.binaryType != undefined);\n",
       "\n",
       "    if (!this.supports_binary) {\n",
       "        var warnings = document.getElementById(\"mpl-warnings\");\n",
       "        if (warnings) {\n",
       "            warnings.style.display = 'block';\n",
       "            warnings.textContent = (\n",
       "                \"This browser does not support binary websocket messages. \" +\n",
       "                    \"Performance may be slow.\");\n",
       "        }\n",
       "    }\n",
       "\n",
       "    this.imageObj = new Image();\n",
       "\n",
       "    this.context = undefined;\n",
       "    this.message = undefined;\n",
       "    this.canvas = undefined;\n",
       "    this.rubberband_canvas = undefined;\n",
       "    this.rubberband_context = undefined;\n",
       "    this.format_dropdown = undefined;\n",
       "\n",
       "    this.image_mode = 'full';\n",
       "\n",
       "    this.root = $('<div/>');\n",
       "    this._root_extra_style(this.root)\n",
       "    this.root.attr('style', 'display: inline-block');\n",
       "\n",
       "    $(parent_element).append(this.root);\n",
       "\n",
       "    this._init_header(this);\n",
       "    this._init_canvas(this);\n",
       "    this._init_toolbar(this);\n",
       "\n",
       "    var fig = this;\n",
       "\n",
       "    this.waiting = false;\n",
       "\n",
       "    this.ws.onopen =  function () {\n",
       "            fig.send_message(\"supports_binary\", {value: fig.supports_binary});\n",
       "            fig.send_message(\"send_image_mode\", {});\n",
       "            if (mpl.ratio != 1) {\n",
       "                fig.send_message(\"set_dpi_ratio\", {'dpi_ratio': mpl.ratio});\n",
       "            }\n",
       "            fig.send_message(\"refresh\", {});\n",
       "        }\n",
       "\n",
       "    this.imageObj.onload = function() {\n",
       "            if (fig.image_mode == 'full') {\n",
       "                // Full images could contain transparency (where diff images\n",
       "                // almost always do), so we need to clear the canvas so that\n",
       "                // there is no ghosting.\n",
       "                fig.context.clearRect(0, 0, fig.canvas.width, fig.canvas.height);\n",
       "            }\n",
       "            fig.context.drawImage(fig.imageObj, 0, 0);\n",
       "        };\n",
       "\n",
       "    this.imageObj.onunload = function() {\n",
       "        fig.ws.close();\n",
       "    }\n",
       "\n",
       "    this.ws.onmessage = this._make_on_message_function(this);\n",
       "\n",
       "    this.ondownload = ondownload;\n",
       "}\n",
       "\n",
       "mpl.figure.prototype._init_header = function() {\n",
       "    var titlebar = $(\n",
       "        '<div class=\"ui-dialog-titlebar ui-widget-header ui-corner-all ' +\n",
       "        'ui-helper-clearfix\"/>');\n",
       "    var titletext = $(\n",
       "        '<div class=\"ui-dialog-title\" style=\"width: 100%; ' +\n",
       "        'text-align: center; padding: 3px;\"/>');\n",
       "    titlebar.append(titletext)\n",
       "    this.root.append(titlebar);\n",
       "    this.header = titletext[0];\n",
       "}\n",
       "\n",
       "\n",
       "\n",
       "mpl.figure.prototype._canvas_extra_style = function(canvas_div) {\n",
       "\n",
       "}\n",
       "\n",
       "\n",
       "mpl.figure.prototype._root_extra_style = function(canvas_div) {\n",
       "\n",
       "}\n",
       "\n",
       "mpl.figure.prototype._init_canvas = function() {\n",
       "    var fig = this;\n",
       "\n",
       "    var canvas_div = $('<div/>');\n",
       "\n",
       "    canvas_div.attr('style', 'position: relative; clear: both; outline: 0');\n",
       "\n",
       "    function canvas_keyboard_event(event) {\n",
       "        return fig.key_event(event, event['data']);\n",
       "    }\n",
       "\n",
       "    canvas_div.keydown('key_press', canvas_keyboard_event);\n",
       "    canvas_div.keyup('key_release', canvas_keyboard_event);\n",
       "    this.canvas_div = canvas_div\n",
       "    this._canvas_extra_style(canvas_div)\n",
       "    this.root.append(canvas_div);\n",
       "\n",
       "    var canvas = $('<canvas/>');\n",
       "    canvas.addClass('mpl-canvas');\n",
       "    canvas.attr('style', \"left: 0; top: 0; z-index: 0; outline: 0\")\n",
       "\n",
       "    this.canvas = canvas[0];\n",
       "    this.context = canvas[0].getContext(\"2d\");\n",
       "\n",
       "    var backingStore = this.context.backingStorePixelRatio ||\n",
       "\tthis.context.webkitBackingStorePixelRatio ||\n",
       "\tthis.context.mozBackingStorePixelRatio ||\n",
       "\tthis.context.msBackingStorePixelRatio ||\n",
       "\tthis.context.oBackingStorePixelRatio ||\n",
       "\tthis.context.backingStorePixelRatio || 1;\n",
       "\n",
       "    mpl.ratio = (window.devicePixelRatio || 1) / backingStore;\n",
       "\n",
       "    var rubberband = $('<canvas/>');\n",
       "    rubberband.attr('style', \"position: absolute; left: 0; top: 0; z-index: 1;\")\n",
       "\n",
       "    var pass_mouse_events = true;\n",
       "\n",
       "    canvas_div.resizable({\n",
       "        start: function(event, ui) {\n",
       "            pass_mouse_events = false;\n",
       "        },\n",
       "        resize: function(event, ui) {\n",
       "            fig.request_resize(ui.size.width, ui.size.height);\n",
       "        },\n",
       "        stop: function(event, ui) {\n",
       "            pass_mouse_events = true;\n",
       "            fig.request_resize(ui.size.width, ui.size.height);\n",
       "        },\n",
       "    });\n",
       "\n",
       "    function mouse_event_fn(event) {\n",
       "        if (pass_mouse_events)\n",
       "            return fig.mouse_event(event, event['data']);\n",
       "    }\n",
       "\n",
       "    rubberband.mousedown('button_press', mouse_event_fn);\n",
       "    rubberband.mouseup('button_release', mouse_event_fn);\n",
       "    // Throttle sequential mouse events to 1 every 20ms.\n",
       "    rubberband.mousemove('motion_notify', mouse_event_fn);\n",
       "\n",
       "    rubberband.mouseenter('figure_enter', mouse_event_fn);\n",
       "    rubberband.mouseleave('figure_leave', mouse_event_fn);\n",
       "\n",
       "    canvas_div.on(\"wheel\", function (event) {\n",
       "        event = event.originalEvent;\n",
       "        event['data'] = 'scroll'\n",
       "        if (event.deltaY < 0) {\n",
       "            event.step = 1;\n",
       "        } else {\n",
       "            event.step = -1;\n",
       "        }\n",
       "        mouse_event_fn(event);\n",
       "    });\n",
       "\n",
       "    canvas_div.append(canvas);\n",
       "    canvas_div.append(rubberband);\n",
       "\n",
       "    this.rubberband = rubberband;\n",
       "    this.rubberband_canvas = rubberband[0];\n",
       "    this.rubberband_context = rubberband[0].getContext(\"2d\");\n",
       "    this.rubberband_context.strokeStyle = \"#000000\";\n",
       "\n",
       "    this._resize_canvas = function(width, height) {\n",
       "        // Keep the size of the canvas, canvas container, and rubber band\n",
       "        // canvas in synch.\n",
       "        canvas_div.css('width', width)\n",
       "        canvas_div.css('height', height)\n",
       "\n",
       "        canvas.attr('width', width * mpl.ratio);\n",
       "        canvas.attr('height', height * mpl.ratio);\n",
       "        canvas.attr('style', 'width: ' + width + 'px; height: ' + height + 'px;');\n",
       "\n",
       "        rubberband.attr('width', width);\n",
       "        rubberband.attr('height', height);\n",
       "    }\n",
       "\n",
       "    // Set the figure to an initial 600x600px, this will subsequently be updated\n",
       "    // upon first draw.\n",
       "    this._resize_canvas(600, 600);\n",
       "\n",
       "    // Disable right mouse context menu.\n",
       "    $(this.rubberband_canvas).bind(\"contextmenu\",function(e){\n",
       "        return false;\n",
       "    });\n",
       "\n",
       "    function set_focus () {\n",
       "        canvas.focus();\n",
       "        canvas_div.focus();\n",
       "    }\n",
       "\n",
       "    window.setTimeout(set_focus, 100);\n",
       "}\n",
       "\n",
       "mpl.figure.prototype._init_toolbar = function() {\n",
       "    var fig = this;\n",
       "\n",
       "    var nav_element = $('<div/>');\n",
       "    nav_element.attr('style', 'width: 100%');\n",
       "    this.root.append(nav_element);\n",
       "\n",
       "    // Define a callback function for later on.\n",
       "    function toolbar_event(event) {\n",
       "        return fig.toolbar_button_onclick(event['data']);\n",
       "    }\n",
       "    function toolbar_mouse_event(event) {\n",
       "        return fig.toolbar_button_onmouseover(event['data']);\n",
       "    }\n",
       "\n",
       "    for(var toolbar_ind in mpl.toolbar_items) {\n",
       "        var name = mpl.toolbar_items[toolbar_ind][0];\n",
       "        var tooltip = mpl.toolbar_items[toolbar_ind][1];\n",
       "        var image = mpl.toolbar_items[toolbar_ind][2];\n",
       "        var method_name = mpl.toolbar_items[toolbar_ind][3];\n",
       "\n",
       "        if (!name) {\n",
       "            // put a spacer in here.\n",
       "            continue;\n",
       "        }\n",
       "        var button = $('<button/>');\n",
       "        button.addClass('ui-button ui-widget ui-state-default ui-corner-all ' +\n",
       "                        'ui-button-icon-only');\n",
       "        button.attr('role', 'button');\n",
       "        button.attr('aria-disabled', 'false');\n",
       "        button.click(method_name, toolbar_event);\n",
       "        button.mouseover(tooltip, toolbar_mouse_event);\n",
       "\n",
       "        var icon_img = $('<span/>');\n",
       "        icon_img.addClass('ui-button-icon-primary ui-icon');\n",
       "        icon_img.addClass(image);\n",
       "        icon_img.addClass('ui-corner-all');\n",
       "\n",
       "        var tooltip_span = $('<span/>');\n",
       "        tooltip_span.addClass('ui-button-text');\n",
       "        tooltip_span.html(tooltip);\n",
       "\n",
       "        button.append(icon_img);\n",
       "        button.append(tooltip_span);\n",
       "\n",
       "        nav_element.append(button);\n",
       "    }\n",
       "\n",
       "    var fmt_picker_span = $('<span/>');\n",
       "\n",
       "    var fmt_picker = $('<select/>');\n",
       "    fmt_picker.addClass('mpl-toolbar-option ui-widget ui-widget-content');\n",
       "    fmt_picker_span.append(fmt_picker);\n",
       "    nav_element.append(fmt_picker_span);\n",
       "    this.format_dropdown = fmt_picker[0];\n",
       "\n",
       "    for (var ind in mpl.extensions) {\n",
       "        var fmt = mpl.extensions[ind];\n",
       "        var option = $(\n",
       "            '<option/>', {selected: fmt === mpl.default_extension}).html(fmt);\n",
       "        fmt_picker.append(option);\n",
       "    }\n",
       "\n",
       "    // Add hover states to the ui-buttons\n",
       "    $( \".ui-button\" ).hover(\n",
       "        function() { $(this).addClass(\"ui-state-hover\");},\n",
       "        function() { $(this).removeClass(\"ui-state-hover\");}\n",
       "    );\n",
       "\n",
       "    var status_bar = $('<span class=\"mpl-message\"/>');\n",
       "    nav_element.append(status_bar);\n",
       "    this.message = status_bar[0];\n",
       "}\n",
       "\n",
       "mpl.figure.prototype.request_resize = function(x_pixels, y_pixels) {\n",
       "    // Request matplotlib to resize the figure. Matplotlib will then trigger a resize in the client,\n",
       "    // which will in turn request a refresh of the image.\n",
       "    this.send_message('resize', {'width': x_pixels, 'height': y_pixels});\n",
       "}\n",
       "\n",
       "mpl.figure.prototype.send_message = function(type, properties) {\n",
       "    properties['type'] = type;\n",
       "    properties['figure_id'] = this.id;\n",
       "    this.ws.send(JSON.stringify(properties));\n",
       "}\n",
       "\n",
       "mpl.figure.prototype.send_draw_message = function() {\n",
       "    if (!this.waiting) {\n",
       "        this.waiting = true;\n",
       "        this.ws.send(JSON.stringify({type: \"draw\", figure_id: this.id}));\n",
       "    }\n",
       "}\n",
       "\n",
       "\n",
       "mpl.figure.prototype.handle_save = function(fig, msg) {\n",
       "    var format_dropdown = fig.format_dropdown;\n",
       "    var format = format_dropdown.options[format_dropdown.selectedIndex].value;\n",
       "    fig.ondownload(fig, format);\n",
       "}\n",
       "\n",
       "\n",
       "mpl.figure.prototype.handle_resize = function(fig, msg) {\n",
       "    var size = msg['size'];\n",
       "    if (size[0] != fig.canvas.width || size[1] != fig.canvas.height) {\n",
       "        fig._resize_canvas(size[0], size[1]);\n",
       "        fig.send_message(\"refresh\", {});\n",
       "    };\n",
       "}\n",
       "\n",
       "mpl.figure.prototype.handle_rubberband = function(fig, msg) {\n",
       "    var x0 = msg['x0'] / mpl.ratio;\n",
       "    var y0 = (fig.canvas.height - msg['y0']) / mpl.ratio;\n",
       "    var x1 = msg['x1'] / mpl.ratio;\n",
       "    var y1 = (fig.canvas.height - msg['y1']) / mpl.ratio;\n",
       "    x0 = Math.floor(x0) + 0.5;\n",
       "    y0 = Math.floor(y0) + 0.5;\n",
       "    x1 = Math.floor(x1) + 0.5;\n",
       "    y1 = Math.floor(y1) + 0.5;\n",
       "    var min_x = Math.min(x0, x1);\n",
       "    var min_y = Math.min(y0, y1);\n",
       "    var width = Math.abs(x1 - x0);\n",
       "    var height = Math.abs(y1 - y0);\n",
       "\n",
       "    fig.rubberband_context.clearRect(\n",
       "        0, 0, fig.canvas.width / mpl.ratio, fig.canvas.height / mpl.ratio);\n",
       "\n",
       "    fig.rubberband_context.strokeRect(min_x, min_y, width, height);\n",
       "}\n",
       "\n",
       "mpl.figure.prototype.handle_figure_label = function(fig, msg) {\n",
       "    // Updates the figure title.\n",
       "    fig.header.textContent = msg['label'];\n",
       "}\n",
       "\n",
       "mpl.figure.prototype.handle_cursor = function(fig, msg) {\n",
       "    var cursor = msg['cursor'];\n",
       "    switch(cursor)\n",
       "    {\n",
       "    case 0:\n",
       "        cursor = 'pointer';\n",
       "        break;\n",
       "    case 1:\n",
       "        cursor = 'default';\n",
       "        break;\n",
       "    case 2:\n",
       "        cursor = 'crosshair';\n",
       "        break;\n",
       "    case 3:\n",
       "        cursor = 'move';\n",
       "        break;\n",
       "    }\n",
       "    fig.rubberband_canvas.style.cursor = cursor;\n",
       "}\n",
       "\n",
       "mpl.figure.prototype.handle_message = function(fig, msg) {\n",
       "    fig.message.textContent = msg['message'];\n",
       "}\n",
       "\n",
       "mpl.figure.prototype.handle_draw = function(fig, msg) {\n",
       "    // Request the server to send over a new figure.\n",
       "    fig.send_draw_message();\n",
       "}\n",
       "\n",
       "mpl.figure.prototype.handle_image_mode = function(fig, msg) {\n",
       "    fig.image_mode = msg['mode'];\n",
       "}\n",
       "\n",
       "mpl.figure.prototype.updated_canvas_event = function() {\n",
       "    // Called whenever the canvas gets updated.\n",
       "    this.send_message(\"ack\", {});\n",
       "}\n",
       "\n",
       "// A function to construct a web socket function for onmessage handling.\n",
       "// Called in the figure constructor.\n",
       "mpl.figure.prototype._make_on_message_function = function(fig) {\n",
       "    return function socket_on_message(evt) {\n",
       "        if (evt.data instanceof Blob) {\n",
       "            /* FIXME: We get \"Resource interpreted as Image but\n",
       "             * transferred with MIME type text/plain:\" errors on\n",
       "             * Chrome.  But how to set the MIME type?  It doesn't seem\n",
       "             * to be part of the websocket stream */\n",
       "            evt.data.type = \"image/png\";\n",
       "\n",
       "            /* Free the memory for the previous frames */\n",
       "            if (fig.imageObj.src) {\n",
       "                (window.URL || window.webkitURL).revokeObjectURL(\n",
       "                    fig.imageObj.src);\n",
       "            }\n",
       "\n",
       "            fig.imageObj.src = (window.URL || window.webkitURL).createObjectURL(\n",
       "                evt.data);\n",
       "            fig.updated_canvas_event();\n",
       "            fig.waiting = false;\n",
       "            return;\n",
       "        }\n",
       "        else if (typeof evt.data === 'string' && evt.data.slice(0, 21) == \"data:image/png;base64\") {\n",
       "            fig.imageObj.src = evt.data;\n",
       "            fig.updated_canvas_event();\n",
       "            fig.waiting = false;\n",
       "            return;\n",
       "        }\n",
       "\n",
       "        var msg = JSON.parse(evt.data);\n",
       "        var msg_type = msg['type'];\n",
       "\n",
       "        // Call the  \"handle_{type}\" callback, which takes\n",
       "        // the figure and JSON message as its only arguments.\n",
       "        try {\n",
       "            var callback = fig[\"handle_\" + msg_type];\n",
       "        } catch (e) {\n",
       "            console.log(\"No handler for the '\" + msg_type + \"' message type: \", msg);\n",
       "            return;\n",
       "        }\n",
       "\n",
       "        if (callback) {\n",
       "            try {\n",
       "                // console.log(\"Handling '\" + msg_type + \"' message: \", msg);\n",
       "                callback(fig, msg);\n",
       "            } catch (e) {\n",
       "                console.log(\"Exception inside the 'handler_\" + msg_type + \"' callback:\", e, e.stack, msg);\n",
       "            }\n",
       "        }\n",
       "    };\n",
       "}\n",
       "\n",
       "// from http://stackoverflow.com/questions/1114465/getting-mouse-location-in-canvas\n",
       "mpl.findpos = function(e) {\n",
       "    //this section is from http://www.quirksmode.org/js/events_properties.html\n",
       "    var targ;\n",
       "    if (!e)\n",
       "        e = window.event;\n",
       "    if (e.target)\n",
       "        targ = e.target;\n",
       "    else if (e.srcElement)\n",
       "        targ = e.srcElement;\n",
       "    if (targ.nodeType == 3) // defeat Safari bug\n",
       "        targ = targ.parentNode;\n",
       "\n",
       "    // jQuery normalizes the pageX and pageY\n",
       "    // pageX,Y are the mouse positions relative to the document\n",
       "    // offset() returns the position of the element relative to the document\n",
       "    var x = e.pageX - $(targ).offset().left;\n",
       "    var y = e.pageY - $(targ).offset().top;\n",
       "\n",
       "    return {\"x\": x, \"y\": y};\n",
       "};\n",
       "\n",
       "/*\n",
       " * return a copy of an object with only non-object keys\n",
       " * we need this to avoid circular references\n",
       " * http://stackoverflow.com/a/24161582/3208463\n",
       " */\n",
       "function simpleKeys (original) {\n",
       "  return Object.keys(original).reduce(function (obj, key) {\n",
       "    if (typeof original[key] !== 'object')\n",
       "        obj[key] = original[key]\n",
       "    return obj;\n",
       "  }, {});\n",
       "}\n",
       "\n",
       "mpl.figure.prototype.mouse_event = function(event, name) {\n",
       "    var canvas_pos = mpl.findpos(event)\n",
       "\n",
       "    if (name === 'button_press')\n",
       "    {\n",
       "        this.canvas.focus();\n",
       "        this.canvas_div.focus();\n",
       "    }\n",
       "\n",
       "    var x = canvas_pos.x * mpl.ratio;\n",
       "    var y = canvas_pos.y * mpl.ratio;\n",
       "\n",
       "    this.send_message(name, {x: x, y: y, button: event.button,\n",
       "                             step: event.step,\n",
       "                             guiEvent: simpleKeys(event)});\n",
       "\n",
       "    /* This prevents the web browser from automatically changing to\n",
       "     * the text insertion cursor when the button is pressed.  We want\n",
       "     * to control all of the cursor setting manually through the\n",
       "     * 'cursor' event from matplotlib */\n",
       "    event.preventDefault();\n",
       "    return false;\n",
       "}\n",
       "\n",
       "mpl.figure.prototype._key_event_extra = function(event, name) {\n",
       "    // Handle any extra behaviour associated with a key event\n",
       "}\n",
       "\n",
       "mpl.figure.prototype.key_event = function(event, name) {\n",
       "\n",
       "    // Prevent repeat events\n",
       "    if (name == 'key_press')\n",
       "    {\n",
       "        if (event.which === this._key)\n",
       "            return;\n",
       "        else\n",
       "            this._key = event.which;\n",
       "    }\n",
       "    if (name == 'key_release')\n",
       "        this._key = null;\n",
       "\n",
       "    var value = '';\n",
       "    if (event.ctrlKey && event.which != 17)\n",
       "        value += \"ctrl+\";\n",
       "    if (event.altKey && event.which != 18)\n",
       "        value += \"alt+\";\n",
       "    if (event.shiftKey && event.which != 16)\n",
       "        value += \"shift+\";\n",
       "\n",
       "    value += 'k';\n",
       "    value += event.which.toString();\n",
       "\n",
       "    this._key_event_extra(event, name);\n",
       "\n",
       "    this.send_message(name, {key: value,\n",
       "                             guiEvent: simpleKeys(event)});\n",
       "    return false;\n",
       "}\n",
       "\n",
       "mpl.figure.prototype.toolbar_button_onclick = function(name) {\n",
       "    if (name == 'download') {\n",
       "        this.handle_save(this, null);\n",
       "    } else {\n",
       "        this.send_message(\"toolbar_button\", {name: name});\n",
       "    }\n",
       "};\n",
       "\n",
       "mpl.figure.prototype.toolbar_button_onmouseover = function(tooltip) {\n",
       "    this.message.textContent = tooltip;\n",
       "};\n",
       "mpl.toolbar_items = [[\"Home\", \"Reset original view\", \"fa fa-home icon-home\", \"home\"], [\"Back\", \"Back to previous view\", \"fa fa-arrow-left icon-arrow-left\", \"back\"], [\"Forward\", \"Forward to next view\", \"fa fa-arrow-right icon-arrow-right\", \"forward\"], [\"\", \"\", \"\", \"\"], [\"Pan\", \"Pan axes with left mouse, zoom with right\", \"fa fa-arrows icon-move\", \"pan\"], [\"Zoom\", \"Zoom to rectangle\", \"fa fa-square-o icon-check-empty\", \"zoom\"], [\"\", \"\", \"\", \"\"], [\"Download\", \"Download plot\", \"fa fa-floppy-o icon-save\", \"download\"]];\n",
       "\n",
       "mpl.extensions = [\"eps\", \"jpeg\", \"pdf\", \"png\", \"ps\", \"raw\", \"svg\", \"tif\"];\n",
       "\n",
       "mpl.default_extension = \"png\";var comm_websocket_adapter = function(comm) {\n",
       "    // Create a \"websocket\"-like object which calls the given IPython comm\n",
       "    // object with the appropriate methods. Currently this is a non binary\n",
       "    // socket, so there is still some room for performance tuning.\n",
       "    var ws = {};\n",
       "\n",
       "    ws.close = function() {\n",
       "        comm.close()\n",
       "    };\n",
       "    ws.send = function(m) {\n",
       "        //console.log('sending', m);\n",
       "        comm.send(m);\n",
       "    };\n",
       "    // Register the callback with on_msg.\n",
       "    comm.on_msg(function(msg) {\n",
       "        //console.log('receiving', msg['content']['data'], msg);\n",
       "        // Pass the mpl event to the overridden (by mpl) onmessage function.\n",
       "        ws.onmessage(msg['content']['data'])\n",
       "    });\n",
       "    return ws;\n",
       "}\n",
       "\n",
       "mpl.mpl_figure_comm = function(comm, msg) {\n",
       "    // This is the function which gets called when the mpl process\n",
       "    // starts-up an IPython Comm through the \"matplotlib\" channel.\n",
       "\n",
       "    var id = msg.content.data.id;\n",
       "    // Get hold of the div created by the display call when the Comm\n",
       "    // socket was opened in Python.\n",
       "    var element = $(\"#\" + id);\n",
       "    var ws_proxy = comm_websocket_adapter(comm)\n",
       "\n",
       "    function ondownload(figure, format) {\n",
       "        window.open(figure.imageObj.src);\n",
       "    }\n",
       "\n",
       "    var fig = new mpl.figure(id, ws_proxy,\n",
       "                           ondownload,\n",
       "                           element.get(0));\n",
       "\n",
       "    // Call onopen now - mpl needs it, as it is assuming we've passed it a real\n",
       "    // web socket which is closed, not our websocket->open comm proxy.\n",
       "    ws_proxy.onopen();\n",
       "\n",
       "    fig.parent_element = element.get(0);\n",
       "    fig.cell_info = mpl.find_output_cell(\"<div id='\" + id + \"'></div>\");\n",
       "    if (!fig.cell_info) {\n",
       "        console.error(\"Failed to find cell for figure\", id, fig);\n",
       "        return;\n",
       "    }\n",
       "\n",
       "    var output_index = fig.cell_info[2]\n",
       "    var cell = fig.cell_info[0];\n",
       "\n",
       "};\n",
       "\n",
       "mpl.figure.prototype.handle_close = function(fig, msg) {\n",
       "    var width = fig.canvas.width/mpl.ratio\n",
       "    fig.root.unbind('remove')\n",
       "\n",
       "    // Update the output cell to use the data from the current canvas.\n",
       "    fig.push_to_output();\n",
       "    var dataURL = fig.canvas.toDataURL();\n",
       "    // Re-enable the keyboard manager in IPython - without this line, in FF,\n",
       "    // the notebook keyboard shortcuts fail.\n",
       "    IPython.keyboard_manager.enable()\n",
       "    $(fig.parent_element).html('<img src=\"' + dataURL + '\" width=\"' + width + '\">');\n",
       "    fig.close_ws(fig, msg);\n",
       "}\n",
       "\n",
       "mpl.figure.prototype.close_ws = function(fig, msg){\n",
       "    fig.send_message('closing', msg);\n",
       "    // fig.ws.close()\n",
       "}\n",
       "\n",
       "mpl.figure.prototype.push_to_output = function(remove_interactive) {\n",
       "    // Turn the data on the canvas into data in the output cell.\n",
       "    var width = this.canvas.width/mpl.ratio\n",
       "    var dataURL = this.canvas.toDataURL();\n",
       "    this.cell_info[1]['text/html'] = '<img src=\"' + dataURL + '\" width=\"' + width + '\">';\n",
       "}\n",
       "\n",
       "mpl.figure.prototype.updated_canvas_event = function() {\n",
       "    // Tell IPython that the notebook contents must change.\n",
       "    IPython.notebook.set_dirty(true);\n",
       "    this.send_message(\"ack\", {});\n",
       "    var fig = this;\n",
       "    // Wait a second, then push the new image to the DOM so\n",
       "    // that it is saved nicely (might be nice to debounce this).\n",
       "    setTimeout(function () { fig.push_to_output() }, 1000);\n",
       "}\n",
       "\n",
       "mpl.figure.prototype._init_toolbar = function() {\n",
       "    var fig = this;\n",
       "\n",
       "    var nav_element = $('<div/>');\n",
       "    nav_element.attr('style', 'width: 100%');\n",
       "    this.root.append(nav_element);\n",
       "\n",
       "    // Define a callback function for later on.\n",
       "    function toolbar_event(event) {\n",
       "        return fig.toolbar_button_onclick(event['data']);\n",
       "    }\n",
       "    function toolbar_mouse_event(event) {\n",
       "        return fig.toolbar_button_onmouseover(event['data']);\n",
       "    }\n",
       "\n",
       "    for(var toolbar_ind in mpl.toolbar_items){\n",
       "        var name = mpl.toolbar_items[toolbar_ind][0];\n",
       "        var tooltip = mpl.toolbar_items[toolbar_ind][1];\n",
       "        var image = mpl.toolbar_items[toolbar_ind][2];\n",
       "        var method_name = mpl.toolbar_items[toolbar_ind][3];\n",
       "\n",
       "        if (!name) { continue; };\n",
       "\n",
       "        var button = $('<button class=\"btn btn-default\" href=\"#\" title=\"' + name + '\"><i class=\"fa ' + image + ' fa-lg\"></i></button>');\n",
       "        button.click(method_name, toolbar_event);\n",
       "        button.mouseover(tooltip, toolbar_mouse_event);\n",
       "        nav_element.append(button);\n",
       "    }\n",
       "\n",
       "    // Add the status bar.\n",
       "    var status_bar = $('<span class=\"mpl-message\" style=\"text-align:right; float: right;\"/>');\n",
       "    nav_element.append(status_bar);\n",
       "    this.message = status_bar[0];\n",
       "\n",
       "    // Add the close button to the window.\n",
       "    var buttongrp = $('<div class=\"btn-group inline pull-right\"></div>');\n",
       "    var button = $('<button class=\"btn btn-mini btn-primary\" href=\"#\" title=\"Stop Interaction\"><i class=\"fa fa-power-off icon-remove icon-large\"></i></button>');\n",
       "    button.click(function (evt) { fig.handle_close(fig, {}); } );\n",
       "    button.mouseover('Stop Interaction', toolbar_mouse_event);\n",
       "    buttongrp.append(button);\n",
       "    var titlebar = this.root.find($('.ui-dialog-titlebar'));\n",
       "    titlebar.prepend(buttongrp);\n",
       "}\n",
       "\n",
       "mpl.figure.prototype._root_extra_style = function(el){\n",
       "    var fig = this\n",
       "    el.on(\"remove\", function(){\n",
       "\tfig.close_ws(fig, {});\n",
       "    });\n",
       "}\n",
       "\n",
       "mpl.figure.prototype._canvas_extra_style = function(el){\n",
       "    // this is important to make the div 'focusable\n",
       "    el.attr('tabindex', 0)\n",
       "    // reach out to IPython and tell the keyboard manager to turn it's self\n",
       "    // off when our div gets focus\n",
       "\n",
       "    // location in version 3\n",
       "    if (IPython.notebook.keyboard_manager) {\n",
       "        IPython.notebook.keyboard_manager.register_events(el);\n",
       "    }\n",
       "    else {\n",
       "        // location in version 2\n",
       "        IPython.keyboard_manager.register_events(el);\n",
       "    }\n",
       "\n",
       "}\n",
       "\n",
       "mpl.figure.prototype._key_event_extra = function(event, name) {\n",
       "    var manager = IPython.notebook.keyboard_manager;\n",
       "    if (!manager)\n",
       "        manager = IPython.keyboard_manager;\n",
       "\n",
       "    // Check for shift+enter\n",
       "    if (event.shiftKey && event.which == 13) {\n",
       "        this.canvas_div.blur();\n",
       "        event.shiftKey = false;\n",
       "        // Send a \"J\" for go to next cell\n",
       "        event.which = 74;\n",
       "        event.keyCode = 74;\n",
       "        manager.command_mode();\n",
       "        manager.handle_keydown(event);\n",
       "    }\n",
       "}\n",
       "\n",
       "mpl.figure.prototype.handle_save = function(fig, msg) {\n",
       "    fig.ondownload(fig, null);\n",
       "}\n",
       "\n",
       "\n",
       "mpl.find_output_cell = function(html_output) {\n",
       "    // Return the cell and output element which can be found *uniquely* in the notebook.\n",
       "    // Note - this is a bit hacky, but it is done because the \"notebook_saving.Notebook\"\n",
       "    // IPython event is triggered only after the cells have been serialised, which for\n",
       "    // our purposes (turning an active figure into a static one), is too late.\n",
       "    var cells = IPython.notebook.get_cells();\n",
       "    var ncells = cells.length;\n",
       "    for (var i=0; i<ncells; i++) {\n",
       "        var cell = cells[i];\n",
       "        if (cell.cell_type === 'code'){\n",
       "            for (var j=0; j<cell.output_area.outputs.length; j++) {\n",
       "                var data = cell.output_area.outputs[j];\n",
       "                if (data.data) {\n",
       "                    // IPython >= 3 moved mimebundle to data attribute of output\n",
       "                    data = data.data;\n",
       "                }\n",
       "                if (data['text/html'] == html_output) {\n",
       "                    return [cell, data, j];\n",
       "                }\n",
       "            }\n",
       "        }\n",
       "    }\n",
       "}\n",
       "\n",
       "// Register the function which deals with the matplotlib target/channel.\n",
       "// The kernel may be null if the page has been refreshed.\n",
       "if (IPython.notebook.kernel != null) {\n",
       "    IPython.notebook.kernel.comm_manager.register_target('matplotlib', mpl.mpl_figure_comm);\n",
       "}\n"
      ],
      "text/plain": [
       "<IPython.core.display.Javascript object>"
      ]
     },
     "metadata": {},
     "output_type": "display_data"
    },
    {
     "data": {
      "text/html": [
       "<img src=\"data:image/png;base64,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\" width=\"640\">"
      ],
      "text/plain": [
       "<IPython.core.display.HTML object>"
      ]
     },
     "metadata": {},
     "output_type": "display_data"
    }
   ],
   "source": [
    "plt.figure()\n",
    "#plt.axis(option = 'on')\n",
    "plt.xlabel(\"x\")\n",
    "plt.ylabel(\"y\")\n",
    "plt.scatter(A_x,A_y)\n",
    "plt.scatter(B_x,B_y)\n",
    "plt.scatter(finding_point[0],finding_point[1], marker='*')\n",
    " \n",
    "plt.show()"
   ]
  },
  {
   "cell_type": "code",
   "execution_count": 43,
   "metadata": {},
   "outputs": [],
   "source": [
    "def count_min_value(L,c):\n",
    "    temp = L.copy()\n",
    "    temp.sort()\n",
    "    item = temp[c-1]\n",
    "    return L.index(item),item\n"
   ]
  },
  {
   "cell_type": "code",
   "execution_count": 44,
   "metadata": {},
   "outputs": [],
   "source": [
    "# 입력값이 A그룹인지 B그룹인지 찾는 함수::KNN Algorithm 적용\n",
    "def finding_AorB(k,x,y):\n",
    "    # numA, numB는 합이 k이고, target에서 가까운 점들 중 A , B의 점이 각각 몇 개인지 나타낼 것\n",
    "    numA = 0\n",
    "    numB = 0\n",
    "    \n",
    "    # x, y 좌표를 합쳐서 A_xy, B_xy에 넣어줌\n",
    "    A_xy = []\n",
    "    B_xy = []\n",
    "    \n",
    "    # x,y 좌표가 따로 있는 것을 하나의 리스트로 통합\n",
    "    for i in range(len(A_x_list)):\n",
    "        A_xy.append([A_x_list[i],A_y_list[i]])\n",
    "    for i in range(len(B_x_list)):\n",
    "        B_xy.append([B_x_list[i],B_y_list[i]])\n",
    " \n",
    "    A_distance = []\n",
    "    B_distance = []\n",
    "    \n",
    "    # x,y 좌표에 대해 입력값과의 거리 산출\n",
    "    for each in A_xy:\n",
    "        dis = ((each[0] - x)**2 + (each[1] - y)**2)**(1/2)\n",
    "        A_distance.append(dis)\n",
    "    for each in B_xy:\n",
    "        dis = ((each[0] - x)**2 + (each[1] - y)**2)**(1/2)\n",
    "        B_distance.append(dis)\n",
    "        \n",
    "    A_result = []\n",
    "    B_result = []\n",
    "    \n",
    "    # 첫번째로 가까운 값부터 시작\n",
    "    A_min_count = 1\n",
    "    B_min_count = 1\n",
    "    \n",
    "    # numA, numB는 합이 k이고, target에서 가까운 점들 중 A , B의 점이 각각 몇 개인지 나타냄\n",
    "    while(numA + numB < k):\n",
    "        min_A = 99999\n",
    "        min_B = 99999\n",
    "\n",
    "        # target과 min_count번째로 가까운 A 집합의 점, 가장 가까운 B 집합의 점을 각각 구함\n",
    "        _, min_A = count_min_value(A_distance,A_min_count)\n",
    "        _, min_B = count_min_value(B_distance,B_min_count)\n",
    "\n",
    "        \n",
    "        # A,B 집합에서 각각 구한 점을 비교해서 거리가 짧은 점의 집합에 num, min_count 모두 1씩 키워줌\n",
    "        if min_A < min_B:\n",
    "            numA += 1\n",
    "            A_min_count += 1\n",
    "            A_result.append(A_xy[A_distance.index(min_A)])\n",
    "            A_distance[A_distance.index(min_A)] = -1\n",
    "            \n",
    "        elif min_A > min_B:\n",
    "            numB += 1\n",
    "            B_min_count += 1\n",
    "            B_result.append(B_xy[B_distance.index(min_B)])\n",
    "            B_distance[B_distance.index(min_B)] = -1\n",
    "        \n",
    "        # 같은 거리에 있는 점이 있는 경우 A, B 모두 증가시켜줌\n",
    "        elif min_A == min_B:\n",
    "            numA += 1\n",
    "            numB += 1\n",
    "            A_min_count += 1\n",
    "            B_min_count += 1\n",
    "            A_result.append(A_xy[A_distance.index(min_A)])\n",
    "            A_distance[A_distance.index(min_A)] = -1\n",
    "            B_result.append(B_xy[B_distance.index(min_B)])\n",
    "            B_distance[B_distance.index(min_B)] = -1\n",
    "            \n",
    "    if numA > numB:\n",
    "        print(\"RESULT: The point is A\")\n",
    "    elif numA < numB:\n",
    "        print(\"RESULT, The point is B\")\n",
    "    elif numA == numB:\n",
    "        print(\"I DON'T KNOW\")\n",
    "    print(\"near A point is\",A_result,\"\\nnear B point is\",B_result,\"\\n\")"
   ]
  },
  {
   "cell_type": "code",
   "execution_count": 84,
   "metadata": {},
   "outputs": [
    {
     "name": "stdout",
     "output_type": "stream",
     "text": [
      "I DON'T KNOW\n",
      "near A point is [[4, 5], [4, 6]] \n",
      "near B point is [[7, 4], [5, 2]] \n",
      "\n"
     ]
    }
   ],
   "source": [
    "# k 값을 바꿔가면서 실행해보세요\n",
    "k = 4\n",
    "finding_AorB(k,finding_point[0],finding_point[1])"
   ]
  },
  {
   "cell_type": "code",
   "execution_count": 87,
   "metadata": {},
   "outputs": [],
   "source": [
    "from sklearn.model_selection import train_test_split"
   ]
  },
  {
   "cell_type": "code",
   "execution_count": 88,
   "metadata": {},
   "outputs": [],
   "source": [
    "X = iris_dataset.data\n",
    "y = iris_dataset.target\n",
    "X_train, X_test, y_train, y_test = train_test_split(X,y,test_size = 0.2, random_state = 2020)"
   ]
  },
  {
   "cell_type": "code",
   "execution_count": 83,
   "metadata": {},
   "outputs": [],
   "source": [
    "from sklearn.neighbors import KNeighborsClassifier"
   ]
  },
  {
   "cell_type": "code",
   "execution_count": 85,
   "metadata": {},
   "outputs": [],
   "source": [
    "knn = KNeighborsClassifier (n_neighbors =1)"
   ]
  },
  {
   "cell_type": "code",
   "execution_count": 89,
   "metadata": {},
   "outputs": [
    {
     "data": {
      "text/plain": [
       "KNeighborsClassifier(algorithm='auto', leaf_size=30, metric='minkowski',\n",
       "                     metric_params=None, n_jobs=None, n_neighbors=1, p=2,\n",
       "                     weights='uniform')"
      ]
     },
     "execution_count": 89,
     "metadata": {},
     "output_type": "execute_result"
    }
   ],
   "source": [
    "knn.fit(X_train, y_train)"
   ]
  },
  {
   "cell_type": "code",
   "execution_count": 103,
   "metadata": {},
   "outputs": [],
   "source": [
    "X_new = np.array([[5, 6, 2, 3]])"
   ]
  },
  {
   "cell_type": "code",
   "execution_count": 104,
   "metadata": {},
   "outputs": [],
   "source": [
    "prediction = knn.predict(X_new)"
   ]
  },
  {
   "cell_type": "code",
   "execution_count": 108,
   "metadata": {},
   "outputs": [
    {
     "name": "stdout",
     "output_type": "stream",
     "text": [
      "[0]\n",
      "['setosa']\n"
     ]
    }
   ],
   "source": [
    "print(prediction)\n",
    "print(iris_dataset['target_names'][prediction])"
   ]
  },
  {
   "cell_type": "code",
   "execution_count": 116,
   "metadata": {},
   "outputs": [],
   "source": [
    "knn2 = KNeighborsClassifier (n_neighbors =10)"
   ]
  },
  {
   "cell_type": "code",
   "execution_count": 117,
   "metadata": {},
   "outputs": [
    {
     "data": {
      "text/plain": [
       "KNeighborsClassifier(algorithm='auto', leaf_size=30, metric='minkowski',\n",
       "                     metric_params=None, n_jobs=None, n_neighbors=10, p=2,\n",
       "                     weights='uniform')"
      ]
     },
     "execution_count": 117,
     "metadata": {},
     "output_type": "execute_result"
    }
   ],
   "source": [
    "knn2.fit(X_train, y_train)"
   ]
  },
  {
   "cell_type": "code",
   "execution_count": 118,
   "metadata": {},
   "outputs": [
    {
     "name": "stdout",
     "output_type": "stream",
     "text": [
      "[0]\n",
      "['setosa']\n"
     ]
    }
   ],
   "source": [
    "prediction = knn.predict(X_new)\n",
    "print(prediction)\n",
    "print(iris_dataset['target_names'][prediction])"
   ]
  },
  {
   "cell_type": "code",
   "execution_count": null,
   "metadata": {},
   "outputs": [],
   "source": []
  },
  {
   "cell_type": "code",
   "execution_count": null,
   "metadata": {},
   "outputs": [],
   "source": []
  },
  {
   "cell_type": "markdown",
   "metadata": {},
   "source": [
    "## 새로운 데이터 사용해서 분석해보기 "
   ]
  },
  {
   "cell_type": "code",
   "execution_count": 16,
   "metadata": {},
   "outputs": [],
   "source": [
    "from sklearn.datasets import load_breast_cancer"
   ]
  },
  {
   "cell_type": "code",
   "execution_count": 18,
   "metadata": {},
   "outputs": [],
   "source": [
    "cancer=load_breast_cancer()"
   ]
  },
  {
   "cell_type": "code",
   "execution_count": 19,
   "metadata": {},
   "outputs": [],
   "source": [
    "X= cancer.data\n",
    "y= cancer.target"
   ]
  },
  {
   "cell_type": "code",
   "execution_count": 20,
   "metadata": {},
   "outputs": [],
   "source": [
    "X_train, X_test, y_train, y_test = train_test_split(X,y,test_size = 0.2, random_state = 2020)"
   ]
  },
  {
   "cell_type": "code",
   "execution_count": 21,
   "metadata": {},
   "outputs": [],
   "source": [
    "dtree = DecisionTreeClassifier(random_state= 0)"
   ]
  },
  {
   "cell_type": "code",
   "execution_count": 22,
   "metadata": {},
   "outputs": [
    {
     "data": {
      "text/plain": [
       "DecisionTreeClassifier(class_weight=None, criterion='gini', max_depth=None,\n",
       "                       max_features=None, max_leaf_nodes=None,\n",
       "                       min_impurity_decrease=0.0, min_impurity_split=None,\n",
       "                       min_samples_leaf=1, min_samples_split=2,\n",
       "                       min_weight_fraction_leaf=0.0, presort=False,\n",
       "                       random_state=0, splitter='best')"
      ]
     },
     "execution_count": 22,
     "metadata": {},
     "output_type": "execute_result"
    }
   ],
   "source": [
    "dtree.fit(X_train, y_train)"
   ]
  },
  {
   "cell_type": "code",
   "execution_count": 24,
   "metadata": {},
   "outputs": [
    {
     "name": "stdout",
     "output_type": "stream",
     "text": [
      "train set score 1.000000\n",
      "test set score 0.947368\n"
     ]
    }
   ],
   "source": [
    "print('train set score {:3f}'.format(dtree.score(X_train,y_train)))\n",
    "print('test set score {:3f}'.format(dtree.score(X_test,y_test)))"
   ]
  },
  {
   "cell_type": "code",
   "execution_count": 25,
   "metadata": {},
   "outputs": [],
   "source": [
    "dtreeLimit = DecisionTreeClassifier(max_depth = 3, random_state= 0)"
   ]
  },
  {
   "cell_type": "code",
   "execution_count": 26,
   "metadata": {},
   "outputs": [
    {
     "data": {
      "text/plain": [
       "DecisionTreeClassifier(class_weight=None, criterion='gini', max_depth=3,\n",
       "                       max_features=None, max_leaf_nodes=None,\n",
       "                       min_impurity_decrease=0.0, min_impurity_split=None,\n",
       "                       min_samples_leaf=1, min_samples_split=2,\n",
       "                       min_weight_fraction_leaf=0.0, presort=False,\n",
       "                       random_state=0, splitter='best')"
      ]
     },
     "execution_count": 26,
     "metadata": {},
     "output_type": "execute_result"
    }
   ],
   "source": [
    "dtreeLimit.fit(X_train, y_train)"
   ]
  },
  {
   "cell_type": "code",
   "execution_count": 27,
   "metadata": {},
   "outputs": [
    {
     "name": "stdout",
     "output_type": "stream",
     "text": [
      "train set score 0.973626\n",
      "test set score 0.929825\n"
     ]
    }
   ],
   "source": [
    "print('train set score {:3f}'.format(dtreeLimit.score(X_train,y_train)))\n",
    "print('test set score {:3f}'.format(dtreeLimit.score(X_test,y_test)))"
   ]
  },
  {
   "cell_type": "code",
   "execution_count": 31,
   "metadata": {},
   "outputs": [],
   "source": [
    "export_graphviz(dtreeLimit, out_file = 'decisionTreeLimit.dot',\n",
    "               feature_names = cancer.feature_names,\n",
    "               class_names = cancer.target_names,\n",
    "               rounded=True, proportion = False,\n",
    "               filled=True, precision = 2)"
   ]
  },
  {
   "cell_type": "code",
   "execution_count": 32,
   "metadata": {},
   "outputs": [
    {
     "data": {
      "image/svg+xml": [
       "<?xml version=\"1.0\" encoding=\"UTF-8\" standalone=\"no\"?>\n",
       "<!DOCTYPE svg PUBLIC \"-//W3C//DTD SVG 1.1//EN\"\n",
       " \"http://www.w3.org/Graphics/SVG/1.1/DTD/svg11.dtd\">\n",
       "<!-- Generated by graphviz version 2.42.3 (20191010.1750)\n",
       " -->\n",
       "<!-- Title: Tree Pages: 1 -->\n",
       "<svg width=\"1042pt\" height=\"414pt\"\n",
       " viewBox=\"0.00 0.00 1042.34 414.00\" xmlns=\"http://www.w3.org/2000/svg\" xmlns:xlink=\"http://www.w3.org/1999/xlink\">\n",
       "<g id=\"graph0\" class=\"graph\" transform=\"scale(1 1) rotate(0) translate(4 410)\">\n",
       "<title>Tree</title>\n",
       "<polygon fill=\"white\" stroke=\"transparent\" points=\"-4,4 -4,-410 1038.34,-410 1038.34,4 -4,4\"/>\n",
       "<!-- 0 -->\n",
       "<g id=\"node1\" class=\"node\">\n",
       "<title>0</title>\n",
       "<path fill=\"#a9d4f4\" stroke=\"black\" d=\"M622.2,-406C622.2,-406 495.93,-406 495.93,-406 489.93,-406 483.93,-400 483.93,-394 483.93,-394 483.93,-340 483.93,-340 483.93,-334 489.93,-328 495.93,-328 495.93,-328 622.2,-328 622.2,-328 628.2,-328 634.2,-334 634.2,-340 634.2,-340 634.2,-394 634.2,-394 634.2,-400 628.2,-406 622.2,-406\"/>\n",
       "<text text-anchor=\"middle\" x=\"559.06\" y=\"-390.8\" font-family=\"Helvetica,sans-Serif\" font-size=\"14.00\">worst radius &lt;= 16.81</text>\n",
       "<text text-anchor=\"middle\" x=\"559.06\" y=\"-376.8\" font-family=\"Helvetica,sans-Serif\" font-size=\"14.00\">gini = 0.46</text>\n",
       "<text text-anchor=\"middle\" x=\"559.06\" y=\"-362.8\" font-family=\"Helvetica,sans-Serif\" font-size=\"14.00\">samples = 455</text>\n",
       "<text text-anchor=\"middle\" x=\"559.06\" y=\"-348.8\" font-family=\"Helvetica,sans-Serif\" font-size=\"14.00\">value = [164, 291]</text>\n",
       "<text text-anchor=\"middle\" x=\"559.06\" y=\"-334.8\" font-family=\"Helvetica,sans-Serif\" font-size=\"14.00\">class = benign</text>\n",
       "</g>\n",
       "<!-- 1 -->\n",
       "<g id=\"node2\" class=\"node\">\n",
       "<title>1</title>\n",
       "<path fill=\"#4aa6e7\" stroke=\"black\" d=\"M502.17,-292C502.17,-292 327.95,-292 327.95,-292 321.95,-292 315.95,-286 315.95,-280 315.95,-280 315.95,-226 315.95,-226 315.95,-220 321.95,-214 327.95,-214 327.95,-214 502.17,-214 502.17,-214 508.17,-214 514.17,-220 514.17,-226 514.17,-226 514.17,-280 514.17,-280 514.17,-286 508.17,-292 502.17,-292\"/>\n",
       "<text text-anchor=\"middle\" x=\"415.06\" y=\"-276.8\" font-family=\"Helvetica,sans-Serif\" font-size=\"14.00\">worst concave points &lt;= 0.16</text>\n",
       "<text text-anchor=\"middle\" x=\"415.06\" y=\"-262.8\" font-family=\"Helvetica,sans-Serif\" font-size=\"14.00\">gini = 0.15</text>\n",
       "<text text-anchor=\"middle\" x=\"415.06\" y=\"-248.8\" font-family=\"Helvetica,sans-Serif\" font-size=\"14.00\">samples = 309</text>\n",
       "<text text-anchor=\"middle\" x=\"415.06\" y=\"-234.8\" font-family=\"Helvetica,sans-Serif\" font-size=\"14.00\">value = [25, 284]</text>\n",
       "<text text-anchor=\"middle\" x=\"415.06\" y=\"-220.8\" font-family=\"Helvetica,sans-Serif\" font-size=\"14.00\">class = benign</text>\n",
       "</g>\n",
       "<!-- 0&#45;&gt;1 -->\n",
       "<g id=\"edge1\" class=\"edge\">\n",
       "<title>0&#45;&gt;1</title>\n",
       "<path fill=\"none\" stroke=\"black\" d=\"M509.91,-327.77C497.75,-318.31 484.61,-308.09 472.11,-298.37\"/>\n",
       "<polygon fill=\"black\" stroke=\"black\" points=\"474.04,-295.44 464,-292.06 469.74,-300.96 474.04,-295.44\"/>\n",
       "<text text-anchor=\"middle\" x=\"467.1\" y=\"-312.67\" font-family=\"Helvetica,sans-Serif\" font-size=\"14.00\">True</text>\n",
       "</g>\n",
       "<!-- 8 -->\n",
       "<g id=\"node9\" class=\"node\">\n",
       "<title>8</title>\n",
       "<path fill=\"#e68743\" stroke=\"black\" d=\"M711.64,-292C711.64,-292 572.49,-292 572.49,-292 566.49,-292 560.49,-286 560.49,-280 560.49,-280 560.49,-226 560.49,-226 560.49,-220 566.49,-214 572.49,-214 572.49,-214 711.64,-214 711.64,-214 717.64,-214 723.64,-220 723.64,-226 723.64,-226 723.64,-280 723.64,-280 723.64,-286 717.64,-292 711.64,-292\"/>\n",
       "<text text-anchor=\"middle\" x=\"642.06\" y=\"-276.8\" font-family=\"Helvetica,sans-Serif\" font-size=\"14.00\">worst concavity &lt;= 0.22</text>\n",
       "<text text-anchor=\"middle\" x=\"642.06\" y=\"-262.8\" font-family=\"Helvetica,sans-Serif\" font-size=\"14.00\">gini = 0.09</text>\n",
       "<text text-anchor=\"middle\" x=\"642.06\" y=\"-248.8\" font-family=\"Helvetica,sans-Serif\" font-size=\"14.00\">samples = 146</text>\n",
       "<text text-anchor=\"middle\" x=\"642.06\" y=\"-234.8\" font-family=\"Helvetica,sans-Serif\" font-size=\"14.00\">value = [139, 7]</text>\n",
       "<text text-anchor=\"middle\" x=\"642.06\" y=\"-220.8\" font-family=\"Helvetica,sans-Serif\" font-size=\"14.00\">class = malignant</text>\n",
       "</g>\n",
       "<!-- 0&#45;&gt;8 -->\n",
       "<g id=\"edge8\" class=\"edge\">\n",
       "<title>0&#45;&gt;8</title>\n",
       "<path fill=\"none\" stroke=\"black\" d=\"M587.4,-327.77C593.94,-318.94 600.97,-309.45 607.74,-300.32\"/>\n",
       "<polygon fill=\"black\" stroke=\"black\" points=\"610.72,-302.18 613.86,-292.06 605.09,-298.01 610.72,-302.18\"/>\n",
       "<text text-anchor=\"middle\" x=\"617.54\" y=\"-312.59\" font-family=\"Helvetica,sans-Serif\" font-size=\"14.00\">False</text>\n",
       "</g>\n",
       "<!-- 2 -->\n",
       "<g id=\"node3\" class=\"node\">\n",
       "<title>2</title>\n",
       "<path fill=\"#41a1e6\" stroke=\"black\" d=\"M270.17,-178C270.17,-178 95.95,-178 95.95,-178 89.95,-178 83.95,-172 83.95,-166 83.95,-166 83.95,-112 83.95,-112 83.95,-106 89.95,-100 95.95,-100 95.95,-100 270.17,-100 270.17,-100 276.17,-100 282.17,-106 282.17,-112 282.17,-112 282.17,-166 282.17,-166 282.17,-172 276.17,-178 270.17,-178\"/>\n",
       "<text text-anchor=\"middle\" x=\"183.06\" y=\"-162.8\" font-family=\"Helvetica,sans-Serif\" font-size=\"14.00\">worst concave points &lt;= 0.14</text>\n",
       "<text text-anchor=\"middle\" x=\"183.06\" y=\"-148.8\" font-family=\"Helvetica,sans-Serif\" font-size=\"14.00\">gini = 0.08</text>\n",
       "<text text-anchor=\"middle\" x=\"183.06\" y=\"-134.8\" font-family=\"Helvetica,sans-Serif\" font-size=\"14.00\">samples = 295</text>\n",
       "<text text-anchor=\"middle\" x=\"183.06\" y=\"-120.8\" font-family=\"Helvetica,sans-Serif\" font-size=\"14.00\">value = [12, 283]</text>\n",
       "<text text-anchor=\"middle\" x=\"183.06\" y=\"-106.8\" font-family=\"Helvetica,sans-Serif\" font-size=\"14.00\">class = benign</text>\n",
       "</g>\n",
       "<!-- 1&#45;&gt;2 -->\n",
       "<g id=\"edge2\" class=\"edge\">\n",
       "<title>1&#45;&gt;2</title>\n",
       "<path fill=\"none\" stroke=\"black\" d=\"M336.2,-213.93C315.28,-203.83 292.56,-192.86 271.18,-182.54\"/>\n",
       "<polygon fill=\"black\" stroke=\"black\" points=\"272.63,-179.35 262.11,-178.16 269.59,-185.66 272.63,-179.35\"/>\n",
       "</g>\n",
       "<!-- 5 -->\n",
       "<g id=\"node6\" class=\"node\">\n",
       "<title>5</title>\n",
       "<path fill=\"#e78b48\" stroke=\"black\" d=\"M484.64,-178C484.64,-178 345.49,-178 345.49,-178 339.49,-178 333.49,-172 333.49,-166 333.49,-166 333.49,-112 333.49,-112 333.49,-106 339.49,-100 345.49,-100 345.49,-100 484.64,-100 484.64,-100 490.64,-100 496.64,-106 496.64,-112 496.64,-112 496.64,-166 496.64,-166 496.64,-172 490.64,-178 484.64,-178\"/>\n",
       "<text text-anchor=\"middle\" x=\"415.06\" y=\"-162.8\" font-family=\"Helvetica,sans-Serif\" font-size=\"14.00\">worst concavity &lt;= 1.05</text>\n",
       "<text text-anchor=\"middle\" x=\"415.06\" y=\"-148.8\" font-family=\"Helvetica,sans-Serif\" font-size=\"14.00\">gini = 0.13</text>\n",
       "<text text-anchor=\"middle\" x=\"415.06\" y=\"-134.8\" font-family=\"Helvetica,sans-Serif\" font-size=\"14.00\">samples = 14</text>\n",
       "<text text-anchor=\"middle\" x=\"415.06\" y=\"-120.8\" font-family=\"Helvetica,sans-Serif\" font-size=\"14.00\">value = [13, 1]</text>\n",
       "<text text-anchor=\"middle\" x=\"415.06\" y=\"-106.8\" font-family=\"Helvetica,sans-Serif\" font-size=\"14.00\">class = malignant</text>\n",
       "</g>\n",
       "<!-- 1&#45;&gt;5 -->\n",
       "<g id=\"edge5\" class=\"edge\">\n",
       "<title>1&#45;&gt;5</title>\n",
       "<path fill=\"none\" stroke=\"black\" d=\"M415.06,-213.77C415.06,-205.57 415.06,-196.8 415.06,-188.28\"/>\n",
       "<polygon fill=\"black\" stroke=\"black\" points=\"418.56,-188.06 415.06,-178.06 411.56,-188.06 418.56,-188.06\"/>\n",
       "</g>\n",
       "<!-- 3 -->\n",
       "<g id=\"node4\" class=\"node\">\n",
       "<title>3</title>\n",
       "<path fill=\"#3c9ee5\" stroke=\"black\" d=\"M100.19,-64C100.19,-64 11.94,-64 11.94,-64 5.94,-64 -0.06,-58 -0.06,-52 -0.06,-52 -0.06,-12 -0.06,-12 -0.06,-6 5.94,0 11.94,0 11.94,0 100.19,0 100.19,0 106.19,0 112.19,-6 112.19,-12 112.19,-12 112.19,-52 112.19,-52 112.19,-58 106.19,-64 100.19,-64\"/>\n",
       "<text text-anchor=\"middle\" x=\"56.06\" y=\"-48.8\" font-family=\"Helvetica,sans-Serif\" font-size=\"14.00\">gini = 0.03</text>\n",
       "<text text-anchor=\"middle\" x=\"56.06\" y=\"-34.8\" font-family=\"Helvetica,sans-Serif\" font-size=\"14.00\">samples = 272</text>\n",
       "<text text-anchor=\"middle\" x=\"56.06\" y=\"-20.8\" font-family=\"Helvetica,sans-Serif\" font-size=\"14.00\">value = [4, 268]</text>\n",
       "<text text-anchor=\"middle\" x=\"56.06\" y=\"-6.8\" font-family=\"Helvetica,sans-Serif\" font-size=\"14.00\">class = benign</text>\n",
       "</g>\n",
       "<!-- 2&#45;&gt;3 -->\n",
       "<g id=\"edge3\" class=\"edge\">\n",
       "<title>2&#45;&gt;3</title>\n",
       "<path fill=\"none\" stroke=\"black\" d=\"M136.85,-99.8C125.33,-90.27 112.98,-80.06 101.49,-70.56\"/>\n",
       "<polygon fill=\"black\" stroke=\"black\" points=\"103.64,-67.79 93.7,-64.12 99.18,-73.19 103.64,-67.79\"/>\n",
       "</g>\n",
       "<!-- 4 -->\n",
       "<g id=\"node5\" class=\"node\">\n",
       "<title>4</title>\n",
       "<path fill=\"#a3d1f3\" stroke=\"black\" d=\"M223.96,-64C223.96,-64 142.17,-64 142.17,-64 136.17,-64 130.17,-58 130.17,-52 130.17,-52 130.17,-12 130.17,-12 130.17,-6 136.17,0 142.17,0 142.17,0 223.96,0 223.96,0 229.96,0 235.96,-6 235.96,-12 235.96,-12 235.96,-52 235.96,-52 235.96,-58 229.96,-64 223.96,-64\"/>\n",
       "<text text-anchor=\"middle\" x=\"183.06\" y=\"-48.8\" font-family=\"Helvetica,sans-Serif\" font-size=\"14.00\">gini = 0.45</text>\n",
       "<text text-anchor=\"middle\" x=\"183.06\" y=\"-34.8\" font-family=\"Helvetica,sans-Serif\" font-size=\"14.00\">samples = 23</text>\n",
       "<text text-anchor=\"middle\" x=\"183.06\" y=\"-20.8\" font-family=\"Helvetica,sans-Serif\" font-size=\"14.00\">value = [8, 15]</text>\n",
       "<text text-anchor=\"middle\" x=\"183.06\" y=\"-6.8\" font-family=\"Helvetica,sans-Serif\" font-size=\"14.00\">class = benign</text>\n",
       "</g>\n",
       "<!-- 2&#45;&gt;4 -->\n",
       "<g id=\"edge4\" class=\"edge\">\n",
       "<title>2&#45;&gt;4</title>\n",
       "<path fill=\"none\" stroke=\"black\" d=\"M183.06,-99.8C183.06,-91.46 183.06,-82.6 183.06,-74.15\"/>\n",
       "<polygon fill=\"black\" stroke=\"black\" points=\"186.56,-74.12 183.06,-64.12 179.56,-74.12 186.56,-74.12\"/>\n",
       "</g>\n",
       "<!-- 6 -->\n",
       "<g id=\"node7\" class=\"node\">\n",
       "<title>6</title>\n",
       "<path fill=\"#e58139\" stroke=\"black\" d=\"M366.12,-64C366.12,-64 266.01,-64 266.01,-64 260.01,-64 254.01,-58 254.01,-52 254.01,-52 254.01,-12 254.01,-12 254.01,-6 260.01,0 266.01,0 266.01,0 366.12,0 366.12,0 372.12,0 378.12,-6 378.12,-12 378.12,-12 378.12,-52 378.12,-52 378.12,-58 372.12,-64 366.12,-64\"/>\n",
       "<text text-anchor=\"middle\" x=\"316.06\" y=\"-48.8\" font-family=\"Helvetica,sans-Serif\" font-size=\"14.00\">gini = 0.0</text>\n",
       "<text text-anchor=\"middle\" x=\"316.06\" y=\"-34.8\" font-family=\"Helvetica,sans-Serif\" font-size=\"14.00\">samples = 13</text>\n",
       "<text text-anchor=\"middle\" x=\"316.06\" y=\"-20.8\" font-family=\"Helvetica,sans-Serif\" font-size=\"14.00\">value = [13, 0]</text>\n",
       "<text text-anchor=\"middle\" x=\"316.06\" y=\"-6.8\" font-family=\"Helvetica,sans-Serif\" font-size=\"14.00\">class = malignant</text>\n",
       "</g>\n",
       "<!-- 5&#45;&gt;6 -->\n",
       "<g id=\"edge6\" class=\"edge\">\n",
       "<title>5&#45;&gt;6</title>\n",
       "<path fill=\"none\" stroke=\"black\" d=\"M379.04,-99.8C370.4,-90.63 361.17,-80.84 352.51,-71.66\"/>\n",
       "<polygon fill=\"black\" stroke=\"black\" points=\"354.81,-68.99 345.4,-64.12 349.72,-73.79 354.81,-68.99\"/>\n",
       "</g>\n",
       "<!-- 7 -->\n",
       "<g id=\"node8\" class=\"node\">\n",
       "<title>7</title>\n",
       "<path fill=\"#399de5\" stroke=\"black\" d=\"M489.96,-64C489.96,-64 408.17,-64 408.17,-64 402.17,-64 396.17,-58 396.17,-52 396.17,-52 396.17,-12 396.17,-12 396.17,-6 402.17,0 408.17,0 408.17,0 489.96,0 489.96,0 495.96,0 501.96,-6 501.96,-12 501.96,-12 501.96,-52 501.96,-52 501.96,-58 495.96,-64 489.96,-64\"/>\n",
       "<text text-anchor=\"middle\" x=\"449.06\" y=\"-48.8\" font-family=\"Helvetica,sans-Serif\" font-size=\"14.00\">gini = 0.0</text>\n",
       "<text text-anchor=\"middle\" x=\"449.06\" y=\"-34.8\" font-family=\"Helvetica,sans-Serif\" font-size=\"14.00\">samples = 1</text>\n",
       "<text text-anchor=\"middle\" x=\"449.06\" y=\"-20.8\" font-family=\"Helvetica,sans-Serif\" font-size=\"14.00\">value = [0, 1]</text>\n",
       "<text text-anchor=\"middle\" x=\"449.06\" y=\"-6.8\" font-family=\"Helvetica,sans-Serif\" font-size=\"14.00\">class = benign</text>\n",
       "</g>\n",
       "<!-- 5&#45;&gt;7 -->\n",
       "<g id=\"edge7\" class=\"edge\">\n",
       "<title>5&#45;&gt;7</title>\n",
       "<path fill=\"none\" stroke=\"black\" d=\"M427.43,-99.8C430.16,-91.37 433.07,-82.41 435.83,-73.88\"/>\n",
       "<polygon fill=\"black\" stroke=\"black\" points=\"439.24,-74.71 438.99,-64.12 432.58,-72.55 439.24,-74.71\"/>\n",
       "</g>\n",
       "<!-- 9 -->\n",
       "<g id=\"node10\" class=\"node\">\n",
       "<title>9</title>\n",
       "<path fill=\"#88c4ef\" stroke=\"black\" d=\"M707.87,-178C707.87,-178 576.26,-178 576.26,-178 570.26,-178 564.26,-172 564.26,-166 564.26,-166 564.26,-112 564.26,-112 564.26,-106 570.26,-100 576.26,-100 576.26,-100 707.87,-100 707.87,-100 713.87,-100 719.87,-106 719.87,-112 719.87,-112 719.87,-166 719.87,-166 719.87,-172 713.87,-178 707.87,-178\"/>\n",
       "<text text-anchor=\"middle\" x=\"642.06\" y=\"-162.8\" font-family=\"Helvetica,sans-Serif\" font-size=\"14.00\">worst texture &lt;= 29.77</text>\n",
       "<text text-anchor=\"middle\" x=\"642.06\" y=\"-148.8\" font-family=\"Helvetica,sans-Serif\" font-size=\"14.00\">gini = 0.41</text>\n",
       "<text text-anchor=\"middle\" x=\"642.06\" y=\"-134.8\" font-family=\"Helvetica,sans-Serif\" font-size=\"14.00\">samples = 7</text>\n",
       "<text text-anchor=\"middle\" x=\"642.06\" y=\"-120.8\" font-family=\"Helvetica,sans-Serif\" font-size=\"14.00\">value = [2, 5]</text>\n",
       "<text text-anchor=\"middle\" x=\"642.06\" y=\"-106.8\" font-family=\"Helvetica,sans-Serif\" font-size=\"14.00\">class = benign</text>\n",
       "</g>\n",
       "<!-- 8&#45;&gt;9 -->\n",
       "<g id=\"edge9\" class=\"edge\">\n",
       "<title>8&#45;&gt;9</title>\n",
       "<path fill=\"none\" stroke=\"black\" d=\"M642.06,-213.77C642.06,-205.57 642.06,-196.8 642.06,-188.28\"/>\n",
       "<polygon fill=\"black\" stroke=\"black\" points=\"645.56,-188.06 642.06,-178.06 638.56,-188.06 645.56,-188.06\"/>\n",
       "</g>\n",
       "<!-- 12 -->\n",
       "<g id=\"node13\" class=\"node\">\n",
       "<title>12</title>\n",
       "<path fill=\"#e5833c\" stroke=\"black\" d=\"M900.58,-178C900.58,-178 777.55,-178 777.55,-178 771.55,-178 765.55,-172 765.55,-166 765.55,-166 765.55,-112 765.55,-112 765.55,-106 771.55,-100 777.55,-100 777.55,-100 900.58,-100 900.58,-100 906.58,-100 912.58,-106 912.58,-112 912.58,-112 912.58,-166 912.58,-166 912.58,-172 906.58,-178 900.58,-178\"/>\n",
       "<text text-anchor=\"middle\" x=\"839.06\" y=\"-162.8\" font-family=\"Helvetica,sans-Serif\" font-size=\"14.00\">worst texture &lt;= 16.3</text>\n",
       "<text text-anchor=\"middle\" x=\"839.06\" y=\"-148.8\" font-family=\"Helvetica,sans-Serif\" font-size=\"14.00\">gini = 0.03</text>\n",
       "<text text-anchor=\"middle\" x=\"839.06\" y=\"-134.8\" font-family=\"Helvetica,sans-Serif\" font-size=\"14.00\">samples = 139</text>\n",
       "<text text-anchor=\"middle\" x=\"839.06\" y=\"-120.8\" font-family=\"Helvetica,sans-Serif\" font-size=\"14.00\">value = [137, 2]</text>\n",
       "<text text-anchor=\"middle\" x=\"839.06\" y=\"-106.8\" font-family=\"Helvetica,sans-Serif\" font-size=\"14.00\">class = malignant</text>\n",
       "</g>\n",
       "<!-- 8&#45;&gt;12 -->\n",
       "<g id=\"edge12\" class=\"edge\">\n",
       "<title>8&#45;&gt;12</title>\n",
       "<path fill=\"none\" stroke=\"black\" d=\"M709.03,-213.93C726.32,-204.1 745.06,-193.45 762.78,-183.37\"/>\n",
       "<polygon fill=\"black\" stroke=\"black\" points=\"764.98,-186.14 771.94,-178.16 761.52,-180.06 764.98,-186.14\"/>\n",
       "</g>\n",
       "<!-- 10 -->\n",
       "<g id=\"node11\" class=\"node\">\n",
       "<title>10</title>\n",
       "<path fill=\"#399de5\" stroke=\"black\" d=\"M613.96,-64C613.96,-64 532.17,-64 532.17,-64 526.17,-64 520.17,-58 520.17,-52 520.17,-52 520.17,-12 520.17,-12 520.17,-6 526.17,0 532.17,0 532.17,0 613.96,0 613.96,0 619.96,0 625.96,-6 625.96,-12 625.96,-12 625.96,-52 625.96,-52 625.96,-58 619.96,-64 613.96,-64\"/>\n",
       "<text text-anchor=\"middle\" x=\"573.06\" y=\"-48.8\" font-family=\"Helvetica,sans-Serif\" font-size=\"14.00\">gini = 0.0</text>\n",
       "<text text-anchor=\"middle\" x=\"573.06\" y=\"-34.8\" font-family=\"Helvetica,sans-Serif\" font-size=\"14.00\">samples = 5</text>\n",
       "<text text-anchor=\"middle\" x=\"573.06\" y=\"-20.8\" font-family=\"Helvetica,sans-Serif\" font-size=\"14.00\">value = [0, 5]</text>\n",
       "<text text-anchor=\"middle\" x=\"573.06\" y=\"-6.8\" font-family=\"Helvetica,sans-Serif\" font-size=\"14.00\">class = benign</text>\n",
       "</g>\n",
       "<!-- 9&#45;&gt;10 -->\n",
       "<g id=\"edge10\" class=\"edge\">\n",
       "<title>9&#45;&gt;10</title>\n",
       "<path fill=\"none\" stroke=\"black\" d=\"M616.96,-99.8C611.12,-90.91 604.89,-81.43 599.01,-72.49\"/>\n",
       "<polygon fill=\"black\" stroke=\"black\" points=\"601.93,-70.55 593.51,-64.12 596.08,-74.4 601.93,-70.55\"/>\n",
       "</g>\n",
       "<!-- 11 -->\n",
       "<g id=\"node12\" class=\"node\">\n",
       "<title>11</title>\n",
       "<path fill=\"#e58139\" stroke=\"black\" d=\"M756.12,-64C756.12,-64 656.01,-64 656.01,-64 650.01,-64 644.01,-58 644.01,-52 644.01,-52 644.01,-12 644.01,-12 644.01,-6 650.01,0 656.01,0 656.01,0 756.12,0 756.12,0 762.12,0 768.12,-6 768.12,-12 768.12,-12 768.12,-52 768.12,-52 768.12,-58 762.12,-64 756.12,-64\"/>\n",
       "<text text-anchor=\"middle\" x=\"706.06\" y=\"-48.8\" font-family=\"Helvetica,sans-Serif\" font-size=\"14.00\">gini = 0.0</text>\n",
       "<text text-anchor=\"middle\" x=\"706.06\" y=\"-34.8\" font-family=\"Helvetica,sans-Serif\" font-size=\"14.00\">samples = 2</text>\n",
       "<text text-anchor=\"middle\" x=\"706.06\" y=\"-20.8\" font-family=\"Helvetica,sans-Serif\" font-size=\"14.00\">value = [2, 0]</text>\n",
       "<text text-anchor=\"middle\" x=\"706.06\" y=\"-6.8\" font-family=\"Helvetica,sans-Serif\" font-size=\"14.00\">class = malignant</text>\n",
       "</g>\n",
       "<!-- 9&#45;&gt;11 -->\n",
       "<g id=\"edge11\" class=\"edge\">\n",
       "<title>9&#45;&gt;11</title>\n",
       "<path fill=\"none\" stroke=\"black\" d=\"M665.35,-99.8C670.71,-91 676.43,-81.63 681.83,-72.76\"/>\n",
       "<polygon fill=\"black\" stroke=\"black\" points=\"684.88,-74.48 687.1,-64.12 678.9,-70.83 684.88,-74.48\"/>\n",
       "</g>\n",
       "<!-- 13 -->\n",
       "<g id=\"node14\" class=\"node\">\n",
       "<title>13</title>\n",
       "<path fill=\"#399de5\" stroke=\"black\" d=\"M879.96,-64C879.96,-64 798.17,-64 798.17,-64 792.17,-64 786.17,-58 786.17,-52 786.17,-52 786.17,-12 786.17,-12 786.17,-6 792.17,0 798.17,0 798.17,0 879.96,0 879.96,0 885.96,0 891.96,-6 891.96,-12 891.96,-12 891.96,-52 891.96,-52 891.96,-58 885.96,-64 879.96,-64\"/>\n",
       "<text text-anchor=\"middle\" x=\"839.06\" y=\"-48.8\" font-family=\"Helvetica,sans-Serif\" font-size=\"14.00\">gini = 0.0</text>\n",
       "<text text-anchor=\"middle\" x=\"839.06\" y=\"-34.8\" font-family=\"Helvetica,sans-Serif\" font-size=\"14.00\">samples = 2</text>\n",
       "<text text-anchor=\"middle\" x=\"839.06\" y=\"-20.8\" font-family=\"Helvetica,sans-Serif\" font-size=\"14.00\">value = [0, 2]</text>\n",
       "<text text-anchor=\"middle\" x=\"839.06\" y=\"-6.8\" font-family=\"Helvetica,sans-Serif\" font-size=\"14.00\">class = benign</text>\n",
       "</g>\n",
       "<!-- 12&#45;&gt;13 -->\n",
       "<g id=\"edge13\" class=\"edge\">\n",
       "<title>12&#45;&gt;13</title>\n",
       "<path fill=\"none\" stroke=\"black\" d=\"M839.06,-99.8C839.06,-91.46 839.06,-82.6 839.06,-74.15\"/>\n",
       "<polygon fill=\"black\" stroke=\"black\" points=\"842.56,-74.12 839.06,-64.12 835.56,-74.12 842.56,-74.12\"/>\n",
       "</g>\n",
       "<!-- 14 -->\n",
       "<g id=\"node15\" class=\"node\">\n",
       "<title>14</title>\n",
       "<path fill=\"#e58139\" stroke=\"black\" d=\"M1022.12,-64C1022.12,-64 922.01,-64 922.01,-64 916.01,-64 910.01,-58 910.01,-52 910.01,-52 910.01,-12 910.01,-12 910.01,-6 916.01,0 922.01,0 922.01,0 1022.12,0 1022.12,0 1028.12,0 1034.12,-6 1034.12,-12 1034.12,-12 1034.12,-52 1034.12,-52 1034.12,-58 1028.12,-64 1022.12,-64\"/>\n",
       "<text text-anchor=\"middle\" x=\"972.06\" y=\"-48.8\" font-family=\"Helvetica,sans-Serif\" font-size=\"14.00\">gini = 0.0</text>\n",
       "<text text-anchor=\"middle\" x=\"972.06\" y=\"-34.8\" font-family=\"Helvetica,sans-Serif\" font-size=\"14.00\">samples = 137</text>\n",
       "<text text-anchor=\"middle\" x=\"972.06\" y=\"-20.8\" font-family=\"Helvetica,sans-Serif\" font-size=\"14.00\">value = [137, 0]</text>\n",
       "<text text-anchor=\"middle\" x=\"972.06\" y=\"-6.8\" font-family=\"Helvetica,sans-Serif\" font-size=\"14.00\">class = malignant</text>\n",
       "</g>\n",
       "<!-- 12&#45;&gt;14 -->\n",
       "<g id=\"edge14\" class=\"edge\">\n",
       "<title>12&#45;&gt;14</title>\n",
       "<path fill=\"none\" stroke=\"black\" d=\"M887.46,-99.8C899.53,-90.27 912.46,-80.06 924.49,-70.56\"/>\n",
       "<polygon fill=\"black\" stroke=\"black\" points=\"926.97,-73.06 932.65,-64.12 922.63,-67.57 926.97,-73.06\"/>\n",
       "</g>\n",
       "</g>\n",
       "</svg>\n"
      ],
      "text/plain": [
       "<graphviz.files.Source at 0x10a4791d0>"
      ]
     },
     "execution_count": 32,
     "metadata": {},
     "output_type": "execute_result"
    }
   ],
   "source": [
    "with open('decisionTreeLimit.dot') as f:\n",
    "    dtdot_graph = f.read()\n",
    "\n",
    "dtdot_graph\n",
    "\n",
    "graphviz.Source(dtdot_graph)"
   ]
  },
  {
   "cell_type": "code",
   "execution_count": 36,
   "metadata": {},
   "outputs": [
    {
     "data": {
      "image/png": "[encoded data removed]",
      "text/plain": [
       "<Figure size 432x288 with 1 Axes>"
      ]
     },
     "metadata": {
      "needs_background": "light"
     },
     "output_type": "display_data"
    }
   ],
   "source": [
    "def plot_feature_importances_cancer_dataset(model):\n",
    "    n_features = cancer.data.shape[1]\n",
    "    plt.barh(range(n_features), model.feature_importances_, align='center')\n",
    "    plt.yticks(np.arange(n_features), cancer.feature_names)\n",
    "    plt.xlabel(\"feature importance\")\n",
    "    plt.ylabel(\"feature\")\n",
    "    plt.ylim(-1, n_features)\n",
    "    \n",
    "plot_feature_importances_cancer_dataset(dtreeLimit)\n",
    "\n",
    "#worst radius의 importance가 제일 큼"
   ]
  },
  {
   "cell_type": "markdown",
   "metadata": {},
   "source": [
    "# Random Forrest"
   ]
  },
  {
   "cell_type": "code",
   "execution_count": 3,
   "metadata": {},
   "outputs": [],
   "source": [
    "import numpy as np \n",
    "import pandas as pd "
   ]
  },
  {
   "cell_type": "code",
   "execution_count": 4,
   "metadata": {},
   "outputs": [],
   "source": [
    "df = pd.read_csv(\"AB_NYC_2019.csv\")"
   ]
  },
  {
   "cell_type": "code",
   "execution_count": 5,
   "metadata": {},
   "outputs": [
    {
     "data": {
      "text/plain": [
       "((48895, 16), (41765, 16))"
      ]
     },
     "execution_count": 5,
     "metadata": {},
     "output_type": "execute_result"
    }
   ],
   "source": [
    "# 브루클린, 맨하튼 숙소만 해볼거니까 이거만 추림\n",
    "our_set = df[df['neighbourhood_group'].isin(['Brooklyn', 'Manhattan'])]\n",
    "df.shape, our_set.shape,"
   ]
  },
  {
   "cell_type": "code",
   "execution_count": 6,
   "metadata": {},
   "outputs": [
    {
     "data": {
      "text/plain": [
       "{'Entire home/apt', 'Private room', 'Shared room'}"
      ]
     },
     "execution_count": 6,
     "metadata": {},
     "output_type": "execute_result"
    }
   ],
   "source": [
    "set(our_set['room_type'])"
   ]
  },
  {
   "cell_type": "code",
   "execution_count": 7,
   "metadata": {},
   "outputs": [
    {
     "data": {
      "text/html": [
       "<div>\n",
       "<style scoped>\n",
       "    .dataframe tbody tr th:only-of-type {\n",
       "        vertical-align: middle;\n",
       "    }\n",
       "\n",
       "    .dataframe tbody tr th {\n",
       "        vertical-align: top;\n",
       "    }\n",
       "\n",
       "    .dataframe thead th {\n",
       "        text-align: right;\n",
       "    }\n",
       "</style>\n",
       "<table border=\"1\" class=\"dataframe\">\n",
       "  <thead>\n",
       "    <tr style=\"text-align: right;\">\n",
       "      <th></th>\n",
       "      <th>Entire home/apt</th>\n",
       "      <th>Private room</th>\n",
       "      <th>Shared room</th>\n",
       "    </tr>\n",
       "  </thead>\n",
       "  <tbody>\n",
       "    <tr>\n",
       "      <td>0</td>\n",
       "      <td>0</td>\n",
       "      <td>1</td>\n",
       "      <td>0</td>\n",
       "    </tr>\n",
       "    <tr>\n",
       "      <td>1</td>\n",
       "      <td>1</td>\n",
       "      <td>0</td>\n",
       "      <td>0</td>\n",
       "    </tr>\n",
       "    <tr>\n",
       "      <td>2</td>\n",
       "      <td>0</td>\n",
       "      <td>1</td>\n",
       "      <td>0</td>\n",
       "    </tr>\n",
       "    <tr>\n",
       "      <td>3</td>\n",
       "      <td>1</td>\n",
       "      <td>0</td>\n",
       "      <td>0</td>\n",
       "    </tr>\n",
       "    <tr>\n",
       "      <td>4</td>\n",
       "      <td>1</td>\n",
       "      <td>0</td>\n",
       "      <td>0</td>\n",
       "    </tr>\n",
       "    <tr>\n",
       "      <td>...</td>\n",
       "      <td>...</td>\n",
       "      <td>...</td>\n",
       "      <td>...</td>\n",
       "    </tr>\n",
       "    <tr>\n",
       "      <td>48890</td>\n",
       "      <td>0</td>\n",
       "      <td>1</td>\n",
       "      <td>0</td>\n",
       "    </tr>\n",
       "    <tr>\n",
       "      <td>48891</td>\n",
       "      <td>0</td>\n",
       "      <td>1</td>\n",
       "      <td>0</td>\n",
       "    </tr>\n",
       "    <tr>\n",
       "      <td>48892</td>\n",
       "      <td>1</td>\n",
       "      <td>0</td>\n",
       "      <td>0</td>\n",
       "    </tr>\n",
       "    <tr>\n",
       "      <td>48893</td>\n",
       "      <td>0</td>\n",
       "      <td>0</td>\n",
       "      <td>1</td>\n",
       "    </tr>\n",
       "    <tr>\n",
       "      <td>48894</td>\n",
       "      <td>0</td>\n",
       "      <td>1</td>\n",
       "      <td>0</td>\n",
       "    </tr>\n",
       "  </tbody>\n",
       "</table>\n",
       "<p>41765 rows × 3 columns</p>\n",
       "</div>"
      ],
      "text/plain": [
       "       Entire home/apt  Private room  Shared room\n",
       "0                    0             1            0\n",
       "1                    1             0            0\n",
       "2                    0             1            0\n",
       "3                    1             0            0\n",
       "4                    1             0            0\n",
       "...                ...           ...          ...\n",
       "48890                0             1            0\n",
       "48891                0             1            0\n",
       "48892                1             0            0\n",
       "48893                0             0            1\n",
       "48894                0             1            0\n",
       "\n",
       "[41765 rows x 3 columns]"
      ]
     },
     "execution_count": 7,
     "metadata": {},
     "output_type": "execute_result"
    }
   ],
   "source": [
    "onehot = pd.get_dummies(our_set['room_type'])\n",
    "onehot"
   ]
  },
  {
   "cell_type": "code",
   "execution_count": 8,
   "metadata": {},
   "outputs": [
    {
     "data": {
      "text/html": [
       "<div>\n",
       "<style scoped>\n",
       "    .dataframe tbody tr th:only-of-type {\n",
       "        vertical-align: middle;\n",
       "    }\n",
       "\n",
       "    .dataframe tbody tr th {\n",
       "        vertical-align: top;\n",
       "    }\n",
       "\n",
       "    .dataframe thead th {\n",
       "        text-align: right;\n",
       "    }\n",
       "</style>\n",
       "<table border=\"1\" class=\"dataframe\">\n",
       "  <thead>\n",
       "    <tr style=\"text-align: right;\">\n",
       "      <th></th>\n",
       "      <th>index</th>\n",
       "      <th>neighbourhood_group</th>\n",
       "      <th>price</th>\n",
       "      <th>minimum_nights</th>\n",
       "      <th>number_of_reviews</th>\n",
       "      <th>reviews_per_month</th>\n",
       "      <th>Entire home/apt</th>\n",
       "      <th>Private room</th>\n",
       "      <th>Shared room</th>\n",
       "    </tr>\n",
       "  </thead>\n",
       "  <tbody>\n",
       "    <tr>\n",
       "      <td>0</td>\n",
       "      <td>0</td>\n",
       "      <td>Brooklyn</td>\n",
       "      <td>149</td>\n",
       "      <td>1</td>\n",
       "      <td>9</td>\n",
       "      <td>0.21</td>\n",
       "      <td>0</td>\n",
       "      <td>1</td>\n",
       "      <td>0</td>\n",
       "    </tr>\n",
       "    <tr>\n",
       "      <td>1</td>\n",
       "      <td>1</td>\n",
       "      <td>Manhattan</td>\n",
       "      <td>225</td>\n",
       "      <td>1</td>\n",
       "      <td>45</td>\n",
       "      <td>0.38</td>\n",
       "      <td>1</td>\n",
       "      <td>0</td>\n",
       "      <td>0</td>\n",
       "    </tr>\n",
       "    <tr>\n",
       "      <td>2</td>\n",
       "      <td>2</td>\n",
       "      <td>Manhattan</td>\n",
       "      <td>150</td>\n",
       "      <td>3</td>\n",
       "      <td>0</td>\n",
       "      <td>NaN</td>\n",
       "      <td>0</td>\n",
       "      <td>1</td>\n",
       "      <td>0</td>\n",
       "    </tr>\n",
       "    <tr>\n",
       "      <td>3</td>\n",
       "      <td>3</td>\n",
       "      <td>Brooklyn</td>\n",
       "      <td>89</td>\n",
       "      <td>1</td>\n",
       "      <td>270</td>\n",
       "      <td>4.64</td>\n",
       "      <td>1</td>\n",
       "      <td>0</td>\n",
       "      <td>0</td>\n",
       "    </tr>\n",
       "    <tr>\n",
       "      <td>4</td>\n",
       "      <td>4</td>\n",
       "      <td>Manhattan</td>\n",
       "      <td>80</td>\n",
       "      <td>10</td>\n",
       "      <td>9</td>\n",
       "      <td>0.10</td>\n",
       "      <td>1</td>\n",
       "      <td>0</td>\n",
       "      <td>0</td>\n",
       "    </tr>\n",
       "  </tbody>\n",
       "</table>\n",
       "</div>"
      ],
      "text/plain": [
       "   index neighbourhood_group  price  minimum_nights  number_of_reviews  \\\n",
       "0      0            Brooklyn    149               1                  9   \n",
       "1      1           Manhattan    225               1                 45   \n",
       "2      2           Manhattan    150               3                  0   \n",
       "3      3            Brooklyn     89               1                270   \n",
       "4      4           Manhattan     80              10                  9   \n",
       "\n",
       "   reviews_per_month  Entire home/apt  Private room  Shared room  \n",
       "0               0.21                0             1            0  \n",
       "1               0.38                1             0            0  \n",
       "2                NaN                0             1            0  \n",
       "3               4.64                1             0            0  \n",
       "4               0.10                1             0            0  "
      ]
     },
     "execution_count": 8,
     "metadata": {},
     "output_type": "execute_result"
    }
   ],
   "source": [
    "# 핵심 컬럼만 뽑음 + 더미변수까지 결합\n",
    "core_cols = our_set[['neighbourhood_group', 'price', 'minimum_nights', 'number_of_reviews', 'reviews_per_month']]\n",
    "combined = core_cols.merge(onehot, left_index=True, right_index=True, how='left').reset_index()\n",
    "combined.head()"
   ]
  },
  {
   "cell_type": "code",
   "execution_count": 9,
   "metadata": {},
   "outputs": [
    {
     "data": {
      "text/plain": [
       "(33079, 8)"
      ]
     },
     "execution_count": 9,
     "metadata": {},
     "output_type": "execute_result"
    }
   ],
   "source": [
    "final = combined.drop(columns=['index']).dropna() # 인덱스가 중복되어있으므로 버리고, 편의상 na도 다 버림\n",
    "final.shape"
   ]
  },
  {
   "cell_type": "code",
   "execution_count": 10,
   "metadata": {},
   "outputs": [],
   "source": [
    "final = final.replace('Brooklyn', 0).replace('Manhattan', 1)  # brooklyn은 0, manhattan은 1로 바"
   ]
  },
  {
   "cell_type": "code",
   "execution_count": 11,
   "metadata": {},
   "outputs": [
    {
     "name": "stdout",
     "output_type": "stream",
     "text": [
      "16447 16632 33079\n"
     ]
    }
   ],
   "source": [
    "bk = len(final[final['neighbourhood_group']==0])\n",
    "mh = len(final[final['neighbourhood_group']==1])\n",
    "tt = len(final)\n",
    "print(bk, mh, tt) # 브루클린 건은 16447, 맨하탄 건은 16632건, 총 33079건"
   ]
  },
  {
   "cell_type": "code",
   "execution_count": 12,
   "metadata": {},
   "outputs": [
    {
     "data": {
      "text/plain": [
       "920"
      ]
     },
     "execution_count": 12,
     "metadata": {},
     "output_type": "execute_result"
    }
   ],
   "source": [
    "import random\n",
    "\n",
    "random_seed = random.randint(0,1000)\n",
    "random_seed"
   ]
  },
  {
   "cell_type": "code",
   "execution_count": 13,
   "metadata": {},
   "outputs": [],
   "source": [
    "from sklearn.model_selection import train_test_split\n",
    "\n",
    "X_train, X_test, y_train, y_test = train_test_split(final[['price', 'minimum_nights', 'number_of_reviews', 'reviews_per_month']], final['neighbourhood_group'], \n",
    "                                                    test_size=0.25, random_state=random_seed)"
   ]
  },
  {
   "cell_type": "markdown",
   "metadata": {},
   "source": [
    "##  DT"
   ]
  },
  {
   "cell_type": "code",
   "execution_count": 45,
   "metadata": {},
   "outputs": [],
   "source": [
    "dtroom = DecisionTreeClassifier(random_state= random_seed)"
   ]
  },
  {
   "cell_type": "code",
   "execution_count": 51,
   "metadata": {},
   "outputs": [],
   "source": [
    "from sklearn.metrics import accuracy_score\n",
    "import time"
   ]
  },
  {
   "cell_type": "code",
   "execution_count": 52,
   "metadata": {},
   "outputs": [
    {
     "name": "stdout",
     "output_type": "stream",
     "text": [
      "걸린시간은 0.01초입니다.\n"
     ]
    }
   ],
   "source": [
    "t0 = time.time()\n",
    "dtroom.fit(X_train, y_train)\n",
    "elapsed = time.time()-t0\n",
    "print(\"걸린시간은 {:.2f}초입니다.\".format(elapsed))"
   ]
  },
  {
   "cell_type": "code",
   "execution_count": 53,
   "metadata": {},
   "outputs": [
    {
     "name": "stdout",
     "output_type": "stream",
     "text": [
      "Mean accuracy score: 94.7%\n"
     ]
    }
   ],
   "source": [
    "prediction0 = dtroom.predict(X_test)\n",
    "### 채점\n",
    "accuracy = accuracy_score(y_test, prediction0)#맞는지 아닌지 비교해보겠다는거에요\n",
    "### 성적 발표\n",
    "print(f'Mean accuracy score: {100*accuracy:.3}%')"
   ]
  },
  {
   "cell_type": "code",
   "execution_count": 55,
   "metadata": {},
   "outputs": [],
   "source": [
    "dtroom1 = DecisionTreeClassifier(max_depth = 5, random_state= random_seed)"
   ]
  },
  {
   "cell_type": "code",
   "execution_count": 58,
   "metadata": {},
   "outputs": [
    {
     "name": "stdout",
     "output_type": "stream",
     "text": [
      "걸린시간은 0.01초입니다.\n"
     ]
    }
   ],
   "source": [
    "t1 = time.time()\n",
    "dtroom1.fit(X_train, y_train)\n",
    "elapsed = time.time()-t1\n",
    "print(\"걸린시간은 {:.2f}초입니다.\".format(elapsed))"
   ]
  },
  {
   "cell_type": "code",
   "execution_count": 59,
   "metadata": {},
   "outputs": [
    {
     "name": "stdout",
     "output_type": "stream",
     "text": [
      "Mean accuracy score: 95.6%\n"
     ]
    }
   ],
   "source": [
    "prediction1 = dtroom1.predict(X_test)\n",
    "### 채점\n",
    "accuracy = accuracy_score(y_test, prediction1)#맞는지 아닌지 비교해보겠다는거에요\n",
    "### 성적 발표\n",
    "print(f'Mean accuracy score: {100*accuracy:.3}%')"
   ]
  },
  {
   "cell_type": "markdown",
   "metadata": {},
   "source": [
    "## SVM"
   ]
  },
  {
   "cell_type": "code",
   "execution_count": 65,
   "metadata": {},
   "outputs": [],
   "source": [
    "from sklearn.model_selection import train_test_split\n",
    "\n",
    "X_train, X_test, y_train, y_test = train_test_split(final[['price', 'minimum_nights', 'number_of_reviews', 'reviews_per_month']], final['neighbourhood_group'], \n",
    "                                                    test_size=0.25, random_state=random_seed)"
   ]
  },
  {
   "cell_type": "code",
   "execution_count": 71,
   "metadata": {},
   "outputs": [
    {
     "name": "stdout",
     "output_type": "stream",
     "text": [
      "걸린시간은 67.60초입니다.\n"
     ]
    }
   ],
   "source": [
    "from sklearn.svm import SVC\n",
    "from sklearn.pipeline import Pipeline\n",
    "from sklearn.preprocessing import StandardScaler \n",
    "import time\n",
    "\n",
    "### 학습 진행\n",
    "clf1= SVC(kernel='rbf', C=10.0, random_state=random_seed, gamma=0.10)\n",
    "\n",
    "t0 = time.time()\n",
    "clf1.fit(X_train, y_train)\n",
    "elapsed = time.time()-t0\n",
    "print(\"걸린시간은 {:.2f}초입니다.\".format(elapsed))"
   ]
  },
  {
   "cell_type": "code",
   "execution_count": 72,
   "metadata": {},
   "outputs": [
    {
     "name": "stdout",
     "output_type": "stream",
     "text": [
      "Mean accuracy score: 58.5%\n"
     ]
    }
   ],
   "source": [
    "prediction1 = clf1.predict(X_test)\n",
    "### 채점\n",
    "accuracy = accuracy_score(y_test, prediction1)#맞는지 아닌지 비교해보겠다는거에요\n",
    "### 성적 발표\n",
    "print(f'Mean accuracy score: {100*accuracy:.3}%')"
   ]
  },
  {
   "cell_type": "code",
   "execution_count": 73,
   "metadata": {},
   "outputs": [
    {
     "name": "stdout",
     "output_type": "stream",
     "text": [
      "걸린시간은 32.44초입니다.\n"
     ]
    }
   ],
   "source": [
    "clf2= SVC(kernel='rbf', C=100.0, random_state=random_seed, gamma=10)\n",
    "\n",
    "\n",
    "t1 = time.time()\n",
    "clf2.fit(X_train, y_train)\n",
    "elapsed = time.time()-t1\n",
    "print(\"걸린시간은 {:.2f}초입니다.\".format(elapsed))"
   ]
  },
  {
   "cell_type": "code",
   "execution_count": 74,
   "metadata": {},
   "outputs": [
    {
     "name": "stdout",
     "output_type": "stream",
     "text": [
      "Mean accuracy score: 53.2%\n"
     ]
    }
   ],
   "source": [
    "prediction2 = clf2.predict(X_test)\n",
    "### 채점\n",
    "accuracy = accuracy_score(y_test, prediction2)#맞는지 아닌지 비교해보겠다는거에요\n",
    "### 성적 발표\n",
    "print(f'Mean accuracy score: {100*accuracy:.3}%')"
   ]
  },
  {
   "cell_type": "code",
   "execution_count": 81,
   "metadata": {},
   "outputs": [
    {
     "name": "stdout",
     "output_type": "stream",
     "text": [
      "걸린시간은 20.87초입니다.\n"
     ]
    }
   ],
   "source": [
    "clf3= SVC(kernel='rbf', C=1.0, random_state=random_seed, gamma=0.0010)\n",
    "\n",
    "\n",
    "t2 = time.time()\n",
    "clf3.fit(X_train, y_train)\n",
    "elapsed = time.time()-t2\n",
    "print(\"걸린시간은 {:.2f}초입니다.\".format(elapsed))"
   ]
  },
  {
   "cell_type": "code",
   "execution_count": 82,
   "metadata": {},
   "outputs": [
    {
     "name": "stdout",
     "output_type": "stream",
     "text": [
      "Mean accuracy score: 63.1%\n"
     ]
    }
   ],
   "source": [
    "prediction3 = clf3.predict(X_test)\n",
    "### 채점\n",
    "accuracy = accuracy_score(y_test, prediction3)#맞는지 아닌지 비교해보겠다는거에요\n",
    "### 성적 발표\n",
    "print(f'Mean accuracy score: {100*accuracy:.3}%')"
   ]
  },
  {
   "cell_type": "markdown",
   "metadata": {},
   "source": [
    "## XGBoost"
   ]
  },
  {
   "cell_type": "code",
   "execution_count": null,
   "metadata": {},
   "outputs": [],
   "source": [
    "#gbm보다 빠르다\n",
    "#분류와 회귀 둘다 가능\n",
    "#기반은 gradient boost\n",
    "#다른 점은 과적합을 방지하기 위한 규제가 있다는 점"
   ]
  },
  {
   "cell_type": "code",
   "execution_count": 119,
   "metadata": {},
   "outputs": [
    {
     "ename": "ModuleNotFoundError",
     "evalue": "No module named 'xgboost'",
     "output_type": "error",
     "traceback": [
      "\u001b[0;31m---------------------------------------------------------------------------\u001b[0m",
      "\u001b[0;31mModuleNotFoundError\u001b[0m                       Traceback (most recent call last)",
      "\u001b[0;32m<ipython-input-119-e528dc1a32ff>\u001b[0m in \u001b[0;36m<module>\u001b[0;34m\u001b[0m\n\u001b[0;32m----> 1\u001b[0;31m \u001b[0;32mimport\u001b[0m \u001b[0mxgboost\u001b[0m\u001b[0;34m\u001b[0m\u001b[0;34m\u001b[0m\u001b[0m\n\u001b[0m",
      "\u001b[0;31mModuleNotFoundError\u001b[0m: No module named 'xgboost'"
     ]
    }
   ],
   "source": [
    "import xgboost"
   ]
  },
  {
   "cell_type": "code",
   "execution_count": 120,
   "metadata": {},
   "outputs": [],
   "source": [
    "#저 이거 열심히 설치해보려고 ㅠㅠㅠ 인터넷에도 찾아봤는데 \n",
    "#conda install, pip install conda 가상환경에서 설치 \n",
    "# 다안돼서ㅠㅠㅠㅠㅠㅠㅠㅠㅠ휴ㅠ"
   ]
  },
  {
   "cell_type": "code",
   "execution_count": null,
   "metadata": {},
   "outputs": [],
   "source": []
  }
 ],
 "metadata": {
  "kernelspec": {
   "display_name": "Python 3",
   "language": "python",
   "name": "python3"
  },
  "language_info": {
   "codemirror_mode": {
    "name": "ipython",
    "version": 3
   },
   "file_extension": ".py",
   "mimetype": "text/x-python",
   "name": "python",
   "nbconvert_exporter": "python",
   "pygments_lexer": "ipython3",
   "version": "3.7.4"
  }
 },
 "nbformat": 4,
 "nbformat_minor": 2
}
